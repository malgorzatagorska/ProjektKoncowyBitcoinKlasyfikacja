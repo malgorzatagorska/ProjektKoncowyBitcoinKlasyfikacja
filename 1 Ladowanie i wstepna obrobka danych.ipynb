{
 "cells": [
  {
   "cell_type": "markdown",
   "source": [
    "1. Ładowanie i wstępna obróbka danych"
   ],
   "metadata": {
    "collapsed": false
   }
  },
  {
   "cell_type": "code",
   "execution_count": 1,
   "outputs": [],
   "source": [
    "import pandas as pd"
   ],
   "metadata": {
    "collapsed": false,
    "ExecuteTime": {
     "end_time": "2023-05-27T11:53:30.950308500Z",
     "start_time": "2023-05-27T11:53:30.042279100Z"
    }
   }
  },
  {
   "cell_type": "markdown",
   "source": [
    "1.1. Wczytanie danych z plików do dataframe"
   ],
   "metadata": {
    "collapsed": false
   }
  },
  {
   "cell_type": "code",
   "execution_count": 2,
   "outputs": [],
   "source": [
    "twitter_path = 'C:\\\\Users\\\\atago\\\\PycharmProjects\\\\ProjektKoncowy\\\\datasets\\\\tweets.csv'\n",
    "bitcoin_path = 'C:\\\\Users\\\\atago\\\\PycharmProjects\\\\ProjektKoncowy\\\\datasets\\\\BTC-USD.csv'"
   ],
   "metadata": {
    "collapsed": false,
    "ExecuteTime": {
     "end_time": "2023-05-27T11:53:45.626935900Z",
     "start_time": "2023-05-27T11:53:45.567972400Z"
    }
   }
  },
  {
   "cell_type": "markdown",
   "source": [
    "Wczytanie danych z twittera (chunki danych)\n",
    "Ograniczenie czasowe (dla optymalizacji ładowania, wynika z przeprowadzonych testów):\n",
    "'2014-09-17' - '2019-05-27'"
   ],
   "metadata": {
    "collapsed": false
   }
  },
  {
   "cell_type": "code",
   "execution_count": 3,
   "outputs": [],
   "source": [
    "# Ograniczenie liczby wczytywanych kolumn\n",
    "usecols_twitter = ['timestamp', 'text']\n",
    "dtype_mapping = {\n",
    "    'timestamp': str,\n",
    "    'text': str\n",
    "}\n",
    "\n",
    "# Wczytaj dane z pliku, ale nie wczytuj wszystkich chunków na raz\n",
    "data = pd.read_csv(twitter_path, sep=';', usecols=usecols_twitter, dtype=dtype_mapping, chunksize=100000, engine='python', parse_dates=['timestamp'])\n",
    "\n",
    "# Inicjalizuj pustą listę, która będzie przechowywać filtrowane chunki danych\n",
    "filtered_data = []\n",
    "\n",
    "# Iteruj przez chunki danych i wybierz tylko te z odpowiednim zakresem dat\n",
    "for chunk in data:\n",
    "    filtered_chunk = chunk[(chunk['timestamp'] >= '2014-09-17') & (chunk['timestamp'] <= '2019-05-27')]\n",
    "    filtered_data.append(filtered_chunk)\n",
    "\n",
    "# Po zakończeniu iteracji, połącz wszystkie filtrowane chunki w jedną ramkę danych\n",
    "df_t = pd.concat(filtered_data)"
   ],
   "metadata": {
    "collapsed": false,
    "ExecuteTime": {
     "end_time": "2023-05-27T12:02:52.741309Z",
     "start_time": "2023-05-27T11:53:50.968731400Z"
    }
   }
  },
  {
   "cell_type": "code",
   "execution_count": 4,
   "outputs": [],
   "source": [
    "# konwersja timestamp do daty\n",
    "df_t['timestamp'] = pd.to_datetime(df_t['timestamp'])\n",
    "df_t['Date'] = df_t['timestamp'].dt.strftime('%Y-%m-%d')\n",
    "df_t.drop(['timestamp'], axis=1, inplace=True)"
   ],
   "metadata": {
    "collapsed": false,
    "ExecuteTime": {
     "end_time": "2023-05-27T12:05:45.674802300Z",
     "start_time": "2023-05-27T12:04:20.416611900Z"
    }
   }
  },
  {
   "cell_type": "code",
   "execution_count": 5,
   "outputs": [],
   "source": [
    "#zamiana kolejności kolumn\n",
    "column1 = 'Date'\n",
    "column2 = 'text'\n",
    "colnames = df_t.columns.tolist()\n",
    "index1, index2 = colnames.index(column1), colnames.index(column2)\n",
    "colnames[index2], colnames[index1] = colnames[index1], colnames[index2]\n",
    "df_t = df_t[colnames]"
   ],
   "metadata": {
    "collapsed": false,
    "ExecuteTime": {
     "end_time": "2023-05-27T12:18:00.058468200Z",
     "start_time": "2023-05-27T12:17:59.074964200Z"
    }
   }
  },
  {
   "cell_type": "code",
   "execution_count": 6,
   "outputs": [
    {
     "data": {
      "text/plain": "          Date                                               text\n11  2019-05-21  BTC IS STILL GOING STRONG!!\\n\\nThus, we are gi...\n12  2019-05-22  BestMixer has been seized by the Dutch Police ...\n15  2019-05-10                                              share\n20  2019-05-26  $HOT $HOT $HOT 🍀\\n\\n🚀🚀🚀🚀🚀\\n\\n🔥🔥🔥🔥🔥 https://t.c...\n22  2019-05-02  https://t.co/Ip0ph8uZYn\\n\\n#cryptocurrency #dr...",
      "text/html": "<div>\n<style scoped>\n    .dataframe tbody tr th:only-of-type {\n        vertical-align: middle;\n    }\n\n    .dataframe tbody tr th {\n        vertical-align: top;\n    }\n\n    .dataframe thead th {\n        text-align: right;\n    }\n</style>\n<table border=\"1\" class=\"dataframe\">\n  <thead>\n    <tr style=\"text-align: right;\">\n      <th></th>\n      <th>Date</th>\n      <th>text</th>\n    </tr>\n  </thead>\n  <tbody>\n    <tr>\n      <th>11</th>\n      <td>2019-05-21</td>\n      <td>BTC IS STILL GOING STRONG!!\\n\\nThus, we are gi...</td>\n    </tr>\n    <tr>\n      <th>12</th>\n      <td>2019-05-22</td>\n      <td>BestMixer has been seized by the Dutch Police ...</td>\n    </tr>\n    <tr>\n      <th>15</th>\n      <td>2019-05-10</td>\n      <td>share</td>\n    </tr>\n    <tr>\n      <th>20</th>\n      <td>2019-05-26</td>\n      <td>$HOT $HOT $HOT 🍀\\n\\n🚀🚀🚀🚀🚀\\n\\n🔥🔥🔥🔥🔥 https://t.c...</td>\n    </tr>\n    <tr>\n      <th>22</th>\n      <td>2019-05-02</td>\n      <td>https://t.co/Ip0ph8uZYn\\n\\n#cryptocurrency #dr...</td>\n    </tr>\n  </tbody>\n</table>\n</div>"
     },
     "execution_count": 6,
     "metadata": {},
     "output_type": "execute_result"
    }
   ],
   "source": [
    "df_t.head()"
   ],
   "metadata": {
    "collapsed": false,
    "ExecuteTime": {
     "end_time": "2023-05-27T12:18:07.574869800Z",
     "start_time": "2023-05-27T12:18:07.458366Z"
    }
   }
  },
  {
   "cell_type": "markdown",
   "source": [
    "Wczytanie danych bitcoina"
   ],
   "metadata": {
    "collapsed": false
   }
  },
  {
   "cell_type": "code",
   "execution_count": 7,
   "outputs": [],
   "source": [
    "# Wczytanie datasetu z ceną Bitcoina i zmiana nazw kolumn\n",
    "usecols_bitcoin = ['Date', 'Adj Close']\n",
    "df_b = pd.read_csv(bitcoin_path, sep =',', usecols=usecols_bitcoin, encoding='utf-8')\n",
    "df_b.rename(columns={'Adj Close': 'bitcoin_price'}, inplace=True)"
   ],
   "metadata": {
    "collapsed": false,
    "ExecuteTime": {
     "end_time": "2023-05-27T12:18:10.841579900Z",
     "start_time": "2023-05-27T12:18:10.751994300Z"
    }
   }
  },
  {
   "cell_type": "markdown",
   "source": [
    "Czyszczenie duplikatów i pustych wierszy w zbiorze twitter"
   ],
   "metadata": {
    "collapsed": false
   }
  },
  {
   "cell_type": "code",
   "execution_count": 8,
   "outputs": [
    {
     "name": "stdout",
     "output_type": "stream",
     "text": [
      "Na values count: 722\n",
      "Duplicated values count: 375006\n"
     ]
    }
   ],
   "source": [
    "na_count = df_t['text'].isna().sum()\n",
    "duplicates_count = df_t['text'].duplicated().sum()\n",
    "print(f'Na values count: {na_count}')\n",
    "print(f'Duplicated values count: {duplicates_count}')"
   ],
   "metadata": {
    "collapsed": false,
    "ExecuteTime": {
     "end_time": "2023-05-27T12:18:16.308138100Z",
     "start_time": "2023-05-27T12:18:12.949218Z"
    }
   }
  },
  {
   "cell_type": "code",
   "execution_count": 9,
   "outputs": [],
   "source": [
    "# Czyszczenie duplikatów\n",
    "duplicates = df_t['text'].duplicated()\n",
    "df_t = df_t.drop_duplicates(subset=['text'])\n",
    "# Czyszczenie pustych wierszy\n",
    "df_t.dropna(subset=['text'], inplace=True)"
   ],
   "metadata": {
    "collapsed": false,
    "ExecuteTime": {
     "end_time": "2023-05-27T12:18:42.558455300Z",
     "start_time": "2023-05-27T12:18:35.174717500Z"
    }
   }
  },
  {
   "cell_type": "markdown",
   "source": [
    "Dodanie kolumny z trendem ceny bitcoina"
   ],
   "metadata": {
    "collapsed": false
   }
  },
  {
   "cell_type": "code",
   "execution_count": 10,
   "outputs": [],
   "source": [
    "def get_trend(df):\n",
    "    df['bitcoin_trend'] = df['bitcoin_price'].shift(-1) - df['bitcoin_price']\n",
    "    df['bitcoin_trend'] = df['bitcoin_trend'].apply(lambda x: 1 if x > 0 else (-1 if x < 0 else 0))\n",
    "    return df"
   ],
   "metadata": {
    "collapsed": false,
    "ExecuteTime": {
     "end_time": "2023-05-27T12:18:50.624998200Z",
     "start_time": "2023-05-27T12:18:50.609369800Z"
    }
   }
  },
  {
   "cell_type": "code",
   "execution_count": 11,
   "outputs": [
    {
     "name": "stdout",
     "output_type": "stream",
     "text": [
      "[-1  1]\n"
     ]
    }
   ],
   "source": [
    "#dodanie bitcoin_trend i usunięcie wierszy z wartością 0\n",
    "get_trend(df_b)\n",
    "df_b = df_b[df_b['bitcoin_trend'] != 0]\n",
    "print(df_b['bitcoin_trend'].unique())"
   ],
   "metadata": {
    "collapsed": false,
    "ExecuteTime": {
     "end_time": "2023-05-27T12:18:51.707977600Z",
     "start_time": "2023-05-27T12:18:51.612767300Z"
    }
   }
  },
  {
   "cell_type": "markdown",
   "source": [
    "Połączenie zbiorów danych po dacie"
   ],
   "metadata": {
    "collapsed": false
   }
  },
  {
   "cell_type": "code",
   "execution_count": 12,
   "outputs": [],
   "source": [
    "data = df_t.merge(df_b, on = 'Date', how = 'inner', left_index=False)"
   ],
   "metadata": {
    "collapsed": false,
    "ExecuteTime": {
     "end_time": "2023-05-27T12:18:57.691575400Z",
     "start_time": "2023-05-27T12:18:56.263664100Z"
    }
   }
  },
  {
   "cell_type": "code",
   "execution_count": 13,
   "outputs": [
    {
     "data": {
      "text/plain": "         Date                                               text   \n0  2019-05-21  BTC IS STILL GOING STRONG!!\\n\\nThus, we are gi...  \\\n1  2019-05-21  IDAX #Japan #エアドロップ\\n\\n海外取引所 #IDAX 日本語アカウントのオー...   \n2  2019-05-21  Multiply your Bitcoin and Ethereum:  https://t...   \n3  2019-05-21  Game of DOGEs begun! Become a champion of the ...   \n4  2019-05-21  $BTC levels \\n\\nSupport: 7600, 7200, 6800, 640...   \n\n   bitcoin_price  bitcoin_trend  \n0    7963.327637             -1  \n1    7963.327637             -1  \n2    7963.327637             -1  \n3    7963.327637             -1  \n4    7963.327637             -1  ",
      "text/html": "<div>\n<style scoped>\n    .dataframe tbody tr th:only-of-type {\n        vertical-align: middle;\n    }\n\n    .dataframe tbody tr th {\n        vertical-align: top;\n    }\n\n    .dataframe thead th {\n        text-align: right;\n    }\n</style>\n<table border=\"1\" class=\"dataframe\">\n  <thead>\n    <tr style=\"text-align: right;\">\n      <th></th>\n      <th>Date</th>\n      <th>text</th>\n      <th>bitcoin_price</th>\n      <th>bitcoin_trend</th>\n    </tr>\n  </thead>\n  <tbody>\n    <tr>\n      <th>0</th>\n      <td>2019-05-21</td>\n      <td>BTC IS STILL GOING STRONG!!\\n\\nThus, we are gi...</td>\n      <td>7963.327637</td>\n      <td>-1</td>\n    </tr>\n    <tr>\n      <th>1</th>\n      <td>2019-05-21</td>\n      <td>IDAX #Japan #エアドロップ\\n\\n海外取引所 #IDAX 日本語アカウントのオー...</td>\n      <td>7963.327637</td>\n      <td>-1</td>\n    </tr>\n    <tr>\n      <th>2</th>\n      <td>2019-05-21</td>\n      <td>Multiply your Bitcoin and Ethereum:  https://t...</td>\n      <td>7963.327637</td>\n      <td>-1</td>\n    </tr>\n    <tr>\n      <th>3</th>\n      <td>2019-05-21</td>\n      <td>Game of DOGEs begun! Become a champion of the ...</td>\n      <td>7963.327637</td>\n      <td>-1</td>\n    </tr>\n    <tr>\n      <th>4</th>\n      <td>2019-05-21</td>\n      <td>$BTC levels \\n\\nSupport: 7600, 7200, 6800, 640...</td>\n      <td>7963.327637</td>\n      <td>-1</td>\n    </tr>\n  </tbody>\n</table>\n</div>"
     },
     "execution_count": 13,
     "metadata": {},
     "output_type": "execute_result"
    }
   ],
   "source": [
    "data.head()"
   ],
   "metadata": {
    "collapsed": false,
    "ExecuteTime": {
     "end_time": "2023-05-27T12:19:25.191523Z",
     "start_time": "2023-05-27T12:19:25.118942Z"
    }
   }
  },
  {
   "cell_type": "code",
   "execution_count": 14,
   "outputs": [
    {
     "name": "stdout",
     "output_type": "stream",
     "text": [
      "<class 'pandas.core.frame.DataFrame'>\n",
      "RangeIndex: 3932611 entries, 0 to 3932610\n",
      "Data columns (total 4 columns):\n",
      " #   Column         Dtype  \n",
      "---  ------         -----  \n",
      " 0   Date           object \n",
      " 1   text           object \n",
      " 2   bitcoin_price  float64\n",
      " 3   bitcoin_trend  int64  \n",
      "dtypes: float64(1), int64(1), object(2)\n",
      "memory usage: 120.0+ MB\n"
     ]
    }
   ],
   "source": [
    "data.info()"
   ],
   "metadata": {
    "collapsed": false,
    "ExecuteTime": {
     "end_time": "2023-05-27T12:19:26.725070800Z",
     "start_time": "2023-05-27T12:19:26.674987800Z"
    }
   }
  },
  {
   "cell_type": "markdown",
   "source": [
    "1.2. Wczytanie danych po wstępnej obróbce do pliku"
   ],
   "metadata": {
    "collapsed": false
   }
  },
  {
   "cell_type": "code",
   "execution_count": 15,
   "outputs": [],
   "source": [
    "data.to_csv('data_after_preparation.csv', index=False)"
   ],
   "metadata": {
    "collapsed": false,
    "ExecuteTime": {
     "end_time": "2023-05-27T12:20:10.091720900Z",
     "start_time": "2023-05-27T12:19:29.268015800Z"
    }
   }
  },
  {
   "cell_type": "code",
   "execution_count": null,
   "outputs": [],
   "source": [],
   "metadata": {
    "collapsed": false
   }
  }
 ],
 "metadata": {
  "kernelspec": {
   "display_name": "Python 3",
   "language": "python",
   "name": "python3"
  },
  "language_info": {
   "codemirror_mode": {
    "name": "ipython",
    "version": 2
   },
   "file_extension": ".py",
   "mimetype": "text/x-python",
   "name": "python",
   "nbconvert_exporter": "python",
   "pygments_lexer": "ipython2",
   "version": "2.7.6"
  }
 },
 "nbformat": 4,
 "nbformat_minor": 0
}
