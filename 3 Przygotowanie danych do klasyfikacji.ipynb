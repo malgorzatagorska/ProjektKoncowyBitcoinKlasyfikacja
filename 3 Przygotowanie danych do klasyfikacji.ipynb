{
 "cells": [
  {
   "cell_type": "markdown",
   "source": [
    "3 Przygotowanie danych do klasyfikacji"
   ],
   "metadata": {
    "collapsed": false
   }
  },
  {
   "cell_type": "code",
   "execution_count": 1,
   "outputs": [
    {
     "name": "stderr",
     "output_type": "stream",
     "text": [
      "[nltk_data] Downloading package stopwords to\n",
      "[nltk_data]     C:\\Users\\atago\\AppData\\Roaming\\nltk_data...\n",
      "[nltk_data]   Package stopwords is already up-to-date!\n"
     ]
    }
   ],
   "source": [
    "import pandas as pd\n",
    "import string\n",
    "from sklearn.base import BaseEstimator, TransformerMixin\n",
    "import nltk\n",
    "nltk.download('stopwords')\n",
    "from nltk import PorterStemmer\n",
    "from sklearn.pipeline import Pipeline\n",
    "from random import randint"
   ],
   "metadata": {
    "collapsed": false,
    "ExecuteTime": {
     "end_time": "2023-05-27T12:22:15.208309600Z",
     "start_time": "2023-05-27T12:21:55.041347300Z"
    }
   }
  },
  {
   "cell_type": "markdown",
   "source": [
    "3.1. Wczytanie danych z pliku"
   ],
   "metadata": {
    "collapsed": false
   }
  },
  {
   "cell_type": "code",
   "execution_count": 2,
   "outputs": [],
   "source": [
    "data_file_name = 'data_after_preparation.csv'\n",
    "data = pd.read_csv(data_file_name)"
   ],
   "metadata": {
    "collapsed": false,
    "ExecuteTime": {
     "end_time": "2023-05-27T12:22:42.358042700Z",
     "start_time": "2023-05-27T12:22:15.208309600Z"
    }
   }
  },
  {
   "cell_type": "code",
   "execution_count": 3,
   "outputs": [
    {
     "name": "stdout",
     "output_type": "stream",
     "text": [
      "<class 'pandas.core.frame.DataFrame'>\n",
      "RangeIndex: 3932611 entries, 0 to 3932610\n",
      "Data columns (total 4 columns):\n",
      " #   Column         Dtype  \n",
      "---  ------         -----  \n",
      " 0   Date           object \n",
      " 1   text           object \n",
      " 2   bitcoin_price  float64\n",
      " 3   bitcoin_trend  int64  \n",
      "dtypes: float64(1), int64(1), object(2)\n",
      "memory usage: 120.0+ MB\n"
     ]
    }
   ],
   "source": [
    "data.info()"
   ],
   "metadata": {
    "collapsed": false,
    "ExecuteTime": {
     "end_time": "2023-05-27T12:22:43.091616600Z",
     "start_time": "2023-05-27T12:22:42.391313400Z"
    }
   }
  },
  {
   "cell_type": "markdown",
   "source": [
    "3.2. Podział danych na uczące i testowe po określonej dacie"
   ],
   "metadata": {
    "collapsed": false
   }
  },
  {
   "cell_type": "code",
   "execution_count": 4,
   "metadata": {
    "collapsed": true,
    "ExecuteTime": {
     "end_time": "2023-05-27T12:22:43.157187200Z",
     "start_time": "2023-05-27T12:22:43.091616600Z"
    }
   },
   "outputs": [],
   "source": [
    "X = data['text']\n",
    "y = data['bitcoin_trend']"
   ]
  },
  {
   "cell_type": "code",
   "execution_count": 5,
   "outputs": [
    {
     "name": "stdout",
     "output_type": "stream",
     "text": [
      "<class 'pandas.core.series.Series'>\n",
      "RangeIndex: 3932611 entries, 0 to 3932610\n",
      "Series name: bitcoin_trend\n",
      "Non-Null Count    Dtype\n",
      "--------------    -----\n",
      "3932611 non-null  int64\n",
      "dtypes: int64(1)\n",
      "memory usage: 30.0 MB\n"
     ]
    }
   ],
   "source": [
    "y.info()"
   ],
   "metadata": {
    "collapsed": false,
    "ExecuteTime": {
     "end_time": "2023-05-27T12:22:43.174837Z",
     "start_time": "2023-05-27T12:22:43.108262100Z"
    }
   }
  },
  {
   "cell_type": "code",
   "execution_count": 6,
   "outputs": [],
   "source": [
    "data = data.sort_values('Date', ignore_index=True)"
   ],
   "metadata": {
    "collapsed": false,
    "ExecuteTime": {
     "end_time": "2023-05-27T12:22:50.608171200Z",
     "start_time": "2023-05-27T12:22:43.174837Z"
    }
   }
  },
  {
   "cell_type": "code",
   "execution_count": 7,
   "outputs": [
    {
     "data": {
      "text/plain": "         Date                                               text   \n0  2014-09-17  $447.00 at 01:00 UTC [24h Range: $443.57 - $46...  \\\n1  2014-09-17  BTCe Prices\\nLAST: $444.00\\n BID: $444.00\\n AS...   \n2  2014-09-17  LIVE: Profit = $939.28 (0.55 %). BUY B382.20 @...   \n3  2014-09-17  $452.40 at 17:15 UTC [24h Range: $450.00 - $46...   \n4  2014-09-17  @KQED, enjoy this little gift! @xeniar sent yo...   \n\n   bitcoin_price  bitcoin_trend  \n0     457.334015             -1  \n1     457.334015             -1  \n2     457.334015             -1  \n3     457.334015             -1  \n4     457.334015             -1  ",
      "text/html": "<div>\n<style scoped>\n    .dataframe tbody tr th:only-of-type {\n        vertical-align: middle;\n    }\n\n    .dataframe tbody tr th {\n        vertical-align: top;\n    }\n\n    .dataframe thead th {\n        text-align: right;\n    }\n</style>\n<table border=\"1\" class=\"dataframe\">\n  <thead>\n    <tr style=\"text-align: right;\">\n      <th></th>\n      <th>Date</th>\n      <th>text</th>\n      <th>bitcoin_price</th>\n      <th>bitcoin_trend</th>\n    </tr>\n  </thead>\n  <tbody>\n    <tr>\n      <th>0</th>\n      <td>2014-09-17</td>\n      <td>$447.00 at 01:00 UTC [24h Range: $443.57 - $46...</td>\n      <td>457.334015</td>\n      <td>-1</td>\n    </tr>\n    <tr>\n      <th>1</th>\n      <td>2014-09-17</td>\n      <td>BTCe Prices\\nLAST: $444.00\\n BID: $444.00\\n AS...</td>\n      <td>457.334015</td>\n      <td>-1</td>\n    </tr>\n    <tr>\n      <th>2</th>\n      <td>2014-09-17</td>\n      <td>LIVE: Profit = $939.28 (0.55 %). BUY B382.20 @...</td>\n      <td>457.334015</td>\n      <td>-1</td>\n    </tr>\n    <tr>\n      <th>3</th>\n      <td>2014-09-17</td>\n      <td>$452.40 at 17:15 UTC [24h Range: $450.00 - $46...</td>\n      <td>457.334015</td>\n      <td>-1</td>\n    </tr>\n    <tr>\n      <th>4</th>\n      <td>2014-09-17</td>\n      <td>@KQED, enjoy this little gift! @xeniar sent yo...</td>\n      <td>457.334015</td>\n      <td>-1</td>\n    </tr>\n  </tbody>\n</table>\n</div>"
     },
     "execution_count": 7,
     "metadata": {},
     "output_type": "execute_result"
    }
   ],
   "source": [
    "data.head()"
   ],
   "metadata": {
    "collapsed": false,
    "ExecuteTime": {
     "end_time": "2023-05-27T12:22:50.674813400Z",
     "start_time": "2023-05-27T12:22:50.608171200Z"
    }
   }
  },
  {
   "cell_type": "code",
   "execution_count": 8,
   "outputs": [
    {
     "data": {
      "text/plain": "Date             0\ntext             0\nbitcoin_price    0\nbitcoin_trend    0\ndtype: int64"
     },
     "execution_count": 8,
     "metadata": {},
     "output_type": "execute_result"
    }
   ],
   "source": [
    "data.isna().sum()"
   ],
   "metadata": {
    "collapsed": false,
    "ExecuteTime": {
     "end_time": "2023-05-27T12:22:51.975009400Z",
     "start_time": "2023-05-27T12:22:50.674813400Z"
    }
   }
  },
  {
   "cell_type": "code",
   "execution_count": 9,
   "outputs": [
    {
     "name": "stdout",
     "output_type": "stream",
     "text": [
      "Data dzieląca 80% i 20% danych: 2019-05-15\n"
     ]
    }
   ],
   "source": [
    "split_index = int(len(data) * 0.8)\n",
    "\n",
    "split_date = data.iloc[split_index]['Date']\n",
    "print(\"Data dzieląca 80% i 20% danych:\", split_date)"
   ],
   "metadata": {
    "collapsed": false,
    "ExecuteTime": {
     "end_time": "2023-05-27T12:22:52.091689800Z",
     "start_time": "2023-05-27T12:22:51.963002Z"
    }
   }
  },
  {
   "cell_type": "code",
   "execution_count": 10,
   "outputs": [],
   "source": [
    "train_data = data[data['Date'] < split_date]\n",
    "test_data = data[data['Date'] >= split_date]\n",
    "\n",
    "# Podziel dane treningowe na cechy (X_train) i etykiety (y_train)\n",
    "X_train = train_data['text']\n",
    "y_train = train_data['bitcoin_trend']\n",
    "\n",
    "# Podziel dane testowe na cechy (X_test) i etykiety (y_test)\n",
    "X_test = test_data['text']\n",
    "y_test = test_data['bitcoin_trend']"
   ],
   "metadata": {
    "collapsed": false,
    "ExecuteTime": {
     "end_time": "2023-05-27T12:22:58.574874700Z",
     "start_time": "2023-05-27T12:22:52.025038900Z"
    }
   }
  },
  {
   "cell_type": "code",
   "execution_count": 11,
   "outputs": [
    {
     "name": "stdout",
     "output_type": "stream",
     "text": [
      "<class 'pandas.core.series.Series'>\n",
      "Index: 3121628 entries, 0 to 3121627\n",
      "Series name: text\n",
      "Non-Null Count    Dtype \n",
      "--------------    ----- \n",
      "3121628 non-null  object\n",
      "dtypes: object(1)\n",
      "memory usage: 47.6+ MB\n"
     ]
    }
   ],
   "source": [
    "X_train.info()"
   ],
   "metadata": {
    "collapsed": false,
    "ExecuteTime": {
     "end_time": "2023-05-27T12:22:59.674695Z",
     "start_time": "2023-05-27T12:22:58.574874700Z"
    }
   }
  },
  {
   "cell_type": "code",
   "execution_count": 12,
   "outputs": [],
   "source": [
    "# Zamiana X na DataFrame\n",
    "X_train = pd.DataFrame(X_train, columns=['text'])\n",
    "X_test = pd.DataFrame(X_test, columns=['text'])"
   ],
   "metadata": {
    "collapsed": false,
    "ExecuteTime": {
     "end_time": "2023-05-27T12:23:00.441372700Z",
     "start_time": "2023-05-27T12:22:59.674695Z"
    }
   }
  },
  {
   "cell_type": "code",
   "execution_count": 13,
   "outputs": [
    {
     "name": "stdout",
     "output_type": "stream",
     "text": [
      "Type of X_train: <class 'pandas.core.frame.DataFrame'>\n",
      "Type of y_train: <class 'pandas.core.series.Series'>\n",
      "Type of X_test: <class 'pandas.core.frame.DataFrame'>\n",
      "Type of y_test: <class 'pandas.core.series.Series'>\n"
     ]
    }
   ],
   "source": [
    "print(f'Type of X_train: {type(X_train)}')\n",
    "print(f'Type of y_train: {type(y_train)}')\n",
    "print(f'Type of X_test: {type(X_test)}')\n",
    "print(f'Type of y_test: {type(y_test)}')"
   ],
   "metadata": {
    "collapsed": false,
    "ExecuteTime": {
     "end_time": "2023-05-27T12:23:00.458017100Z",
     "start_time": "2023-05-27T12:23:00.441372700Z"
    }
   }
  },
  {
   "cell_type": "markdown",
   "source": [
    "Zapisanie dat do pliku"
   ],
   "metadata": {
    "collapsed": false
   }
  },
  {
   "cell_type": "code",
   "execution_count": 14,
   "outputs": [],
   "source": [
    "dates = train_data['Date']"
   ],
   "metadata": {
    "collapsed": false,
    "ExecuteTime": {
     "end_time": "2023-05-27T12:23:00.524069900Z",
     "start_time": "2023-05-27T12:23:00.458017100Z"
    }
   }
  },
  {
   "cell_type": "code",
   "execution_count": 15,
   "outputs": [],
   "source": [
    "dates.to_csv('dates.csv', index=False)"
   ],
   "metadata": {
    "collapsed": false,
    "ExecuteTime": {
     "end_time": "2023-05-27T12:23:06.474674300Z",
     "start_time": "2023-05-27T12:23:00.474659400Z"
    }
   }
  },
  {
   "cell_type": "markdown",
   "source": [
    "Zapisanie y do plików"
   ],
   "metadata": {
    "collapsed": false
   }
  },
  {
   "cell_type": "code",
   "execution_count": 16,
   "outputs": [],
   "source": [
    "y_train.to_csv('y_train.csv', index=False)\n",
    "y_test.to_csv('y_test.csv', index=False)"
   ],
   "metadata": {
    "collapsed": false,
    "ExecuteTime": {
     "end_time": "2023-05-27T12:23:12.224660300Z",
     "start_time": "2023-05-27T12:23:06.474674300Z"
    }
   }
  },
  {
   "cell_type": "markdown",
   "source": [
    "3.3. Klasy do przetwarzania danych tekstowych"
   ],
   "metadata": {
    "collapsed": false
   }
  },
  {
   "cell_type": "markdown",
   "source": [
    "Usuwanie znaków interpunkcyjnych"
   ],
   "metadata": {
    "collapsed": false
   }
  },
  {
   "cell_type": "code",
   "execution_count": 17,
   "outputs": [],
   "source": [
    "def remove_punctuation(text):\n",
    "    cleaned = ''.join([word for word in text if word not in string.punctuation])\n",
    "    return cleaned\n",
    "\n",
    "class RemovePunctuationTransformer(BaseEstimator, TransformerMixin):\n",
    "    def __init__(self, text_column):\n",
    "        self.text_column = text_column\n",
    "\n",
    "    def fit(self, X, y=None):\n",
    "        return self\n",
    "\n",
    "    def transform(self, X, y=None):\n",
    "        X_ = X.copy()\n",
    "        X_[self.text_column] = X_[self.text_column].apply(lambda x: remove_punctuation(x))\n",
    "        return X_"
   ],
   "metadata": {
    "collapsed": false,
    "ExecuteTime": {
     "end_time": "2023-05-27T12:23:12.241810Z",
     "start_time": "2023-05-27T12:23:12.224660300Z"
    }
   }
  },
  {
   "cell_type": "markdown",
   "source": [
    "Tokenizacja"
   ],
   "metadata": {
    "collapsed": false
   }
  },
  {
   "cell_type": "code",
   "execution_count": 18,
   "outputs": [],
   "source": [
    "def tokenizer(text):\n",
    "    lower_text = text.lower()\n",
    "    tokenized_text = nltk.word_tokenize(lower_text)\n",
    "    return tokenized_text\n",
    "\n",
    "class TokenizeTransformer(BaseEstimator, TransformerMixin):\n",
    "    def __init__(self, text_column):\n",
    "        self.text_column = text_column\n",
    "\n",
    "    def fit(self, X, y=None):\n",
    "        return self\n",
    "\n",
    "    def transform(self, X, y=None):\n",
    "        X_ = X.copy()\n",
    "        X_[self.text_column] = X_[self.text_column].apply(lambda x: tokenizer(x))\n",
    "        return X_\n"
   ],
   "metadata": {
    "collapsed": false,
    "ExecuteTime": {
     "end_time": "2023-05-27T12:23:12.275093Z",
     "start_time": "2023-05-27T12:23:12.241810Z"
    }
   }
  },
  {
   "cell_type": "markdown",
   "source": [
    "Stopwords"
   ],
   "metadata": {
    "collapsed": false
   }
  },
  {
   "cell_type": "code",
   "execution_count": 19,
   "outputs": [
    {
     "name": "stdout",
     "output_type": "stream",
     "text": [
      "Stopwords: ['i', 'me', 'my', 'myself', 'we', 'our', 'ours', 'ourselves', 'you', \"you're\", \"you've\", \"you'll\", \"you'd\", 'your', 'yours', 'yourself', 'yourselves', 'he', 'him', 'his', 'himself', 'she', \"she's\", 'her', 'hers', 'herself', 'it', \"it's\", 'its', 'itself', 'they', 'them', 'their', 'theirs', 'themselves', 'what', 'which', 'who', 'whom', 'this', 'that', \"that'll\", 'these', 'those', 'am', 'is', 'are', 'was', 'were', 'be', 'been', 'being', 'have', 'has', 'had', 'having', 'do', 'does', 'did', 'doing', 'a', 'an', 'the', 'and', 'but', 'if', 'or', 'because', 'as', 'until', 'while', 'of', 'at', 'by', 'for', 'with', 'about', 'against', 'between', 'into', 'through', 'during', 'before', 'after', 'above', 'below', 'to', 'from', 'up', 'down', 'in', 'out', 'on', 'off', 'over', 'under', 'again', 'further', 'then', 'once', 'here', 'there', 'when', 'where', 'why', 'how', 'all', 'any', 'both', 'each', 'few', 'more', 'most', 'other', 'some', 'such', 'no', 'nor', 'not', 'only', 'own', 'same', 'so', 'than', 'too', 'very', 's', 't', 'can', 'will', 'just', 'don', \"don't\", 'should', \"should've\", 'now', 'd', 'll', 'm', 'o', 're', 've', 'y', 'ain', 'aren', \"aren't\", 'couldn', \"couldn't\", 'didn', \"didn't\", 'doesn', \"doesn't\", 'hadn', \"hadn't\", 'hasn', \"hasn't\", 'haven', \"haven't\", 'isn', \"isn't\", 'ma', 'mightn', \"mightn't\", 'mustn', \"mustn't\", 'needn', \"needn't\", 'shan', \"shan't\", 'shouldn', \"shouldn't\", 'wasn', \"wasn't\", 'weren', \"weren't\", 'won', \"won't\", 'wouldn', \"wouldn't\"]\n"
     ]
    }
   ],
   "source": [
    "stopwords = nltk.corpus.stopwords.words('english')\n",
    "print(f'Stopwords: {stopwords}')\n",
    "\n",
    "def remove_stopwords(text):\n",
    "    without_stopwords = [word for word in text if word not in stopwords]\n",
    "    return without_stopwords\n",
    "\n",
    "\n",
    "class RemoveStopwordsTransformer(BaseEstimator, TransformerMixin):\n",
    "    def __init__(self, text_column):\n",
    "        self.text_column = text_column\n",
    "\n",
    "    def fit(self, X, y=None):\n",
    "        return self\n",
    "\n",
    "    def transform(self, X, y=None):\n",
    "        X_ = X.copy()\n",
    "        X_[self.text_column] = X_[self.text_column].apply(lambda x: remove_stopwords(x))\n",
    "        return X_"
   ],
   "metadata": {
    "collapsed": false,
    "ExecuteTime": {
     "end_time": "2023-05-27T12:23:12.390575100Z",
     "start_time": "2023-05-27T12:23:12.291736100Z"
    }
   }
  },
  {
   "cell_type": "markdown",
   "source": [
    "Usuwanie krótkich tokenów"
   ],
   "metadata": {
    "collapsed": false
   }
  },
  {
   "cell_type": "code",
   "execution_count": 20,
   "outputs": [],
   "source": [
    "def remove_short_tokens(text):\n",
    "    without_shorts = [word for word in text if len(word) > 2]\n",
    "    return without_shorts\n",
    "\n",
    "class RemoveShortTokensTransformer(BaseEstimator, TransformerMixin):\n",
    "    def __init__(self, text_column):\n",
    "        self.text_column = text_column\n",
    "\n",
    "    def fit(self, X, y=None):\n",
    "        return self\n",
    "\n",
    "    def transform(self, X, y=None):\n",
    "        X_ = X.copy()\n",
    "        X_[self.text_column] = X_[self.text_column].apply(lambda x: remove_short_tokens(x))\n",
    "        return X_"
   ],
   "metadata": {
    "collapsed": false,
    "ExecuteTime": {
     "end_time": "2023-05-27T12:23:12.407217100Z",
     "start_time": "2023-05-27T12:23:12.325011600Z"
    }
   }
  },
  {
   "cell_type": "markdown",
   "source": [
    "Usunięcie linków"
   ],
   "metadata": {
    "collapsed": false
   }
  },
  {
   "cell_type": "code",
   "execution_count": 21,
   "outputs": [],
   "source": [
    "def remove_links(text):\n",
    "    without_shorts = [word for word in text if word[0:4]!='http']\n",
    "    return without_shorts\n",
    "\n",
    "class RemoveLinksTransformer(BaseEstimator, TransformerMixin):\n",
    "    def __init__(self, text_column):\n",
    "        self.text_column = text_column\n",
    "\n",
    "    def fit(self, X, y=None):\n",
    "        return self\n",
    "\n",
    "    def transform(self, X, y=None):\n",
    "        X_ = X.copy()\n",
    "        X_[self.text_column] = X_[self.text_column].apply(lambda x: remove_links(x))\n",
    "        return X_"
   ],
   "metadata": {
    "collapsed": false,
    "ExecuteTime": {
     "end_time": "2023-05-27T12:23:12.408225100Z",
     "start_time": "2023-05-27T12:23:12.358303200Z"
    }
   }
  },
  {
   "cell_type": "markdown",
   "source": [
    "Stemmer"
   ],
   "metadata": {
    "collapsed": false
   }
  },
  {
   "cell_type": "code",
   "execution_count": 22,
   "outputs": [],
   "source": [
    "def stemming(text):\n",
    "    stemmer = PorterStemmer()\n",
    "    stemmed_words = [stemmer.stem(word) for word in text]\n",
    "    return stemmed_words\n",
    "\n",
    "\n",
    "class StemTransformer(BaseEstimator, TransformerMixin):\n",
    "    def __init__(self, text_column):\n",
    "        self.text_column = text_column\n",
    "\n",
    "    def fit(self, X, y=None):\n",
    "        return self\n",
    "\n",
    "    def transform(self, X, y=None):\n",
    "        X_ = X.copy()\n",
    "        X_[self.text_column] = X_[self.text_column].apply(lambda x: stemming(x))\n",
    "        return X_"
   ],
   "metadata": {
    "collapsed": false,
    "ExecuteTime": {
     "end_time": "2023-05-27T12:23:12.507064400Z",
     "start_time": "2023-05-27T12:23:12.391585300Z"
    }
   }
  },
  {
   "cell_type": "markdown",
   "source": [
    "Wektoryzacja"
   ],
   "metadata": {
    "collapsed": false
   }
  },
  {
   "cell_type": "code",
   "execution_count": 23,
   "outputs": [],
   "source": [
    "class Return_String_Transformer(BaseEstimator, TransformerMixin):\n",
    "    def __init__(self, text_column):\n",
    "        self.text_column = text_column\n",
    "\n",
    "    def fit(self, X, y=None):\n",
    "        return self\n",
    "\n",
    "    def transform(self, X, y=None):\n",
    "        X_ = X.copy()\n",
    "        X_[self.text_column] = X_[self.text_column].apply(lambda x: ' '.join(x))\n",
    "        X_ = pd.Series(X_[self.text_column])\n",
    "        return X_"
   ],
   "metadata": {
    "collapsed": false,
    "ExecuteTime": {
     "end_time": "2023-05-27T12:23:12.508071600Z",
     "start_time": "2023-05-27T12:23:12.424865200Z"
    }
   }
  },
  {
   "cell_type": "markdown",
   "source": [
    "3.4. Pipeline do przetwarzania danych tekstowych (bez klasyfikacji)"
   ],
   "metadata": {
    "collapsed": false
   }
  },
  {
   "cell_type": "code",
   "execution_count": 24,
   "outputs": [
    {
     "name": "stdout",
     "output_type": "stream",
     "text": [
      "500062 \n",
      " $851.00 at 06:45 UTC [24h Range: $805.67 - $851.04 Volume: 11261 BTC]\n"
     ]
    }
   ],
   "source": [
    "#testowy tekst\n",
    "i = randint(0, len(data['text']))\n",
    "print(i, '\\n', data['text'][i])"
   ],
   "metadata": {
    "collapsed": false,
    "ExecuteTime": {
     "end_time": "2023-05-27T12:23:12.508071600Z",
     "start_time": "2023-05-27T12:23:12.458147900Z"
    }
   }
  },
  {
   "cell_type": "code",
   "execution_count": 25,
   "outputs": [
    {
     "data": {
      "text/plain": "text    0\ndtype: int64"
     },
     "execution_count": 25,
     "metadata": {},
     "output_type": "execute_result"
    }
   ],
   "source": [
    "X_train.isna().sum()"
   ],
   "metadata": {
    "collapsed": false,
    "ExecuteTime": {
     "end_time": "2023-05-27T12:23:13.074005800Z",
     "start_time": "2023-05-27T12:23:12.491431900Z"
    }
   }
  },
  {
   "cell_type": "code",
   "execution_count": 26,
   "outputs": [],
   "source": [
    "text_prep_pipeline = Pipeline(steps=[\n",
    "    ('remove_punctuation', RemovePunctuationTransformer(text_column='text')),\n",
    "    ('tokenizer', TokenizeTransformer(text_column='text')),\n",
    "    ('remove_stop_words', RemoveStopwordsTransformer(text_column='text')),\n",
    "    ('remove_links', RemoveLinksTransformer(text_column='text')),\n",
    "    ('remove_short_tokens', RemoveShortTokensTransformer(text_column='text')),\n",
    "    ('stemmer', StemTransformer(text_column='text')),\n",
    "    ('return_string', Return_String_Transformer(text_column='text'))\n",
    "])"
   ],
   "metadata": {
    "collapsed": false,
    "ExecuteTime": {
     "end_time": "2023-05-27T12:23:13.090645600Z",
     "start_time": "2023-05-27T12:23:13.057366400Z"
    }
   }
  },
  {
   "cell_type": "code",
   "execution_count": 27,
   "outputs": [],
   "source": [
    "X_train = text_prep_pipeline.fit_transform(X_train)\n",
    "X_train.to_csv('X_train.csv', index=False)"
   ],
   "metadata": {
    "collapsed": false,
    "ExecuteTime": {
     "end_time": "2023-05-27T13:13:18.343858100Z",
     "start_time": "2023-05-27T12:23:13.090645600Z"
    }
   }
  },
  {
   "cell_type": "code",
   "execution_count": 28,
   "outputs": [],
   "source": [
    "X_test = text_prep_pipeline.fit_transform(X_test)\n",
    "X_test.to_csv('X_test.csv', index=False)"
   ],
   "metadata": {
    "collapsed": false,
    "ExecuteTime": {
     "end_time": "2023-05-27T13:25:55.273972400Z",
     "start_time": "2023-05-27T13:13:18.593852700Z"
    }
   }
  },
  {
   "cell_type": "markdown",
   "source": [
    "Info"
   ],
   "metadata": {
    "collapsed": false
   }
  },
  {
   "cell_type": "code",
   "execution_count": 29,
   "outputs": [
    {
     "name": "stdout",
     "output_type": "stream",
     "text": [
      "<class 'pandas.core.series.Series'>\n",
      "Index: 3121628 entries, 0 to 3121627\n",
      "Series name: text\n",
      "Non-Null Count    Dtype \n",
      "--------------    ----- \n",
      "3121628 non-null  object\n",
      "dtypes: object(1)\n",
      "memory usage: 47.6+ MB\n"
     ]
    }
   ],
   "source": [
    "X_train.info()"
   ],
   "metadata": {
    "collapsed": false,
    "ExecuteTime": {
     "end_time": "2023-05-27T13:25:55.866137900Z",
     "start_time": "2023-05-27T13:25:55.289595800Z"
    }
   }
  },
  {
   "cell_type": "code",
   "execution_count": 34,
   "outputs": [
    {
     "name": "stdout",
     "output_type": "stream",
     "text": [
      "1043144 \n",
      " 仮想通貨業界:今後5年に起こりうる10のこと(前編) \n",
      "\n",
      "http://coinpost.jp/?p=10082 \n",
      "\n",
      "成熟するまで10年かかるかもね....\n",
      "この一年、不便になるばかりだし...\n",
      "\n",
      "#ビットコイン #Bitcoin #BTC #ETH #LTC #リップル #XRP #仮想通貨 #アービトラージ #自動売買 #ツール\n",
      "1043144 \n",
      " 仮想通貨業界今後5年に起こりうる10のこと前編 成熟するまで10年かかるかもね この一年、不便になるばかりだし ビットコイン bitcoin btc eth ltc リップル xrp 仮想通貨 アービトラージ 自動売買 ツール\n"
     ]
    }
   ],
   "source": [
    "i = randint(0, len(X_train))\n",
    "print(i, '\\n', data['text'][i])\n",
    "print(i, '\\n', X_train[i])"
   ],
   "metadata": {
    "collapsed": false,
    "ExecuteTime": {
     "end_time": "2023-05-29T06:49:46.995751400Z",
     "start_time": "2023-05-29T06:49:46.912530100Z"
    }
   }
  },
  {
   "cell_type": "code",
   "execution_count": 35,
   "outputs": [
    {
     "name": "stdout",
     "output_type": "stream",
     "text": [
      "3767788 \n",
      " Win 10 #BTC  every 10 minutes through a special script\n",
      "\n",
      "Link : https://t.co/yfr3tDpXPL\n",
      "\n",
      ".\n",
      "\n",
      ".\n",
      "\n",
      "Buy 🔥🔥🔥: https://t.co/Z8Mde2l5fW\n",
      "@jaxxcurry @Kdunn95 @ArmagedonMGB @JSprucie @J_Lyn_Brn2Shine\n",
      "XZT\n",
      "3767788 \n",
      " win btc everi minut special script link buy 🔥🔥🔥 jaxxcurri kdunn95 armagedonmgb jspruci jlynbrn2shin xzt\n"
     ]
    }
   ],
   "source": [
    "i = randint(len(X_train), (len(X_train) + len(X_test)-1))\n",
    "print(i, '\\n', data['text'][i])\n",
    "print(i, '\\n', X_test[i])"
   ],
   "metadata": {
    "collapsed": false,
    "ExecuteTime": {
     "end_time": "2023-05-29T06:50:22.345699800Z",
     "start_time": "2023-05-29T06:50:22.228780400Z"
    }
   }
  }
 ],
 "metadata": {
  "kernelspec": {
   "display_name": "Python 3",
   "language": "python",
   "name": "python3"
  },
  "language_info": {
   "codemirror_mode": {
    "name": "ipython",
    "version": 2
   },
   "file_extension": ".py",
   "mimetype": "text/x-python",
   "name": "python",
   "nbconvert_exporter": "python",
   "pygments_lexer": "ipython2",
   "version": "2.7.6"
  }
 },
 "nbformat": 4,
 "nbformat_minor": 0
}
