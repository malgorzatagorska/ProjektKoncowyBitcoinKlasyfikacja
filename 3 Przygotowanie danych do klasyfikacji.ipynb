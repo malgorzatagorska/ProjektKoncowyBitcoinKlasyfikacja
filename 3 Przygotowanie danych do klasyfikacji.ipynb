<<<<<<< HEAD
{
 "cells": [
  {
   "cell_type": "markdown",
   "source": [
    "3 Przygotowanie danych do klasyfikacji"
   ],
   "metadata": {
    "collapsed": false
   }
  },
  {
   "cell_type": "code",
   "execution_count": 1,
   "outputs": [
    {
     "name": "stderr",
     "output_type": "stream",
     "text": [
      "[nltk_data] Downloading package stopwords to\n",
      "[nltk_data]     C:\\Users\\atago\\AppData\\Roaming\\nltk_data...\n",
      "[nltk_data]   Package stopwords is already up-to-date!\n"
     ]
    }
   ],
   "source": [
    "import pandas as pd\n",
    "import string\n",
    "from sklearn.base import BaseEstimator, TransformerMixin\n",
    "import nltk\n",
    "nltk.download('stopwords')\n",
    "from nltk import PorterStemmer\n",
    "from sklearn.pipeline import Pipeline\n",
    "from random import randint"
   ],
   "metadata": {
    "collapsed": false,
    "ExecuteTime": {
     "end_time": "2023-05-25T06:31:13.195085900Z",
     "start_time": "2023-05-25T06:31:08.411618700Z"
    }
   }
  },
  {
   "cell_type": "markdown",
   "source": [
    "3.1. Wczytanie danych z pliku"
   ],
   "metadata": {
    "collapsed": false
   }
  },
  {
   "cell_type": "code",
   "execution_count": 2,
   "outputs": [],
   "source": [
    "data_file_name = 'data_after_preparation.csv'\n",
    "data = pd.read_csv(data_file_name)"
   ],
   "metadata": {
    "collapsed": false,
    "ExecuteTime": {
     "end_time": "2023-05-25T06:31:49.011679400Z",
     "start_time": "2023-05-25T06:31:27.328380800Z"
    }
   }
  },
  {
   "cell_type": "code",
   "execution_count": 3,
   "outputs": [
    {
     "name": "stdout",
     "output_type": "stream",
     "text": [
      "<class 'pandas.core.frame.DataFrame'>\n",
      "RangeIndex: 3932611 entries, 0 to 3932610\n",
      "Data columns (total 4 columns):\n",
      " #   Column         Dtype  \n",
      "---  ------         -----  \n",
      " 0   Date           object \n",
      " 1   text           object \n",
      " 2   bitcoin_price  float64\n",
      " 3   bitcoin_trend  int64  \n",
      "dtypes: float64(1), int64(1), object(2)\n",
      "memory usage: 120.0+ MB\n"
     ]
    }
   ],
   "source": [
    "data.info()"
   ],
   "metadata": {
    "collapsed": false,
    "ExecuteTime": {
     "end_time": "2023-05-25T06:32:06.461630Z",
     "start_time": "2023-05-25T06:32:06.345117900Z"
    }
   }
  },
  {
   "cell_type": "markdown",
   "source": [
    "3.2. Podział danych na uczące i testowe po określonej dacie"
   ],
   "metadata": {
    "collapsed": false
   }
  },
  {
   "cell_type": "code",
   "execution_count": 4,
   "metadata": {
    "collapsed": true,
    "ExecuteTime": {
     "end_time": "2023-05-25T06:32:26.210918400Z",
     "start_time": "2023-05-25T06:32:26.066079900Z"
    }
   },
   "outputs": [],
   "source": [
    "X = data['text']\n",
    "y = data['bitcoin_trend']"
   ]
  },
  {
   "cell_type": "code",
   "execution_count": 5,
   "outputs": [
    {
     "name": "stdout",
     "output_type": "stream",
     "text": [
      "<class 'pandas.core.series.Series'>\n",
      "RangeIndex: 3932611 entries, 0 to 3932610\n",
      "Series name: bitcoin_trend\n",
      "Non-Null Count    Dtype\n",
      "--------------    -----\n",
      "3932611 non-null  int64\n",
      "dtypes: int64(1)\n",
      "memory usage: 30.0 MB\n"
     ]
    }
   ],
   "source": [
    "y.info()"
   ],
   "metadata": {
    "collapsed": false,
    "ExecuteTime": {
     "end_time": "2023-05-25T06:32:27.428257100Z",
     "start_time": "2023-05-25T06:32:27.261751400Z"
    }
   }
  },
  {
   "cell_type": "code",
   "execution_count": 6,
   "outputs": [],
   "source": [
    "data = data.sort_values('Date', ignore_index=True)"
   ],
   "metadata": {
    "collapsed": false,
    "ExecuteTime": {
     "end_time": "2023-05-25T06:32:40.811657100Z",
     "start_time": "2023-05-25T06:32:34.661972400Z"
    }
   }
  },
  {
   "cell_type": "code",
   "execution_count": 7,
   "outputs": [
    {
     "data": {
      "text/plain": "         Date                                               text   \n0  2014-09-17  $447.00 at 01:00 UTC [24h Range: $443.57 - $46...  \\\n1  2014-09-17  BTCe Prices\\nLAST: $444.00\\n BID: $444.00\\n AS...   \n2  2014-09-17  LIVE: Profit = $939.28 (0.55 %). BUY B382.20 @...   \n3  2014-09-17  $452.40 at 17:15 UTC [24h Range: $450.00 - $46...   \n4  2014-09-17  @KQED, enjoy this little gift! @xeniar sent yo...   \n\n   bitcoin_price  bitcoin_trend  \n0     457.334015             -1  \n1     457.334015             -1  \n2     457.334015             -1  \n3     457.334015             -1  \n4     457.334015             -1  ",
      "text/html": "<div>\n<style scoped>\n    .dataframe tbody tr th:only-of-type {\n        vertical-align: middle;\n    }\n\n    .dataframe tbody tr th {\n        vertical-align: top;\n    }\n\n    .dataframe thead th {\n        text-align: right;\n    }\n</style>\n<table border=\"1\" class=\"dataframe\">\n  <thead>\n    <tr style=\"text-align: right;\">\n      <th></th>\n      <th>Date</th>\n      <th>text</th>\n      <th>bitcoin_price</th>\n      <th>bitcoin_trend</th>\n    </tr>\n  </thead>\n  <tbody>\n    <tr>\n      <th>0</th>\n      <td>2014-09-17</td>\n      <td>$447.00 at 01:00 UTC [24h Range: $443.57 - $46...</td>\n      <td>457.334015</td>\n      <td>-1</td>\n    </tr>\n    <tr>\n      <th>1</th>\n      <td>2014-09-17</td>\n      <td>BTCe Prices\\nLAST: $444.00\\n BID: $444.00\\n AS...</td>\n      <td>457.334015</td>\n      <td>-1</td>\n    </tr>\n    <tr>\n      <th>2</th>\n      <td>2014-09-17</td>\n      <td>LIVE: Profit = $939.28 (0.55 %). BUY B382.20 @...</td>\n      <td>457.334015</td>\n      <td>-1</td>\n    </tr>\n    <tr>\n      <th>3</th>\n      <td>2014-09-17</td>\n      <td>$452.40 at 17:15 UTC [24h Range: $450.00 - $46...</td>\n      <td>457.334015</td>\n      <td>-1</td>\n    </tr>\n    <tr>\n      <th>4</th>\n      <td>2014-09-17</td>\n      <td>@KQED, enjoy this little gift! @xeniar sent yo...</td>\n      <td>457.334015</td>\n      <td>-1</td>\n    </tr>\n  </tbody>\n</table>\n</div>"
     },
     "execution_count": 7,
     "metadata": {},
     "output_type": "execute_result"
    }
   ],
   "source": [
    "data.head()"
   ],
   "metadata": {
    "collapsed": false,
    "ExecuteTime": {
     "end_time": "2023-05-25T06:32:41.728427400Z",
     "start_time": "2023-05-25T06:32:41.628562100Z"
    }
   }
  },
  {
   "cell_type": "code",
   "execution_count": 8,
   "outputs": [
    {
     "data": {
      "text/plain": "Date             0\ntext             0\nbitcoin_price    0\nbitcoin_trend    0\ndtype: int64"
     },
     "execution_count": 8,
     "metadata": {},
     "output_type": "execute_result"
    }
   ],
   "source": [
    "data.isna().sum()"
   ],
   "metadata": {
    "collapsed": false,
    "ExecuteTime": {
     "end_time": "2023-05-25T06:32:44.244961Z",
     "start_time": "2023-05-25T06:32:44.195024300Z"
    }
   }
  },
  {
   "cell_type": "code",
   "execution_count": 9,
   "outputs": [
    {
     "name": "stdout",
     "output_type": "stream",
     "text": [
      "Data dzieląca 80% i 20% danych: 2019-05-15\n"
     ]
    }
   ],
   "source": [
    "split_index = int(len(data) * 0.8)\n",
    "\n",
    "split_date = data.iloc[split_index]['Date']\n",
    "print(\"Data dzieląca 80% i 20% danych:\", split_date)"
   ],
   "metadata": {
    "collapsed": false,
    "ExecuteTime": {
     "end_time": "2023-05-25T06:32:46.278647100Z",
     "start_time": "2023-05-25T06:32:46.133471100Z"
    }
   }
  },
  {
   "cell_type": "code",
   "execution_count": 10,
   "outputs": [],
   "source": [
    "train_data = data[data['Date'] < split_date]\n",
    "test_data = data[data['Date'] >= split_date]\n",
    "\n",
    "# Podziel dane treningowe na cechy (X_train) i etykiety (y_train)\n",
    "X_train = train_data['text']\n",
    "y_train = train_data['bitcoin_trend']\n",
    "\n",
    "# Podziel dane testowe na cechy (X_test) i etykiety (y_test)\n",
    "X_test = test_data['text']\n",
    "y_test = test_data['bitcoin_trend']"
   ],
   "metadata": {
    "collapsed": false,
    "ExecuteTime": {
     "end_time": "2023-05-25T06:32:50.028477400Z",
     "start_time": "2023-05-25T06:32:48.028711800Z"
    }
   }
  },
  {
   "cell_type": "code",
   "execution_count": 11,
   "outputs": [
    {
     "name": "stdout",
     "output_type": "stream",
     "text": [
      "<class 'pandas.core.series.Series'>\n",
      "Index: 3121628 entries, 0 to 3121627\n",
      "Series name: text\n",
      "Non-Null Count    Dtype \n",
      "--------------    ----- \n",
      "3121628 non-null  object\n",
      "dtypes: object(1)\n",
      "memory usage: 47.6+ MB\n"
     ]
    }
   ],
   "source": [
    "X_train.info()"
   ],
   "metadata": {
    "collapsed": false,
    "ExecuteTime": {
     "end_time": "2023-05-25T06:32:52.711784300Z",
     "start_time": "2023-05-25T06:32:51.912013600Z"
    }
   }
  },
  {
   "cell_type": "code",
   "execution_count": 12,
   "outputs": [],
   "source": [
    "# Zamiana X na DataFrame\n",
    "X_train = pd.DataFrame(X_train, columns=['text'])\n",
    "X_test = pd.DataFrame(X_test, columns=['text'])"
   ],
   "metadata": {
    "collapsed": false,
    "ExecuteTime": {
     "end_time": "2023-05-25T06:32:52.911787Z",
     "start_time": "2023-05-25T06:32:52.728424800Z"
    }
   }
  },
  {
   "cell_type": "code",
   "execution_count": 13,
   "outputs": [
    {
     "name": "stdout",
     "output_type": "stream",
     "text": [
      "Type of X_train: <class 'pandas.core.frame.DataFrame'>\n",
      "Type of y_train: <class 'pandas.core.series.Series'>\n",
      "Type of X_test: <class 'pandas.core.frame.DataFrame'>\n",
      "Type of y_test: <class 'pandas.core.series.Series'>\n"
     ]
    }
   ],
   "source": [
    "print(f'Type of X_train: {type(X_train)}')\n",
    "print(f'Type of y_train: {type(y_train)}')\n",
    "print(f'Type of X_test: {type(X_test)}')\n",
    "print(f'Type of y_test: {type(y_test)}')"
   ],
   "metadata": {
    "collapsed": false,
    "ExecuteTime": {
     "end_time": "2023-05-25T06:32:54.410837700Z",
     "start_time": "2023-05-25T06:32:54.278280100Z"
    }
   }
  },
  {
   "cell_type": "markdown",
   "source": [
    "Zapisanie dat do pliku"
   ],
   "metadata": {
    "collapsed": false
   }
  },
  {
   "cell_type": "code",
   "execution_count": 16,
   "outputs": [],
   "source": [
    "dates = train_data['Date']"
   ],
   "metadata": {
    "collapsed": false,
    "ExecuteTime": {
     "end_time": "2023-05-25T09:17:14.613090200Z",
     "start_time": "2023-05-25T09:17:14.563166700Z"
    }
   }
  },
  {
   "cell_type": "code",
   "execution_count": 18,
   "outputs": [],
   "source": [
    "dates.to_csv('dates.csv', index=False)"
   ],
   "metadata": {
    "collapsed": false,
    "ExecuteTime": {
     "end_time": "2023-05-25T09:18:05.879649600Z",
     "start_time": "2023-05-25T09:17:58.596350500Z"
    }
   }
  },
  {
   "cell_type": "markdown",
   "source": [
    "Zapisanie y do plików"
   ],
   "metadata": {
    "collapsed": false
   }
  },
  {
   "cell_type": "code",
   "execution_count": 14,
   "outputs": [],
   "source": [
    "y_train.to_csv('y_train.csv', index=False)\n",
    "y_test.to_csv('y_test.csv', index=False)"
   ],
   "metadata": {
    "collapsed": false,
    "ExecuteTime": {
     "end_time": "2023-05-25T06:34:09.111998Z",
     "start_time": "2023-05-25T06:34:01.345116900Z"
    }
   }
  },
  {
   "cell_type": "markdown",
   "source": [
    "3.3. Klasy do przetwarzania danych tekstowych"
   ],
   "metadata": {
    "collapsed": false
   }
  },
  {
   "cell_type": "markdown",
   "source": [
    "Usuwanie znaków interpunkcyjnych"
   ],
   "metadata": {
    "collapsed": false
   }
  },
  {
   "cell_type": "code",
   "execution_count": 15,
   "outputs": [],
   "source": [
    "def remove_punctuation(text):\n",
    "    cleaned = ''.join([word for word in text if word not in string.punctuation])\n",
    "    return cleaned\n",
    "\n",
    "class RemovePunctuationTransformer(BaseEstimator, TransformerMixin):\n",
    "    def __init__(self, text_column):\n",
    "        self.text_column = text_column\n",
    "\n",
    "    def fit(self, X, y=None):\n",
    "        return self\n",
    "\n",
    "    def transform(self, X, y=None):\n",
    "        X_ = X.copy()\n",
    "        X_[self.text_column] = X_[self.text_column].apply(lambda x: remove_punctuation(x))\n",
    "        return X_"
   ],
   "metadata": {
    "collapsed": false,
    "ExecuteTime": {
     "end_time": "2023-05-24T23:02:11.734641900Z",
     "start_time": "2023-05-24T23:02:11.687131400Z"
    }
   }
  },
  {
   "cell_type": "markdown",
   "source": [
    "Tokenizacja"
   ],
   "metadata": {
    "collapsed": false
   }
  },
  {
   "cell_type": "code",
   "execution_count": 16,
   "outputs": [],
   "source": [
    "def tokenizer(text):\n",
    "    lower_text = text.lower()\n",
    "    tokenized_text = nltk.word_tokenize(lower_text)\n",
    "    return tokenized_text\n",
    "\n",
    "class TokenizeTransformer(BaseEstimator, TransformerMixin):\n",
    "    def __init__(self, text_column):\n",
    "        self.text_column = text_column\n",
    "\n",
    "    def fit(self, X, y=None):\n",
    "        return self\n",
    "\n",
    "    def transform(self, X, y=None):\n",
    "        X_ = X.copy()\n",
    "        X_[self.text_column] = X_[self.text_column].apply(lambda x: tokenizer(x))\n",
    "        return X_\n"
   ],
   "metadata": {
    "collapsed": false,
    "ExecuteTime": {
     "end_time": "2023-05-24T23:02:13.242198100Z",
     "start_time": "2023-05-24T23:02:13.164074600Z"
    }
   }
  },
  {
   "cell_type": "markdown",
   "source": [
    "Stopwords"
   ],
   "metadata": {
    "collapsed": false
   }
  },
  {
   "cell_type": "code",
   "execution_count": 17,
   "outputs": [
    {
     "name": "stdout",
     "output_type": "stream",
     "text": [
      "Stopwords: ['i', 'me', 'my', 'myself', 'we', 'our', 'ours', 'ourselves', 'you', \"you're\", \"you've\", \"you'll\", \"you'd\", 'your', 'yours', 'yourself', 'yourselves', 'he', 'him', 'his', 'himself', 'she', \"she's\", 'her', 'hers', 'herself', 'it', \"it's\", 'its', 'itself', 'they', 'them', 'their', 'theirs', 'themselves', 'what', 'which', 'who', 'whom', 'this', 'that', \"that'll\", 'these', 'those', 'am', 'is', 'are', 'was', 'were', 'be', 'been', 'being', 'have', 'has', 'had', 'having', 'do', 'does', 'did', 'doing', 'a', 'an', 'the', 'and', 'but', 'if', 'or', 'because', 'as', 'until', 'while', 'of', 'at', 'by', 'for', 'with', 'about', 'against', 'between', 'into', 'through', 'during', 'before', 'after', 'above', 'below', 'to', 'from', 'up', 'down', 'in', 'out', 'on', 'off', 'over', 'under', 'again', 'further', 'then', 'once', 'here', 'there', 'when', 'where', 'why', 'how', 'all', 'any', 'both', 'each', 'few', 'more', 'most', 'other', 'some', 'such', 'no', 'nor', 'not', 'only', 'own', 'same', 'so', 'than', 'too', 'very', 's', 't', 'can', 'will', 'just', 'don', \"don't\", 'should', \"should've\", 'now', 'd', 'll', 'm', 'o', 're', 've', 'y', 'ain', 'aren', \"aren't\", 'couldn', \"couldn't\", 'didn', \"didn't\", 'doesn', \"doesn't\", 'hadn', \"hadn't\", 'hasn', \"hasn't\", 'haven', \"haven't\", 'isn', \"isn't\", 'ma', 'mightn', \"mightn't\", 'mustn', \"mustn't\", 'needn', \"needn't\", 'shan', \"shan't\", 'shouldn', \"shouldn't\", 'wasn', \"wasn't\", 'weren', \"weren't\", 'won', \"won't\", 'wouldn', \"wouldn't\"]\n"
     ]
    }
   ],
   "source": [
    "stopwords = nltk.corpus.stopwords.words('english')\n",
    "print(f'Stopwords: {stopwords}')\n",
    "\n",
    "def remove_stopwords(text):\n",
    "    without_stopwords = [word for word in text if word not in stopwords]\n",
    "    return without_stopwords\n",
    "\n",
    "\n",
    "class RemoveStopwordsTransformer(BaseEstimator, TransformerMixin):\n",
    "    def __init__(self, text_column):\n",
    "        self.text_column = text_column\n",
    "\n",
    "    def fit(self, X, y=None):\n",
    "        return self\n",
    "\n",
    "    def transform(self, X, y=None):\n",
    "        X_ = X.copy()\n",
    "        X_[self.text_column] = X_[self.text_column].apply(lambda x: remove_stopwords(x))\n",
    "        return X_"
   ],
   "metadata": {
    "collapsed": false,
    "ExecuteTime": {
     "end_time": "2023-05-24T23:02:14.413621Z",
     "start_time": "2023-05-24T23:02:14.288624200Z"
    }
   }
  },
  {
   "cell_type": "markdown",
   "source": [
    "Usuwanie krótkich tokenów"
   ],
   "metadata": {
    "collapsed": false
   }
  },
  {
   "cell_type": "code",
   "execution_count": 18,
   "outputs": [],
   "source": [
    "def remove_short_tokens(text):\n",
    "    without_shorts = [word for word in text if len(word) > 2]\n",
    "    return without_shorts\n",
    "\n",
    "class RemoveShortTokensTransformer(BaseEstimator, TransformerMixin):\n",
    "    def __init__(self, text_column):\n",
    "        self.text_column = text_column\n",
    "\n",
    "    def fit(self, X, y=None):\n",
    "        return self\n",
    "\n",
    "    def transform(self, X, y=None):\n",
    "        X_ = X.copy()\n",
    "        X_[self.text_column] = X_[self.text_column].apply(lambda x: remove_short_tokens(x))\n",
    "        return X_"
   ],
   "metadata": {
    "collapsed": false,
    "ExecuteTime": {
     "end_time": "2023-05-24T23:02:16.162930100Z",
     "start_time": "2023-05-24T23:02:16.084802Z"
    }
   }
  },
  {
   "cell_type": "markdown",
   "source": [
    "Usunięcie linków"
   ],
   "metadata": {
    "collapsed": false
   }
  },
  {
   "cell_type": "code",
   "execution_count": 19,
   "outputs": [],
   "source": [
    "def remove_links(text):\n",
    "    without_shorts = [word for word in text if word[0:4]!='http']\n",
    "    return without_shorts\n",
    "\n",
    "class RemoveLinksTransformer(BaseEstimator, TransformerMixin):\n",
    "    def __init__(self, text_column):\n",
    "        self.text_column = text_column\n",
    "\n",
    "    def fit(self, X, y=None):\n",
    "        return self\n",
    "\n",
    "    def transform(self, X, y=None):\n",
    "        X_ = X.copy()\n",
    "        X_[self.text_column] = X_[self.text_column].apply(lambda x: remove_links(x))\n",
    "        return X_"
   ],
   "metadata": {
    "collapsed": false,
    "ExecuteTime": {
     "end_time": "2023-05-24T23:02:17.384247200Z",
     "start_time": "2023-05-24T23:02:17.290497800Z"
    }
   }
  },
  {
   "cell_type": "markdown",
   "source": [
    "Stemmer"
   ],
   "metadata": {
    "collapsed": false
   }
  },
  {
   "cell_type": "code",
   "execution_count": 20,
   "outputs": [],
   "source": [
    "def stemming(text):\n",
    "    stemmer = PorterStemmer()\n",
    "    stemmed_words = [stemmer.stem(word) for word in text]\n",
    "    return stemmed_words\n",
    "\n",
    "\n",
    "class StemTransformer(BaseEstimator, TransformerMixin):\n",
    "    def __init__(self, text_column):\n",
    "        self.text_column = text_column\n",
    "\n",
    "    def fit(self, X, y=None):\n",
    "        return self\n",
    "\n",
    "    def transform(self, X, y=None):\n",
    "        X_ = X.copy()\n",
    "        X_[self.text_column] = X_[self.text_column].apply(lambda x: stemming(x))\n",
    "        return X_"
   ],
   "metadata": {
    "collapsed": false,
    "ExecuteTime": {
     "end_time": "2023-05-24T23:02:18.562277800Z",
     "start_time": "2023-05-24T23:02:18.484038Z"
    }
   }
  },
  {
   "cell_type": "markdown",
   "source": [
    "Wektoryzacja"
   ],
   "metadata": {
    "collapsed": false
   }
  },
  {
   "cell_type": "code",
   "execution_count": 21,
   "outputs": [],
   "source": [
    "class Return_String_Transformer(BaseEstimator, TransformerMixin):\n",
    "    def __init__(self, text_column):\n",
    "        self.text_column = text_column\n",
    "\n",
    "    def fit(self, X, y=None):\n",
    "        return self\n",
    "\n",
    "    def transform(self, X, y=None):\n",
    "        X_ = X.copy()\n",
    "        X_[self.text_column] = X_[self.text_column].apply(lambda x: ' '.join(x))\n",
    "        X_ = pd.Series(X_[self.text_column])\n",
    "        return X_"
   ],
   "metadata": {
    "collapsed": false,
    "ExecuteTime": {
     "end_time": "2023-05-24T23:02:19.822694900Z",
     "start_time": "2023-05-24T23:02:19.744568300Z"
    }
   }
  },
  {
   "cell_type": "markdown",
   "source": [
    "3.4. Pipeline do przetwarzania danych tekstowych (bez klasyfikacji)"
   ],
   "metadata": {
    "collapsed": false
   }
  },
  {
   "cell_type": "code",
   "execution_count": 22,
   "outputs": [
    {
     "name": "stdout",
     "output_type": "stream",
     "text": [
      "344722 \n",
      " Got $HYPER yet?  5% POStake and SUPER fast confirmations. Wallet with coin control!  In its second year! #bitcoin http://imgur.com/dbXanTB?O3kbg \n"
     ]
    }
   ],
   "source": [
    "#testowy tekst\n",
    "i = randint(0, len(data['text']))\n",
    "print(i, '\\n', data['text'][i])"
   ],
   "metadata": {
    "collapsed": false,
    "ExecuteTime": {
     "end_time": "2023-05-24T23:02:22.760599500Z",
     "start_time": "2023-05-24T23:02:22.713723900Z"
    }
   }
  },
  {
   "cell_type": "code",
   "execution_count": 24,
   "outputs": [
    {
     "data": {
      "text/plain": "text    0\ndtype: int64"
     },
     "execution_count": 24,
     "metadata": {},
     "output_type": "execute_result"
    }
   ],
   "source": [
    "X_train.isna().sum()"
   ],
   "metadata": {
    "collapsed": false,
    "ExecuteTime": {
     "end_time": "2023-05-24T23:02:42.754405300Z",
     "start_time": "2023-05-24T23:02:42.379033400Z"
    }
   }
  },
  {
   "cell_type": "code",
   "execution_count": 26,
   "outputs": [],
   "source": [
    "text_prep_pipeline = Pipeline(steps=[\n",
    "    ('remove_punctuation', RemovePunctuationTransformer(text_column='text')),\n",
    "    ('tokenizer', TokenizeTransformer(text_column='text')),\n",
    "    ('remove_stop_words', RemoveStopwordsTransformer(text_column='text')),\n",
    "    ('remove_links', RemoveLinksTransformer(text_column='text')),\n",
    "    ('remove_short_tokens', RemoveShortTokensTransformer(text_column='text')),\n",
    "    ('stemmer', StemTransformer(text_column='text')),\n",
    "    ('return_string', Return_String_Transformer(text_column='text'))\n",
    "])"
   ],
   "metadata": {
    "collapsed": false,
    "ExecuteTime": {
     "end_time": "2023-05-24T23:04:07.257255300Z",
     "start_time": "2023-05-24T23:04:07.226005800Z"
    }
   }
  },
  {
   "cell_type": "code",
   "execution_count": 47,
   "outputs": [],
   "source": [
    "X_train = text_prep_pipeline.fit_transform(X_train)\n",
    "X_train.to_csv('X_train.csv', index=False)"
   ],
   "metadata": {
    "collapsed": false,
    "ExecuteTime": {
     "end_time": "2023-05-24T22:21:13.240007Z",
     "start_time": "2023-05-24T22:18:53.036998100Z"
    }
   }
  },
  {
   "cell_type": "code",
   "execution_count": null,
   "outputs": [],
   "source": [
    "X_test = text_prep_pipeline.fit_transform(X_test)\n",
    "X_test.to_csv('X_test.csv', index=False)"
   ],
   "metadata": {
    "collapsed": false,
    "ExecuteTime": {
     "start_time": "2023-05-24T22:22:55.746104500Z"
    }
   }
  },
  {
   "cell_type": "markdown",
   "source": [
    "Info"
   ],
   "metadata": {
    "collapsed": false
   }
  },
  {
   "cell_type": "code",
   "execution_count": 28,
   "outputs": [
    {
     "name": "stdout",
     "output_type": "stream",
     "text": [
      "<class 'pandas.core.frame.DataFrame'>\n",
      "Index: 3121628 entries, 0 to 3121627\n",
      "Data columns (total 1 columns):\n",
      " #   Column  Dtype \n",
      "---  ------  ----- \n",
      " 0   text    object\n",
      "dtypes: object(1)\n",
      "memory usage: 47.6+ MB\n"
     ]
    }
   ],
   "source": [
    "X_train.info()"
   ],
   "metadata": {
    "collapsed": false,
    "ExecuteTime": {
     "end_time": "2023-05-25T06:09:15.094999900Z",
     "start_time": "2023-05-25T06:09:14.412032400Z"
    }
   }
  },
  {
   "cell_type": "code",
   "execution_count": 41,
   "outputs": [
    {
     "name": "stdout",
     "output_type": "stream",
     "text": [
      "172474 \n",
      " Current price: 155.34£ $BTCGBP $btc #bitcoin 2015-05-03 10:00:03 BST\n"
     ]
    },
    {
     "ename": "KeyError",
     "evalue": "'text'",
     "output_type": "error",
     "traceback": [
      "\u001B[1;31m---------------------------------------------------------------------------\u001B[0m",
      "\u001B[1;31mKeyError\u001B[0m                                  Traceback (most recent call last)",
      "File \u001B[1;32m~\\.conda\\envs\\newConda\\lib\\site-packages\\pandas\\core\\indexes\\base.py:3652\u001B[0m, in \u001B[0;36mIndex.get_loc\u001B[1;34m(self, key)\u001B[0m\n\u001B[0;32m   3651\u001B[0m \u001B[38;5;28;01mtry\u001B[39;00m:\n\u001B[1;32m-> 3652\u001B[0m     \u001B[38;5;28;01mreturn\u001B[39;00m \u001B[38;5;28;43mself\u001B[39;49m\u001B[38;5;241;43m.\u001B[39;49m\u001B[43m_engine\u001B[49m\u001B[38;5;241;43m.\u001B[39;49m\u001B[43mget_loc\u001B[49m\u001B[43m(\u001B[49m\u001B[43mcasted_key\u001B[49m\u001B[43m)\u001B[49m\n\u001B[0;32m   3653\u001B[0m \u001B[38;5;28;01mexcept\u001B[39;00m \u001B[38;5;167;01mKeyError\u001B[39;00m \u001B[38;5;28;01mas\u001B[39;00m err:\n",
      "File \u001B[1;32m~\\.conda\\envs\\newConda\\lib\\site-packages\\pandas\\_libs\\index.pyx:147\u001B[0m, in \u001B[0;36mpandas._libs.index.IndexEngine.get_loc\u001B[1;34m()\u001B[0m\n",
      "File \u001B[1;32m~\\.conda\\envs\\newConda\\lib\\site-packages\\pandas\\_libs\\index.pyx:155\u001B[0m, in \u001B[0;36mpandas._libs.index.IndexEngine.get_loc\u001B[1;34m()\u001B[0m\n",
      "File \u001B[1;32mpandas\\_libs\\index_class_helper.pxi:70\u001B[0m, in \u001B[0;36mpandas._libs.index.Int64Engine._check_type\u001B[1;34m()\u001B[0m\n",
      "\u001B[1;31mKeyError\u001B[0m: 'text'",
      "\nThe above exception was the direct cause of the following exception:\n",
      "\u001B[1;31mKeyError\u001B[0m                                  Traceback (most recent call last)",
      "Cell \u001B[1;32mIn[41], line 3\u001B[0m\n\u001B[0;32m      1\u001B[0m i \u001B[38;5;241m=\u001B[39m randint(\u001B[38;5;241m0\u001B[39m, \u001B[38;5;28mlen\u001B[39m(X_train[\u001B[38;5;124m'\u001B[39m\u001B[38;5;124mtext\u001B[39m\u001B[38;5;124m'\u001B[39m]))\n\u001B[0;32m      2\u001B[0m \u001B[38;5;28mprint\u001B[39m(i, \u001B[38;5;124m'\u001B[39m\u001B[38;5;130;01m\\n\u001B[39;00m\u001B[38;5;124m'\u001B[39m, data[\u001B[38;5;124m'\u001B[39m\u001B[38;5;124mtext\u001B[39m\u001B[38;5;124m'\u001B[39m][i])\n\u001B[1;32m----> 3\u001B[0m \u001B[38;5;28mprint\u001B[39m(i, \u001B[38;5;124m'\u001B[39m\u001B[38;5;130;01m\\n\u001B[39;00m\u001B[38;5;124m'\u001B[39m, \u001B[43mX_train_stemmed\u001B[49m\u001B[43m[\u001B[49m\u001B[38;5;124;43m'\u001B[39;49m\u001B[38;5;124;43mtext\u001B[39;49m\u001B[38;5;124;43m'\u001B[39;49m\u001B[43m]\u001B[49m[i])\n",
      "File \u001B[1;32m~\\.conda\\envs\\newConda\\lib\\site-packages\\pandas\\core\\series.py:1007\u001B[0m, in \u001B[0;36mSeries.__getitem__\u001B[1;34m(self, key)\u001B[0m\n\u001B[0;32m   1004\u001B[0m     \u001B[38;5;28;01mreturn\u001B[39;00m \u001B[38;5;28mself\u001B[39m\u001B[38;5;241m.\u001B[39m_values[key]\n\u001B[0;32m   1006\u001B[0m \u001B[38;5;28;01melif\u001B[39;00m key_is_scalar:\n\u001B[1;32m-> 1007\u001B[0m     \u001B[38;5;28;01mreturn\u001B[39;00m \u001B[38;5;28;43mself\u001B[39;49m\u001B[38;5;241;43m.\u001B[39;49m\u001B[43m_get_value\u001B[49m\u001B[43m(\u001B[49m\u001B[43mkey\u001B[49m\u001B[43m)\u001B[49m\n\u001B[0;32m   1009\u001B[0m \u001B[38;5;28;01mif\u001B[39;00m is_hashable(key):\n\u001B[0;32m   1010\u001B[0m     \u001B[38;5;66;03m# Otherwise index.get_value will raise InvalidIndexError\u001B[39;00m\n\u001B[0;32m   1011\u001B[0m     \u001B[38;5;28;01mtry\u001B[39;00m:\n\u001B[0;32m   1012\u001B[0m         \u001B[38;5;66;03m# For labels that don't resolve as scalars like tuples and frozensets\u001B[39;00m\n",
      "File \u001B[1;32m~\\.conda\\envs\\newConda\\lib\\site-packages\\pandas\\core\\series.py:1116\u001B[0m, in \u001B[0;36mSeries._get_value\u001B[1;34m(self, label, takeable)\u001B[0m\n\u001B[0;32m   1113\u001B[0m     \u001B[38;5;28;01mreturn\u001B[39;00m \u001B[38;5;28mself\u001B[39m\u001B[38;5;241m.\u001B[39m_values[label]\n\u001B[0;32m   1115\u001B[0m \u001B[38;5;66;03m# Similar to Index.get_value, but we do not fall back to positional\u001B[39;00m\n\u001B[1;32m-> 1116\u001B[0m loc \u001B[38;5;241m=\u001B[39m \u001B[38;5;28;43mself\u001B[39;49m\u001B[38;5;241;43m.\u001B[39;49m\u001B[43mindex\u001B[49m\u001B[38;5;241;43m.\u001B[39;49m\u001B[43mget_loc\u001B[49m\u001B[43m(\u001B[49m\u001B[43mlabel\u001B[49m\u001B[43m)\u001B[49m\n\u001B[0;32m   1118\u001B[0m \u001B[38;5;28;01mif\u001B[39;00m is_integer(loc):\n\u001B[0;32m   1119\u001B[0m     \u001B[38;5;28;01mreturn\u001B[39;00m \u001B[38;5;28mself\u001B[39m\u001B[38;5;241m.\u001B[39m_values[loc]\n",
      "File \u001B[1;32m~\\.conda\\envs\\newConda\\lib\\site-packages\\pandas\\core\\indexes\\base.py:3654\u001B[0m, in \u001B[0;36mIndex.get_loc\u001B[1;34m(self, key)\u001B[0m\n\u001B[0;32m   3652\u001B[0m     \u001B[38;5;28;01mreturn\u001B[39;00m \u001B[38;5;28mself\u001B[39m\u001B[38;5;241m.\u001B[39m_engine\u001B[38;5;241m.\u001B[39mget_loc(casted_key)\n\u001B[0;32m   3653\u001B[0m \u001B[38;5;28;01mexcept\u001B[39;00m \u001B[38;5;167;01mKeyError\u001B[39;00m \u001B[38;5;28;01mas\u001B[39;00m err:\n\u001B[1;32m-> 3654\u001B[0m     \u001B[38;5;28;01mraise\u001B[39;00m \u001B[38;5;167;01mKeyError\u001B[39;00m(key) \u001B[38;5;28;01mfrom\u001B[39;00m \u001B[38;5;21;01merr\u001B[39;00m\n\u001B[0;32m   3655\u001B[0m \u001B[38;5;28;01mexcept\u001B[39;00m \u001B[38;5;167;01mTypeError\u001B[39;00m:\n\u001B[0;32m   3656\u001B[0m     \u001B[38;5;66;03m# If we have a listlike key, _check_indexing_error will raise\u001B[39;00m\n\u001B[0;32m   3657\u001B[0m     \u001B[38;5;66;03m#  InvalidIndexError. Otherwise we fall through and re-raise\u001B[39;00m\n\u001B[0;32m   3658\u001B[0m     \u001B[38;5;66;03m#  the TypeError.\u001B[39;00m\n\u001B[0;32m   3659\u001B[0m     \u001B[38;5;28mself\u001B[39m\u001B[38;5;241m.\u001B[39m_check_indexing_error(key)\n",
      "\u001B[1;31mKeyError\u001B[0m: 'text'"
     ]
    }
   ],
   "source": [
    "i = randint(0, len(X_train['text']))\n",
    "print(i, '\\n', data['text'][i])\n",
    "print(i, '\\n', X_train['text'][i])"
   ],
   "metadata": {
    "collapsed": false,
    "ExecuteTime": {
     "end_time": "2023-05-25T06:15:10.295251Z",
     "start_time": "2023-05-25T06:15:10.061777700Z"
    }
   }
  },
  {
   "cell_type": "code",
   "execution_count": 39,
   "outputs": [
    {
     "name": "stdout",
     "output_type": "stream",
     "text": [
      "3629709 \n",
      " @CryptoPanda15 @RussellOkung No sarcasm on the \"heck, the whole web!\"\n",
      "Browse this #Metanet tag, check out the Bitcoin blockchain browser called \"Bottle\". Checkout @agora_icu. \n",
      "You can get a @money_button or @handcashapp wallet you can start earning BSV on @YoursOrg @bitstagramcom @FivebucksC @Streamanity etc\n"
     ]
    },
    {
     "ename": "KeyError",
     "evalue": "'text'",
     "output_type": "error",
     "traceback": [
      "\u001B[1;31m---------------------------------------------------------------------------\u001B[0m",
      "\u001B[1;31mKeyError\u001B[0m                                  Traceback (most recent call last)",
      "File \u001B[1;32m~\\.conda\\envs\\newConda\\lib\\site-packages\\pandas\\core\\indexes\\base.py:3652\u001B[0m, in \u001B[0;36mIndex.get_loc\u001B[1;34m(self, key)\u001B[0m\n\u001B[0;32m   3651\u001B[0m \u001B[38;5;28;01mtry\u001B[39;00m:\n\u001B[1;32m-> 3652\u001B[0m     \u001B[38;5;28;01mreturn\u001B[39;00m \u001B[38;5;28;43mself\u001B[39;49m\u001B[38;5;241;43m.\u001B[39;49m\u001B[43m_engine\u001B[49m\u001B[38;5;241;43m.\u001B[39;49m\u001B[43mget_loc\u001B[49m\u001B[43m(\u001B[49m\u001B[43mcasted_key\u001B[49m\u001B[43m)\u001B[49m\n\u001B[0;32m   3653\u001B[0m \u001B[38;5;28;01mexcept\u001B[39;00m \u001B[38;5;167;01mKeyError\u001B[39;00m \u001B[38;5;28;01mas\u001B[39;00m err:\n",
      "File \u001B[1;32m~\\.conda\\envs\\newConda\\lib\\site-packages\\pandas\\_libs\\index.pyx:147\u001B[0m, in \u001B[0;36mpandas._libs.index.IndexEngine.get_loc\u001B[1;34m()\u001B[0m\n",
      "File \u001B[1;32m~\\.conda\\envs\\newConda\\lib\\site-packages\\pandas\\_libs\\index.pyx:155\u001B[0m, in \u001B[0;36mpandas._libs.index.IndexEngine.get_loc\u001B[1;34m()\u001B[0m\n",
      "File \u001B[1;32mpandas\\_libs\\index_class_helper.pxi:70\u001B[0m, in \u001B[0;36mpandas._libs.index.Int64Engine._check_type\u001B[1;34m()\u001B[0m\n",
      "\u001B[1;31mKeyError\u001B[0m: 'text'",
      "\nThe above exception was the direct cause of the following exception:\n",
      "\u001B[1;31mKeyError\u001B[0m                                  Traceback (most recent call last)",
      "Cell \u001B[1;32mIn[39], line 3\u001B[0m\n\u001B[0;32m      1\u001B[0m i \u001B[38;5;241m=\u001B[39m randint(\u001B[38;5;28mlen\u001B[39m(X_train[\u001B[38;5;124m'\u001B[39m\u001B[38;5;124mtext\u001B[39m\u001B[38;5;124m'\u001B[39m]), (\u001B[38;5;28mlen\u001B[39m(X_train[\u001B[38;5;124m'\u001B[39m\u001B[38;5;124mtext\u001B[39m\u001B[38;5;124m'\u001B[39m]) \u001B[38;5;241m+\u001B[39m \u001B[38;5;28mlen\u001B[39m(X_test[\u001B[38;5;124m'\u001B[39m\u001B[38;5;124mtext\u001B[39m\u001B[38;5;124m'\u001B[39m])\u001B[38;5;241m-\u001B[39m\u001B[38;5;241m1\u001B[39m))\n\u001B[0;32m      2\u001B[0m \u001B[38;5;28mprint\u001B[39m(i, \u001B[38;5;124m'\u001B[39m\u001B[38;5;130;01m\\n\u001B[39;00m\u001B[38;5;124m'\u001B[39m, data[\u001B[38;5;124m'\u001B[39m\u001B[38;5;124mtext\u001B[39m\u001B[38;5;124m'\u001B[39m][i])\n\u001B[1;32m----> 3\u001B[0m \u001B[38;5;28mprint\u001B[39m(i, \u001B[38;5;124m'\u001B[39m\u001B[38;5;130;01m\\n\u001B[39;00m\u001B[38;5;124m'\u001B[39m, \u001B[43mX_test_stemmed\u001B[49m\u001B[43m[\u001B[49m\u001B[38;5;124;43m'\u001B[39;49m\u001B[38;5;124;43mtext\u001B[39;49m\u001B[38;5;124;43m'\u001B[39;49m\u001B[43m]\u001B[49m[i])\n",
      "File \u001B[1;32m~\\.conda\\envs\\newConda\\lib\\site-packages\\pandas\\core\\series.py:1007\u001B[0m, in \u001B[0;36mSeries.__getitem__\u001B[1;34m(self, key)\u001B[0m\n\u001B[0;32m   1004\u001B[0m     \u001B[38;5;28;01mreturn\u001B[39;00m \u001B[38;5;28mself\u001B[39m\u001B[38;5;241m.\u001B[39m_values[key]\n\u001B[0;32m   1006\u001B[0m \u001B[38;5;28;01melif\u001B[39;00m key_is_scalar:\n\u001B[1;32m-> 1007\u001B[0m     \u001B[38;5;28;01mreturn\u001B[39;00m \u001B[38;5;28;43mself\u001B[39;49m\u001B[38;5;241;43m.\u001B[39;49m\u001B[43m_get_value\u001B[49m\u001B[43m(\u001B[49m\u001B[43mkey\u001B[49m\u001B[43m)\u001B[49m\n\u001B[0;32m   1009\u001B[0m \u001B[38;5;28;01mif\u001B[39;00m is_hashable(key):\n\u001B[0;32m   1010\u001B[0m     \u001B[38;5;66;03m# Otherwise index.get_value will raise InvalidIndexError\u001B[39;00m\n\u001B[0;32m   1011\u001B[0m     \u001B[38;5;28;01mtry\u001B[39;00m:\n\u001B[0;32m   1012\u001B[0m         \u001B[38;5;66;03m# For labels that don't resolve as scalars like tuples and frozensets\u001B[39;00m\n",
      "File \u001B[1;32m~\\.conda\\envs\\newConda\\lib\\site-packages\\pandas\\core\\series.py:1116\u001B[0m, in \u001B[0;36mSeries._get_value\u001B[1;34m(self, label, takeable)\u001B[0m\n\u001B[0;32m   1113\u001B[0m     \u001B[38;5;28;01mreturn\u001B[39;00m \u001B[38;5;28mself\u001B[39m\u001B[38;5;241m.\u001B[39m_values[label]\n\u001B[0;32m   1115\u001B[0m \u001B[38;5;66;03m# Similar to Index.get_value, but we do not fall back to positional\u001B[39;00m\n\u001B[1;32m-> 1116\u001B[0m loc \u001B[38;5;241m=\u001B[39m \u001B[38;5;28;43mself\u001B[39;49m\u001B[38;5;241;43m.\u001B[39;49m\u001B[43mindex\u001B[49m\u001B[38;5;241;43m.\u001B[39;49m\u001B[43mget_loc\u001B[49m\u001B[43m(\u001B[49m\u001B[43mlabel\u001B[49m\u001B[43m)\u001B[49m\n\u001B[0;32m   1118\u001B[0m \u001B[38;5;28;01mif\u001B[39;00m is_integer(loc):\n\u001B[0;32m   1119\u001B[0m     \u001B[38;5;28;01mreturn\u001B[39;00m \u001B[38;5;28mself\u001B[39m\u001B[38;5;241m.\u001B[39m_values[loc]\n",
      "File \u001B[1;32m~\\.conda\\envs\\newConda\\lib\\site-packages\\pandas\\core\\indexes\\base.py:3654\u001B[0m, in \u001B[0;36mIndex.get_loc\u001B[1;34m(self, key)\u001B[0m\n\u001B[0;32m   3652\u001B[0m     \u001B[38;5;28;01mreturn\u001B[39;00m \u001B[38;5;28mself\u001B[39m\u001B[38;5;241m.\u001B[39m_engine\u001B[38;5;241m.\u001B[39mget_loc(casted_key)\n\u001B[0;32m   3653\u001B[0m \u001B[38;5;28;01mexcept\u001B[39;00m \u001B[38;5;167;01mKeyError\u001B[39;00m \u001B[38;5;28;01mas\u001B[39;00m err:\n\u001B[1;32m-> 3654\u001B[0m     \u001B[38;5;28;01mraise\u001B[39;00m \u001B[38;5;167;01mKeyError\u001B[39;00m(key) \u001B[38;5;28;01mfrom\u001B[39;00m \u001B[38;5;21;01merr\u001B[39;00m\n\u001B[0;32m   3655\u001B[0m \u001B[38;5;28;01mexcept\u001B[39;00m \u001B[38;5;167;01mTypeError\u001B[39;00m:\n\u001B[0;32m   3656\u001B[0m     \u001B[38;5;66;03m# If we have a listlike key, _check_indexing_error will raise\u001B[39;00m\n\u001B[0;32m   3657\u001B[0m     \u001B[38;5;66;03m#  InvalidIndexError. Otherwise we fall through and re-raise\u001B[39;00m\n\u001B[0;32m   3658\u001B[0m     \u001B[38;5;66;03m#  the TypeError.\u001B[39;00m\n\u001B[0;32m   3659\u001B[0m     \u001B[38;5;28mself\u001B[39m\u001B[38;5;241m.\u001B[39m_check_indexing_error(key)\n",
      "\u001B[1;31mKeyError\u001B[0m: 'text'"
     ]
    }
   ],
   "source": [
    "i = randint(len(X_train['text']), (len(X_train['text']) + len(X_test['text'])-1))\n",
    "print(i, '\\n', data['text'][i])\n",
    "print(i, '\\n', X_test['text'][i])"
   ],
   "metadata": {
    "collapsed": false,
    "ExecuteTime": {
     "end_time": "2023-05-25T06:14:03.895002400Z",
     "start_time": "2023-05-25T06:14:03.645396200Z"
    }
   }
  }
 ],
 "metadata": {
  "kernelspec": {
   "display_name": "Python 3",
   "language": "python",
   "name": "python3"
  },
  "language_info": {
   "codemirror_mode": {
    "name": "ipython",
    "version": 2
   },
   "file_extension": ".py",
   "mimetype": "text/x-python",
   "name": "python",
   "nbconvert_exporter": "python",
   "pygments_lexer": "ipython2",
   "version": "2.7.6"
  }
 },
 "nbformat": 4,
 "nbformat_minor": 0
}
=======
{
 "cells": [
  {
   "cell_type": "markdown",
   "source": [
    "3 Przygotowanie danych do klasyfikacji"
   ],
   "metadata": {
    "collapsed": false
   }
  },
  {
   "cell_type": "code",
   "execution_count": 1,
   "outputs": [
    {
     "name": "stderr",
     "output_type": "stream",
     "text": [
      "[nltk_data] Downloading package stopwords to\n",
      "[nltk_data]     C:\\Users\\atago\\AppData\\Roaming\\nltk_data...\n",
      "[nltk_data]   Package stopwords is already up-to-date!\n"
     ]
    }
   ],
   "source": [
    "import pandas as pd\n",
    "import string\n",
    "from sklearn.base import BaseEstimator, TransformerMixin\n",
    "import nltk\n",
    "nltk.download('stopwords')\n",
    "from nltk import PorterStemmer\n",
    "from sklearn.pipeline import Pipeline\n",
    "from random import randint"
   ],
   "metadata": {
    "collapsed": false,
    "ExecuteTime": {
     "end_time": "2023-05-25T06:31:13.195085900Z",
     "start_time": "2023-05-25T06:31:08.411618700Z"
    }
   }
  },
  {
   "cell_type": "markdown",
   "source": [
    "3.1. Wczytanie danych z pliku"
   ],
   "metadata": {
    "collapsed": false
   }
  },
  {
   "cell_type": "code",
   "execution_count": 2,
   "outputs": [],
   "source": [
    "data_file_name = 'data_after_preparation.csv'\n",
    "data = pd.read_csv(data_file_name)"
   ],
   "metadata": {
    "collapsed": false,
    "ExecuteTime": {
     "end_time": "2023-05-25T06:31:49.011679400Z",
     "start_time": "2023-05-25T06:31:27.328380800Z"
    }
   }
  },
  {
   "cell_type": "code",
   "execution_count": 3,
   "outputs": [
    {
     "name": "stdout",
     "output_type": "stream",
     "text": [
      "<class 'pandas.core.frame.DataFrame'>\n",
      "RangeIndex: 3932611 entries, 0 to 3932610\n",
      "Data columns (total 4 columns):\n",
      " #   Column         Dtype  \n",
      "---  ------         -----  \n",
      " 0   Date           object \n",
      " 1   text           object \n",
      " 2   bitcoin_price  float64\n",
      " 3   bitcoin_trend  int64  \n",
      "dtypes: float64(1), int64(1), object(2)\n",
      "memory usage: 120.0+ MB\n"
     ]
    }
   ],
   "source": [
    "data.info()"
   ],
   "metadata": {
    "collapsed": false,
    "ExecuteTime": {
     "end_time": "2023-05-25T06:32:06.461630Z",
     "start_time": "2023-05-25T06:32:06.345117900Z"
    }
   }
  },
  {
   "cell_type": "markdown",
   "source": [
    "3.2. Podział danych na uczące i testowe po określonej dacie"
   ],
   "metadata": {
    "collapsed": false
   }
  },
  {
   "cell_type": "code",
   "execution_count": 4,
   "metadata": {
    "collapsed": true,
    "ExecuteTime": {
     "end_time": "2023-05-25T06:32:26.210918400Z",
     "start_time": "2023-05-25T06:32:26.066079900Z"
    }
   },
   "outputs": [],
   "source": [
    "X = data['text']\n",
    "y = data['bitcoin_trend']"
   ]
  },
  {
   "cell_type": "code",
   "execution_count": 5,
   "outputs": [
    {
     "name": "stdout",
     "output_type": "stream",
     "text": [
      "<class 'pandas.core.series.Series'>\n",
      "RangeIndex: 3932611 entries, 0 to 3932610\n",
      "Series name: bitcoin_trend\n",
      "Non-Null Count    Dtype\n",
      "--------------    -----\n",
      "3932611 non-null  int64\n",
      "dtypes: int64(1)\n",
      "memory usage: 30.0 MB\n"
     ]
    }
   ],
   "source": [
    "y.info()"
   ],
   "metadata": {
    "collapsed": false,
    "ExecuteTime": {
     "end_time": "2023-05-25T06:32:27.428257100Z",
     "start_time": "2023-05-25T06:32:27.261751400Z"
    }
   }
  },
  {
   "cell_type": "code",
   "execution_count": 6,
   "outputs": [],
   "source": [
    "data = data.sort_values('Date', ignore_index=True)"
   ],
   "metadata": {
    "collapsed": false,
    "ExecuteTime": {
     "end_time": "2023-05-25T06:32:40.811657100Z",
     "start_time": "2023-05-25T06:32:34.661972400Z"
    }
   }
  },
  {
   "cell_type": "code",
   "execution_count": 7,
   "outputs": [
    {
     "data": {
      "text/plain": "         Date                                               text   \n0  2014-09-17  $447.00 at 01:00 UTC [24h Range: $443.57 - $46...  \\\n1  2014-09-17  BTCe Prices\\nLAST: $444.00\\n BID: $444.00\\n AS...   \n2  2014-09-17  LIVE: Profit = $939.28 (0.55 %). BUY B382.20 @...   \n3  2014-09-17  $452.40 at 17:15 UTC [24h Range: $450.00 - $46...   \n4  2014-09-17  @KQED, enjoy this little gift! @xeniar sent yo...   \n\n   bitcoin_price  bitcoin_trend  \n0     457.334015             -1  \n1     457.334015             -1  \n2     457.334015             -1  \n3     457.334015             -1  \n4     457.334015             -1  ",
      "text/html": "<div>\n<style scoped>\n    .dataframe tbody tr th:only-of-type {\n        vertical-align: middle;\n    }\n\n    .dataframe tbody tr th {\n        vertical-align: top;\n    }\n\n    .dataframe thead th {\n        text-align: right;\n    }\n</style>\n<table border=\"1\" class=\"dataframe\">\n  <thead>\n    <tr style=\"text-align: right;\">\n      <th></th>\n      <th>Date</th>\n      <th>text</th>\n      <th>bitcoin_price</th>\n      <th>bitcoin_trend</th>\n    </tr>\n  </thead>\n  <tbody>\n    <tr>\n      <th>0</th>\n      <td>2014-09-17</td>\n      <td>$447.00 at 01:00 UTC [24h Range: $443.57 - $46...</td>\n      <td>457.334015</td>\n      <td>-1</td>\n    </tr>\n    <tr>\n      <th>1</th>\n      <td>2014-09-17</td>\n      <td>BTCe Prices\\nLAST: $444.00\\n BID: $444.00\\n AS...</td>\n      <td>457.334015</td>\n      <td>-1</td>\n    </tr>\n    <tr>\n      <th>2</th>\n      <td>2014-09-17</td>\n      <td>LIVE: Profit = $939.28 (0.55 %). BUY B382.20 @...</td>\n      <td>457.334015</td>\n      <td>-1</td>\n    </tr>\n    <tr>\n      <th>3</th>\n      <td>2014-09-17</td>\n      <td>$452.40 at 17:15 UTC [24h Range: $450.00 - $46...</td>\n      <td>457.334015</td>\n      <td>-1</td>\n    </tr>\n    <tr>\n      <th>4</th>\n      <td>2014-09-17</td>\n      <td>@KQED, enjoy this little gift! @xeniar sent yo...</td>\n      <td>457.334015</td>\n      <td>-1</td>\n    </tr>\n  </tbody>\n</table>\n</div>"
     },
     "execution_count": 7,
     "metadata": {},
     "output_type": "execute_result"
    }
   ],
   "source": [
    "data.head()"
   ],
   "metadata": {
    "collapsed": false,
    "ExecuteTime": {
     "end_time": "2023-05-25T06:32:41.728427400Z",
     "start_time": "2023-05-25T06:32:41.628562100Z"
    }
   }
  },
  {
   "cell_type": "code",
   "execution_count": 8,
   "outputs": [
    {
     "data": {
      "text/plain": "Date             0\ntext             0\nbitcoin_price    0\nbitcoin_trend    0\ndtype: int64"
     },
     "execution_count": 8,
     "metadata": {},
     "output_type": "execute_result"
    }
   ],
   "source": [
    "data.isna().sum()"
   ],
   "metadata": {
    "collapsed": false,
    "ExecuteTime": {
     "end_time": "2023-05-25T06:32:44.244961Z",
     "start_time": "2023-05-25T06:32:44.195024300Z"
    }
   }
  },
  {
   "cell_type": "code",
   "execution_count": 9,
   "outputs": [
    {
     "name": "stdout",
     "output_type": "stream",
     "text": [
      "Data dzieląca 80% i 20% danych: 2019-05-15\n"
     ]
    }
   ],
   "source": [
    "split_index = int(len(data) * 0.8)\n",
    "\n",
    "split_date = data.iloc[split_index]['Date']\n",
    "print(\"Data dzieląca 80% i 20% danych:\", split_date)"
   ],
   "metadata": {
    "collapsed": false,
    "ExecuteTime": {
     "end_time": "2023-05-25T06:32:46.278647100Z",
     "start_time": "2023-05-25T06:32:46.133471100Z"
    }
   }
  },
  {
   "cell_type": "code",
   "execution_count": 10,
   "outputs": [],
   "source": [
    "train_data = data[data['Date'] < split_date]\n",
    "test_data = data[data['Date'] >= split_date]\n",
    "\n",
    "# Podziel dane treningowe na cechy (X_train) i etykiety (y_train)\n",
    "X_train = train_data['text']\n",
    "y_train = train_data['bitcoin_trend']\n",
    "\n",
    "# Podziel dane testowe na cechy (X_test) i etykiety (y_test)\n",
    "X_test = test_data['text']\n",
    "y_test = test_data['bitcoin_trend']"
   ],
   "metadata": {
    "collapsed": false,
    "ExecuteTime": {
     "end_time": "2023-05-25T06:32:50.028477400Z",
     "start_time": "2023-05-25T06:32:48.028711800Z"
    }
   }
  },
  {
   "cell_type": "code",
   "execution_count": 11,
   "outputs": [
    {
     "name": "stdout",
     "output_type": "stream",
     "text": [
      "<class 'pandas.core.series.Series'>\n",
      "Index: 3121628 entries, 0 to 3121627\n",
      "Series name: text\n",
      "Non-Null Count    Dtype \n",
      "--------------    ----- \n",
      "3121628 non-null  object\n",
      "dtypes: object(1)\n",
      "memory usage: 47.6+ MB\n"
     ]
    }
   ],
   "source": [
    "X_train.info()"
   ],
   "metadata": {
    "collapsed": false,
    "ExecuteTime": {
     "end_time": "2023-05-25T06:32:52.711784300Z",
     "start_time": "2023-05-25T06:32:51.912013600Z"
    }
   }
  },
  {
   "cell_type": "code",
   "execution_count": 12,
   "outputs": [],
   "source": [
    "# Zamiana X na DataFrame\n",
    "X_train = pd.DataFrame(X_train, columns=['text'])\n",
    "X_test = pd.DataFrame(X_test, columns=['text'])"
   ],
   "metadata": {
    "collapsed": false,
    "ExecuteTime": {
     "end_time": "2023-05-25T06:32:52.911787Z",
     "start_time": "2023-05-25T06:32:52.728424800Z"
    }
   }
  },
  {
   "cell_type": "code",
   "execution_count": 13,
   "outputs": [
    {
     "name": "stdout",
     "output_type": "stream",
     "text": [
      "Type of X_train: <class 'pandas.core.frame.DataFrame'>\n",
      "Type of y_train: <class 'pandas.core.series.Series'>\n",
      "Type of X_test: <class 'pandas.core.frame.DataFrame'>\n",
      "Type of y_test: <class 'pandas.core.series.Series'>\n"
     ]
    }
   ],
   "source": [
    "print(f'Type of X_train: {type(X_train)}')\n",
    "print(f'Type of y_train: {type(y_train)}')\n",
    "print(f'Type of X_test: {type(X_test)}')\n",
    "print(f'Type of y_test: {type(y_test)}')"
   ],
   "metadata": {
    "collapsed": false,
    "ExecuteTime": {
     "end_time": "2023-05-25T06:32:54.410837700Z",
     "start_time": "2023-05-25T06:32:54.278280100Z"
    }
   }
  },
  {
   "cell_type": "markdown",
   "source": [
    "Zapisanie dat do pliku"
   ],
   "metadata": {
    "collapsed": false
   }
  },
  {
   "cell_type": "code",
   "execution_count": 16,
   "outputs": [],
   "source": [
    "dates = train_data['Date']"
   ],
   "metadata": {
    "collapsed": false,
    "ExecuteTime": {
     "end_time": "2023-05-25T09:17:14.613090200Z",
     "start_time": "2023-05-25T09:17:14.563166700Z"
    }
   }
  },
  {
   "cell_type": "code",
   "execution_count": 18,
   "outputs": [],
   "source": [
    "dates.to_csv('dates.csv', index=False)"
   ],
   "metadata": {
    "collapsed": false,
    "ExecuteTime": {
     "end_time": "2023-05-25T09:18:05.879649600Z",
     "start_time": "2023-05-25T09:17:58.596350500Z"
    }
   }
  },
  {
   "cell_type": "markdown",
   "source": [
    "Zapisanie y do plików"
   ],
   "metadata": {
    "collapsed": false
   }
  },
  {
   "cell_type": "code",
   "execution_count": 14,
   "outputs": [],
   "source": [
    "y_train.to_csv('y_train.csv', index=False)\n",
    "y_test.to_csv('y_test.csv', index=False)"
   ],
   "metadata": {
    "collapsed": false,
    "ExecuteTime": {
     "end_time": "2023-05-25T06:34:09.111998Z",
     "start_time": "2023-05-25T06:34:01.345116900Z"
    }
   }
  },
  {
   "cell_type": "markdown",
   "source": [
    "3.3. Klasy do przetwarzania danych tekstowych"
   ],
   "metadata": {
    "collapsed": false
   }
  },
  {
   "cell_type": "markdown",
   "source": [
    "Usuwanie znaków interpunkcyjnych"
   ],
   "metadata": {
    "collapsed": false
   }
  },
  {
   "cell_type": "code",
   "execution_count": 15,
   "outputs": [],
   "source": [
    "def remove_punctuation(text):\n",
    "    cleaned = ''.join([word for word in text if word not in string.punctuation])\n",
    "    return cleaned\n",
    "\n",
    "class RemovePunctuationTransformer(BaseEstimator, TransformerMixin):\n",
    "    def __init__(self, text_column):\n",
    "        self.text_column = text_column\n",
    "\n",
    "    def fit(self, X, y=None):\n",
    "        return self\n",
    "\n",
    "    def transform(self, X, y=None):\n",
    "        X_ = X.copy()\n",
    "        X_[self.text_column] = X_[self.text_column].apply(lambda x: remove_punctuation(x))\n",
    "        return X_"
   ],
   "metadata": {
    "collapsed": false,
    "ExecuteTime": {
     "end_time": "2023-05-24T23:02:11.734641900Z",
     "start_time": "2023-05-24T23:02:11.687131400Z"
    }
   }
  },
  {
   "cell_type": "markdown",
   "source": [
    "Tokenizacja"
   ],
   "metadata": {
    "collapsed": false
   }
  },
  {
   "cell_type": "code",
   "execution_count": 16,
   "outputs": [],
   "source": [
    "def tokenizer(text):\n",
    "    lower_text = text.lower()\n",
    "    tokenized_text = nltk.word_tokenize(lower_text)\n",
    "    return tokenized_text\n",
    "\n",
    "class TokenizeTransformer(BaseEstimator, TransformerMixin):\n",
    "    def __init__(self, text_column):\n",
    "        self.text_column = text_column\n",
    "\n",
    "    def fit(self, X, y=None):\n",
    "        return self\n",
    "\n",
    "    def transform(self, X, y=None):\n",
    "        X_ = X.copy()\n",
    "        X_[self.text_column] = X_[self.text_column].apply(lambda x: tokenizer(x))\n",
    "        return X_\n"
   ],
   "metadata": {
    "collapsed": false,
    "ExecuteTime": {
     "end_time": "2023-05-24T23:02:13.242198100Z",
     "start_time": "2023-05-24T23:02:13.164074600Z"
    }
   }
  },
  {
   "cell_type": "markdown",
   "source": [
    "Stopwords"
   ],
   "metadata": {
    "collapsed": false
   }
  },
  {
   "cell_type": "code",
   "execution_count": 17,
   "outputs": [
    {
     "name": "stdout",
     "output_type": "stream",
     "text": [
      "Stopwords: ['i', 'me', 'my', 'myself', 'we', 'our', 'ours', 'ourselves', 'you', \"you're\", \"you've\", \"you'll\", \"you'd\", 'your', 'yours', 'yourself', 'yourselves', 'he', 'him', 'his', 'himself', 'she', \"she's\", 'her', 'hers', 'herself', 'it', \"it's\", 'its', 'itself', 'they', 'them', 'their', 'theirs', 'themselves', 'what', 'which', 'who', 'whom', 'this', 'that', \"that'll\", 'these', 'those', 'am', 'is', 'are', 'was', 'were', 'be', 'been', 'being', 'have', 'has', 'had', 'having', 'do', 'does', 'did', 'doing', 'a', 'an', 'the', 'and', 'but', 'if', 'or', 'because', 'as', 'until', 'while', 'of', 'at', 'by', 'for', 'with', 'about', 'against', 'between', 'into', 'through', 'during', 'before', 'after', 'above', 'below', 'to', 'from', 'up', 'down', 'in', 'out', 'on', 'off', 'over', 'under', 'again', 'further', 'then', 'once', 'here', 'there', 'when', 'where', 'why', 'how', 'all', 'any', 'both', 'each', 'few', 'more', 'most', 'other', 'some', 'such', 'no', 'nor', 'not', 'only', 'own', 'same', 'so', 'than', 'too', 'very', 's', 't', 'can', 'will', 'just', 'don', \"don't\", 'should', \"should've\", 'now', 'd', 'll', 'm', 'o', 're', 've', 'y', 'ain', 'aren', \"aren't\", 'couldn', \"couldn't\", 'didn', \"didn't\", 'doesn', \"doesn't\", 'hadn', \"hadn't\", 'hasn', \"hasn't\", 'haven', \"haven't\", 'isn', \"isn't\", 'ma', 'mightn', \"mightn't\", 'mustn', \"mustn't\", 'needn', \"needn't\", 'shan', \"shan't\", 'shouldn', \"shouldn't\", 'wasn', \"wasn't\", 'weren', \"weren't\", 'won', \"won't\", 'wouldn', \"wouldn't\"]\n"
     ]
    }
   ],
   "source": [
    "stopwords = nltk.corpus.stopwords.words('english')\n",
    "print(f'Stopwords: {stopwords}')\n",
    "\n",
    "def remove_stopwords(text):\n",
    "    without_stopwords = [word for word in text if word not in stopwords]\n",
    "    return without_stopwords\n",
    "\n",
    "\n",
    "class RemoveStopwordsTransformer(BaseEstimator, TransformerMixin):\n",
    "    def __init__(self, text_column):\n",
    "        self.text_column = text_column\n",
    "\n",
    "    def fit(self, X, y=None):\n",
    "        return self\n",
    "\n",
    "    def transform(self, X, y=None):\n",
    "        X_ = X.copy()\n",
    "        X_[self.text_column] = X_[self.text_column].apply(lambda x: remove_stopwords(x))\n",
    "        return X_"
   ],
   "metadata": {
    "collapsed": false,
    "ExecuteTime": {
     "end_time": "2023-05-24T23:02:14.413621Z",
     "start_time": "2023-05-24T23:02:14.288624200Z"
    }
   }
  },
  {
   "cell_type": "markdown",
   "source": [
    "Usuwanie krótkich tokenów"
   ],
   "metadata": {
    "collapsed": false
   }
  },
  {
   "cell_type": "code",
   "execution_count": 18,
   "outputs": [],
   "source": [
    "def remove_short_tokens(text):\n",
    "    without_shorts = [word for word in text if len(word) > 2]\n",
    "    return without_shorts\n",
    "\n",
    "class RemoveShortTokensTransformer(BaseEstimator, TransformerMixin):\n",
    "    def __init__(self, text_column):\n",
    "        self.text_column = text_column\n",
    "\n",
    "    def fit(self, X, y=None):\n",
    "        return self\n",
    "\n",
    "    def transform(self, X, y=None):\n",
    "        X_ = X.copy()\n",
    "        X_[self.text_column] = X_[self.text_column].apply(lambda x: remove_short_tokens(x))\n",
    "        return X_"
   ],
   "metadata": {
    "collapsed": false,
    "ExecuteTime": {
     "end_time": "2023-05-24T23:02:16.162930100Z",
     "start_time": "2023-05-24T23:02:16.084802Z"
    }
   }
  },
  {
   "cell_type": "markdown",
   "source": [
    "Usunięcie linków"
   ],
   "metadata": {
    "collapsed": false
   }
  },
  {
   "cell_type": "code",
   "execution_count": 19,
   "outputs": [],
   "source": [
    "def remove_links(text):\n",
    "    without_shorts = [word for word in text if word[0:4]!='http']\n",
    "    return without_shorts\n",
    "\n",
    "class RemoveLinksTransformer(BaseEstimator, TransformerMixin):\n",
    "    def __init__(self, text_column):\n",
    "        self.text_column = text_column\n",
    "\n",
    "    def fit(self, X, y=None):\n",
    "        return self\n",
    "\n",
    "    def transform(self, X, y=None):\n",
    "        X_ = X.copy()\n",
    "        X_[self.text_column] = X_[self.text_column].apply(lambda x: remove_links(x))\n",
    "        return X_"
   ],
   "metadata": {
    "collapsed": false,
    "ExecuteTime": {
     "end_time": "2023-05-24T23:02:17.384247200Z",
     "start_time": "2023-05-24T23:02:17.290497800Z"
    }
   }
  },
  {
   "cell_type": "markdown",
   "source": [
    "Stemmer"
   ],
   "metadata": {
    "collapsed": false
   }
  },
  {
   "cell_type": "code",
   "execution_count": 20,
   "outputs": [],
   "source": [
    "def stemming(text):\n",
    "    stemmer = PorterStemmer()\n",
    "    stemmed_words = [stemmer.stem(word) for word in text]\n",
    "    return stemmed_words\n",
    "\n",
    "\n",
    "class StemTransformer(BaseEstimator, TransformerMixin):\n",
    "    def __init__(self, text_column):\n",
    "        self.text_column = text_column\n",
    "\n",
    "    def fit(self, X, y=None):\n",
    "        return self\n",
    "\n",
    "    def transform(self, X, y=None):\n",
    "        X_ = X.copy()\n",
    "        X_[self.text_column] = X_[self.text_column].apply(lambda x: stemming(x))\n",
    "        return X_"
   ],
   "metadata": {
    "collapsed": false,
    "ExecuteTime": {
     "end_time": "2023-05-24T23:02:18.562277800Z",
     "start_time": "2023-05-24T23:02:18.484038Z"
    }
   }
  },
  {
   "cell_type": "markdown",
   "source": [
    "Wektoryzacja"
   ],
   "metadata": {
    "collapsed": false
   }
  },
  {
   "cell_type": "code",
   "execution_count": 21,
   "outputs": [],
   "source": [
    "class Return_String_Transformer(BaseEstimator, TransformerMixin):\n",
    "    def __init__(self, text_column):\n",
    "        self.text_column = text_column\n",
    "\n",
    "    def fit(self, X, y=None):\n",
    "        return self\n",
    "\n",
    "    def transform(self, X, y=None):\n",
    "        X_ = X.copy()\n",
    "        X_[self.text_column] = X_[self.text_column].apply(lambda x: ' '.join(x))\n",
    "        X_ = pd.Series(X_[self.text_column])\n",
    "        return X_"
   ],
   "metadata": {
    "collapsed": false,
    "ExecuteTime": {
     "end_time": "2023-05-24T23:02:19.822694900Z",
     "start_time": "2023-05-24T23:02:19.744568300Z"
    }
   }
  },
  {
   "cell_type": "markdown",
   "source": [
    "3.4. Pipeline do przetwarzania danych tekstowych (bez klasyfikacji)"
   ],
   "metadata": {
    "collapsed": false
   }
  },
  {
   "cell_type": "code",
   "execution_count": 22,
   "outputs": [
    {
     "name": "stdout",
     "output_type": "stream",
     "text": [
      "344722 \n",
      " Got $HYPER yet?  5% POStake and SUPER fast confirmations. Wallet with coin control!  In its second year! #bitcoin http://imgur.com/dbXanTB?O3kbg \n"
     ]
    }
   ],
   "source": [
    "#testowy tekst\n",
    "i = randint(0, len(data['text']))\n",
    "print(i, '\\n', data['text'][i])"
   ],
   "metadata": {
    "collapsed": false,
    "ExecuteTime": {
     "end_time": "2023-05-24T23:02:22.760599500Z",
     "start_time": "2023-05-24T23:02:22.713723900Z"
    }
   }
  },
  {
   "cell_type": "code",
   "execution_count": 24,
   "outputs": [
    {
     "data": {
      "text/plain": "text    0\ndtype: int64"
     },
     "execution_count": 24,
     "metadata": {},
     "output_type": "execute_result"
    }
   ],
   "source": [
    "X_train.isna().sum()"
   ],
   "metadata": {
    "collapsed": false,
    "ExecuteTime": {
     "end_time": "2023-05-24T23:02:42.754405300Z",
     "start_time": "2023-05-24T23:02:42.379033400Z"
    }
   }
  },
  {
   "cell_type": "code",
   "execution_count": 26,
   "outputs": [],
   "source": [
    "text_prep_pipeline = Pipeline(steps=[\n",
    "    ('remove_punctuation', RemovePunctuationTransformer(text_column='text')),\n",
    "    ('tokenizer', TokenizeTransformer(text_column='text')),\n",
    "    ('remove_stop_words', RemoveStopwordsTransformer(text_column='text')),\n",
    "    ('remove_links', RemoveLinksTransformer(text_column='text')),\n",
    "    ('remove_short_tokens', RemoveShortTokensTransformer(text_column='text')),\n",
    "    ('stemmer', StemTransformer(text_column='text')),\n",
    "    ('return_string', Return_String_Transformer(text_column='text'))\n",
    "])"
   ],
   "metadata": {
    "collapsed": false,
    "ExecuteTime": {
     "end_time": "2023-05-24T23:04:07.257255300Z",
     "start_time": "2023-05-24T23:04:07.226005800Z"
    }
   }
  },
  {
   "cell_type": "code",
   "execution_count": 47,
   "outputs": [],
   "source": [
    "X_train = text_prep_pipeline.fit_transform(X_train)\n",
    "X_train.to_csv('X_train.csv', index=False)"
   ],
   "metadata": {
    "collapsed": false,
    "ExecuteTime": {
     "end_time": "2023-05-24T22:21:13.240007Z",
     "start_time": "2023-05-24T22:18:53.036998100Z"
    }
   }
  },
  {
   "cell_type": "code",
   "execution_count": null,
   "outputs": [],
   "source": [
    "X_test = text_prep_pipeline.fit_transform(X_test)\n",
    "X_test.to_csv('X_test.csv', index=False)"
   ],
   "metadata": {
    "collapsed": false,
    "ExecuteTime": {
     "start_time": "2023-05-24T22:22:55.746104500Z"
    }
   }
  },
  {
   "cell_type": "markdown",
   "source": [
    "Info"
   ],
   "metadata": {
    "collapsed": false
   }
  },
  {
   "cell_type": "code",
   "execution_count": 28,
   "outputs": [
    {
     "name": "stdout",
     "output_type": "stream",
     "text": [
      "<class 'pandas.core.frame.DataFrame'>\n",
      "Index: 3121628 entries, 0 to 3121627\n",
      "Data columns (total 1 columns):\n",
      " #   Column  Dtype \n",
      "---  ------  ----- \n",
      " 0   text    object\n",
      "dtypes: object(1)\n",
      "memory usage: 47.6+ MB\n"
     ]
    }
   ],
   "source": [
    "X_train.info()"
   ],
   "metadata": {
    "collapsed": false,
    "ExecuteTime": {
     "end_time": "2023-05-25T06:09:15.094999900Z",
     "start_time": "2023-05-25T06:09:14.412032400Z"
    }
   }
  },
  {
   "cell_type": "code",
   "execution_count": 41,
   "outputs": [
    {
     "name": "stdout",
     "output_type": "stream",
     "text": [
      "172474 \n",
      " Current price: 155.34£ $BTCGBP $btc #bitcoin 2015-05-03 10:00:03 BST\n"
     ]
    },
    {
     "ename": "KeyError",
     "evalue": "'text'",
     "output_type": "error",
     "traceback": [
      "\u001B[1;31m---------------------------------------------------------------------------\u001B[0m",
      "\u001B[1;31mKeyError\u001B[0m                                  Traceback (most recent call last)",
      "File \u001B[1;32m~\\.conda\\envs\\newConda\\lib\\site-packages\\pandas\\core\\indexes\\base.py:3652\u001B[0m, in \u001B[0;36mIndex.get_loc\u001B[1;34m(self, key)\u001B[0m\n\u001B[0;32m   3651\u001B[0m \u001B[38;5;28;01mtry\u001B[39;00m:\n\u001B[1;32m-> 3652\u001B[0m     \u001B[38;5;28;01mreturn\u001B[39;00m \u001B[38;5;28;43mself\u001B[39;49m\u001B[38;5;241;43m.\u001B[39;49m\u001B[43m_engine\u001B[49m\u001B[38;5;241;43m.\u001B[39;49m\u001B[43mget_loc\u001B[49m\u001B[43m(\u001B[49m\u001B[43mcasted_key\u001B[49m\u001B[43m)\u001B[49m\n\u001B[0;32m   3653\u001B[0m \u001B[38;5;28;01mexcept\u001B[39;00m \u001B[38;5;167;01mKeyError\u001B[39;00m \u001B[38;5;28;01mas\u001B[39;00m err:\n",
      "File \u001B[1;32m~\\.conda\\envs\\newConda\\lib\\site-packages\\pandas\\_libs\\index.pyx:147\u001B[0m, in \u001B[0;36mpandas._libs.index.IndexEngine.get_loc\u001B[1;34m()\u001B[0m\n",
      "File \u001B[1;32m~\\.conda\\envs\\newConda\\lib\\site-packages\\pandas\\_libs\\index.pyx:155\u001B[0m, in \u001B[0;36mpandas._libs.index.IndexEngine.get_loc\u001B[1;34m()\u001B[0m\n",
      "File \u001B[1;32mpandas\\_libs\\index_class_helper.pxi:70\u001B[0m, in \u001B[0;36mpandas._libs.index.Int64Engine._check_type\u001B[1;34m()\u001B[0m\n",
      "\u001B[1;31mKeyError\u001B[0m: 'text'",
      "\nThe above exception was the direct cause of the following exception:\n",
      "\u001B[1;31mKeyError\u001B[0m                                  Traceback (most recent call last)",
      "Cell \u001B[1;32mIn[41], line 3\u001B[0m\n\u001B[0;32m      1\u001B[0m i \u001B[38;5;241m=\u001B[39m randint(\u001B[38;5;241m0\u001B[39m, \u001B[38;5;28mlen\u001B[39m(X_train[\u001B[38;5;124m'\u001B[39m\u001B[38;5;124mtext\u001B[39m\u001B[38;5;124m'\u001B[39m]))\n\u001B[0;32m      2\u001B[0m \u001B[38;5;28mprint\u001B[39m(i, \u001B[38;5;124m'\u001B[39m\u001B[38;5;130;01m\\n\u001B[39;00m\u001B[38;5;124m'\u001B[39m, data[\u001B[38;5;124m'\u001B[39m\u001B[38;5;124mtext\u001B[39m\u001B[38;5;124m'\u001B[39m][i])\n\u001B[1;32m----> 3\u001B[0m \u001B[38;5;28mprint\u001B[39m(i, \u001B[38;5;124m'\u001B[39m\u001B[38;5;130;01m\\n\u001B[39;00m\u001B[38;5;124m'\u001B[39m, \u001B[43mX_train_stemmed\u001B[49m\u001B[43m[\u001B[49m\u001B[38;5;124;43m'\u001B[39;49m\u001B[38;5;124;43mtext\u001B[39;49m\u001B[38;5;124;43m'\u001B[39;49m\u001B[43m]\u001B[49m[i])\n",
      "File \u001B[1;32m~\\.conda\\envs\\newConda\\lib\\site-packages\\pandas\\core\\series.py:1007\u001B[0m, in \u001B[0;36mSeries.__getitem__\u001B[1;34m(self, key)\u001B[0m\n\u001B[0;32m   1004\u001B[0m     \u001B[38;5;28;01mreturn\u001B[39;00m \u001B[38;5;28mself\u001B[39m\u001B[38;5;241m.\u001B[39m_values[key]\n\u001B[0;32m   1006\u001B[0m \u001B[38;5;28;01melif\u001B[39;00m key_is_scalar:\n\u001B[1;32m-> 1007\u001B[0m     \u001B[38;5;28;01mreturn\u001B[39;00m \u001B[38;5;28;43mself\u001B[39;49m\u001B[38;5;241;43m.\u001B[39;49m\u001B[43m_get_value\u001B[49m\u001B[43m(\u001B[49m\u001B[43mkey\u001B[49m\u001B[43m)\u001B[49m\n\u001B[0;32m   1009\u001B[0m \u001B[38;5;28;01mif\u001B[39;00m is_hashable(key):\n\u001B[0;32m   1010\u001B[0m     \u001B[38;5;66;03m# Otherwise index.get_value will raise InvalidIndexError\u001B[39;00m\n\u001B[0;32m   1011\u001B[0m     \u001B[38;5;28;01mtry\u001B[39;00m:\n\u001B[0;32m   1012\u001B[0m         \u001B[38;5;66;03m# For labels that don't resolve as scalars like tuples and frozensets\u001B[39;00m\n",
      "File \u001B[1;32m~\\.conda\\envs\\newConda\\lib\\site-packages\\pandas\\core\\series.py:1116\u001B[0m, in \u001B[0;36mSeries._get_value\u001B[1;34m(self, label, takeable)\u001B[0m\n\u001B[0;32m   1113\u001B[0m     \u001B[38;5;28;01mreturn\u001B[39;00m \u001B[38;5;28mself\u001B[39m\u001B[38;5;241m.\u001B[39m_values[label]\n\u001B[0;32m   1115\u001B[0m \u001B[38;5;66;03m# Similar to Index.get_value, but we do not fall back to positional\u001B[39;00m\n\u001B[1;32m-> 1116\u001B[0m loc \u001B[38;5;241m=\u001B[39m \u001B[38;5;28;43mself\u001B[39;49m\u001B[38;5;241;43m.\u001B[39;49m\u001B[43mindex\u001B[49m\u001B[38;5;241;43m.\u001B[39;49m\u001B[43mget_loc\u001B[49m\u001B[43m(\u001B[49m\u001B[43mlabel\u001B[49m\u001B[43m)\u001B[49m\n\u001B[0;32m   1118\u001B[0m \u001B[38;5;28;01mif\u001B[39;00m is_integer(loc):\n\u001B[0;32m   1119\u001B[0m     \u001B[38;5;28;01mreturn\u001B[39;00m \u001B[38;5;28mself\u001B[39m\u001B[38;5;241m.\u001B[39m_values[loc]\n",
      "File \u001B[1;32m~\\.conda\\envs\\newConda\\lib\\site-packages\\pandas\\core\\indexes\\base.py:3654\u001B[0m, in \u001B[0;36mIndex.get_loc\u001B[1;34m(self, key)\u001B[0m\n\u001B[0;32m   3652\u001B[0m     \u001B[38;5;28;01mreturn\u001B[39;00m \u001B[38;5;28mself\u001B[39m\u001B[38;5;241m.\u001B[39m_engine\u001B[38;5;241m.\u001B[39mget_loc(casted_key)\n\u001B[0;32m   3653\u001B[0m \u001B[38;5;28;01mexcept\u001B[39;00m \u001B[38;5;167;01mKeyError\u001B[39;00m \u001B[38;5;28;01mas\u001B[39;00m err:\n\u001B[1;32m-> 3654\u001B[0m     \u001B[38;5;28;01mraise\u001B[39;00m \u001B[38;5;167;01mKeyError\u001B[39;00m(key) \u001B[38;5;28;01mfrom\u001B[39;00m \u001B[38;5;21;01merr\u001B[39;00m\n\u001B[0;32m   3655\u001B[0m \u001B[38;5;28;01mexcept\u001B[39;00m \u001B[38;5;167;01mTypeError\u001B[39;00m:\n\u001B[0;32m   3656\u001B[0m     \u001B[38;5;66;03m# If we have a listlike key, _check_indexing_error will raise\u001B[39;00m\n\u001B[0;32m   3657\u001B[0m     \u001B[38;5;66;03m#  InvalidIndexError. Otherwise we fall through and re-raise\u001B[39;00m\n\u001B[0;32m   3658\u001B[0m     \u001B[38;5;66;03m#  the TypeError.\u001B[39;00m\n\u001B[0;32m   3659\u001B[0m     \u001B[38;5;28mself\u001B[39m\u001B[38;5;241m.\u001B[39m_check_indexing_error(key)\n",
      "\u001B[1;31mKeyError\u001B[0m: 'text'"
     ]
    }
   ],
   "source": [
    "i = randint(0, len(X_train['text']))\n",
    "print(i, '\\n', data['text'][i])\n",
    "print(i, '\\n', X_train['text'][i])"
   ],
   "metadata": {
    "collapsed": false,
    "ExecuteTime": {
     "end_time": "2023-05-25T06:15:10.295251Z",
     "start_time": "2023-05-25T06:15:10.061777700Z"
    }
   }
  },
  {
   "cell_type": "code",
   "execution_count": 39,
   "outputs": [
    {
     "name": "stdout",
     "output_type": "stream",
     "text": [
      "3629709 \n",
      " @CryptoPanda15 @RussellOkung No sarcasm on the \"heck, the whole web!\"\n",
      "Browse this #Metanet tag, check out the Bitcoin blockchain browser called \"Bottle\". Checkout @agora_icu. \n",
      "You can get a @money_button or @handcashapp wallet you can start earning BSV on @YoursOrg @bitstagramcom @FivebucksC @Streamanity etc\n"
     ]
    },
    {
     "ename": "KeyError",
     "evalue": "'text'",
     "output_type": "error",
     "traceback": [
      "\u001B[1;31m---------------------------------------------------------------------------\u001B[0m",
      "\u001B[1;31mKeyError\u001B[0m                                  Traceback (most recent call last)",
      "File \u001B[1;32m~\\.conda\\envs\\newConda\\lib\\site-packages\\pandas\\core\\indexes\\base.py:3652\u001B[0m, in \u001B[0;36mIndex.get_loc\u001B[1;34m(self, key)\u001B[0m\n\u001B[0;32m   3651\u001B[0m \u001B[38;5;28;01mtry\u001B[39;00m:\n\u001B[1;32m-> 3652\u001B[0m     \u001B[38;5;28;01mreturn\u001B[39;00m \u001B[38;5;28;43mself\u001B[39;49m\u001B[38;5;241;43m.\u001B[39;49m\u001B[43m_engine\u001B[49m\u001B[38;5;241;43m.\u001B[39;49m\u001B[43mget_loc\u001B[49m\u001B[43m(\u001B[49m\u001B[43mcasted_key\u001B[49m\u001B[43m)\u001B[49m\n\u001B[0;32m   3653\u001B[0m \u001B[38;5;28;01mexcept\u001B[39;00m \u001B[38;5;167;01mKeyError\u001B[39;00m \u001B[38;5;28;01mas\u001B[39;00m err:\n",
      "File \u001B[1;32m~\\.conda\\envs\\newConda\\lib\\site-packages\\pandas\\_libs\\index.pyx:147\u001B[0m, in \u001B[0;36mpandas._libs.index.IndexEngine.get_loc\u001B[1;34m()\u001B[0m\n",
      "File \u001B[1;32m~\\.conda\\envs\\newConda\\lib\\site-packages\\pandas\\_libs\\index.pyx:155\u001B[0m, in \u001B[0;36mpandas._libs.index.IndexEngine.get_loc\u001B[1;34m()\u001B[0m\n",
      "File \u001B[1;32mpandas\\_libs\\index_class_helper.pxi:70\u001B[0m, in \u001B[0;36mpandas._libs.index.Int64Engine._check_type\u001B[1;34m()\u001B[0m\n",
      "\u001B[1;31mKeyError\u001B[0m: 'text'",
      "\nThe above exception was the direct cause of the following exception:\n",
      "\u001B[1;31mKeyError\u001B[0m                                  Traceback (most recent call last)",
      "Cell \u001B[1;32mIn[39], line 3\u001B[0m\n\u001B[0;32m      1\u001B[0m i \u001B[38;5;241m=\u001B[39m randint(\u001B[38;5;28mlen\u001B[39m(X_train[\u001B[38;5;124m'\u001B[39m\u001B[38;5;124mtext\u001B[39m\u001B[38;5;124m'\u001B[39m]), (\u001B[38;5;28mlen\u001B[39m(X_train[\u001B[38;5;124m'\u001B[39m\u001B[38;5;124mtext\u001B[39m\u001B[38;5;124m'\u001B[39m]) \u001B[38;5;241m+\u001B[39m \u001B[38;5;28mlen\u001B[39m(X_test[\u001B[38;5;124m'\u001B[39m\u001B[38;5;124mtext\u001B[39m\u001B[38;5;124m'\u001B[39m])\u001B[38;5;241m-\u001B[39m\u001B[38;5;241m1\u001B[39m))\n\u001B[0;32m      2\u001B[0m \u001B[38;5;28mprint\u001B[39m(i, \u001B[38;5;124m'\u001B[39m\u001B[38;5;130;01m\\n\u001B[39;00m\u001B[38;5;124m'\u001B[39m, data[\u001B[38;5;124m'\u001B[39m\u001B[38;5;124mtext\u001B[39m\u001B[38;5;124m'\u001B[39m][i])\n\u001B[1;32m----> 3\u001B[0m \u001B[38;5;28mprint\u001B[39m(i, \u001B[38;5;124m'\u001B[39m\u001B[38;5;130;01m\\n\u001B[39;00m\u001B[38;5;124m'\u001B[39m, \u001B[43mX_test_stemmed\u001B[49m\u001B[43m[\u001B[49m\u001B[38;5;124;43m'\u001B[39;49m\u001B[38;5;124;43mtext\u001B[39;49m\u001B[38;5;124;43m'\u001B[39;49m\u001B[43m]\u001B[49m[i])\n",
      "File \u001B[1;32m~\\.conda\\envs\\newConda\\lib\\site-packages\\pandas\\core\\series.py:1007\u001B[0m, in \u001B[0;36mSeries.__getitem__\u001B[1;34m(self, key)\u001B[0m\n\u001B[0;32m   1004\u001B[0m     \u001B[38;5;28;01mreturn\u001B[39;00m \u001B[38;5;28mself\u001B[39m\u001B[38;5;241m.\u001B[39m_values[key]\n\u001B[0;32m   1006\u001B[0m \u001B[38;5;28;01melif\u001B[39;00m key_is_scalar:\n\u001B[1;32m-> 1007\u001B[0m     \u001B[38;5;28;01mreturn\u001B[39;00m \u001B[38;5;28;43mself\u001B[39;49m\u001B[38;5;241;43m.\u001B[39;49m\u001B[43m_get_value\u001B[49m\u001B[43m(\u001B[49m\u001B[43mkey\u001B[49m\u001B[43m)\u001B[49m\n\u001B[0;32m   1009\u001B[0m \u001B[38;5;28;01mif\u001B[39;00m is_hashable(key):\n\u001B[0;32m   1010\u001B[0m     \u001B[38;5;66;03m# Otherwise index.get_value will raise InvalidIndexError\u001B[39;00m\n\u001B[0;32m   1011\u001B[0m     \u001B[38;5;28;01mtry\u001B[39;00m:\n\u001B[0;32m   1012\u001B[0m         \u001B[38;5;66;03m# For labels that don't resolve as scalars like tuples and frozensets\u001B[39;00m\n",
      "File \u001B[1;32m~\\.conda\\envs\\newConda\\lib\\site-packages\\pandas\\core\\series.py:1116\u001B[0m, in \u001B[0;36mSeries._get_value\u001B[1;34m(self, label, takeable)\u001B[0m\n\u001B[0;32m   1113\u001B[0m     \u001B[38;5;28;01mreturn\u001B[39;00m \u001B[38;5;28mself\u001B[39m\u001B[38;5;241m.\u001B[39m_values[label]\n\u001B[0;32m   1115\u001B[0m \u001B[38;5;66;03m# Similar to Index.get_value, but we do not fall back to positional\u001B[39;00m\n\u001B[1;32m-> 1116\u001B[0m loc \u001B[38;5;241m=\u001B[39m \u001B[38;5;28;43mself\u001B[39;49m\u001B[38;5;241;43m.\u001B[39;49m\u001B[43mindex\u001B[49m\u001B[38;5;241;43m.\u001B[39;49m\u001B[43mget_loc\u001B[49m\u001B[43m(\u001B[49m\u001B[43mlabel\u001B[49m\u001B[43m)\u001B[49m\n\u001B[0;32m   1118\u001B[0m \u001B[38;5;28;01mif\u001B[39;00m is_integer(loc):\n\u001B[0;32m   1119\u001B[0m     \u001B[38;5;28;01mreturn\u001B[39;00m \u001B[38;5;28mself\u001B[39m\u001B[38;5;241m.\u001B[39m_values[loc]\n",
      "File \u001B[1;32m~\\.conda\\envs\\newConda\\lib\\site-packages\\pandas\\core\\indexes\\base.py:3654\u001B[0m, in \u001B[0;36mIndex.get_loc\u001B[1;34m(self, key)\u001B[0m\n\u001B[0;32m   3652\u001B[0m     \u001B[38;5;28;01mreturn\u001B[39;00m \u001B[38;5;28mself\u001B[39m\u001B[38;5;241m.\u001B[39m_engine\u001B[38;5;241m.\u001B[39mget_loc(casted_key)\n\u001B[0;32m   3653\u001B[0m \u001B[38;5;28;01mexcept\u001B[39;00m \u001B[38;5;167;01mKeyError\u001B[39;00m \u001B[38;5;28;01mas\u001B[39;00m err:\n\u001B[1;32m-> 3654\u001B[0m     \u001B[38;5;28;01mraise\u001B[39;00m \u001B[38;5;167;01mKeyError\u001B[39;00m(key) \u001B[38;5;28;01mfrom\u001B[39;00m \u001B[38;5;21;01merr\u001B[39;00m\n\u001B[0;32m   3655\u001B[0m \u001B[38;5;28;01mexcept\u001B[39;00m \u001B[38;5;167;01mTypeError\u001B[39;00m:\n\u001B[0;32m   3656\u001B[0m     \u001B[38;5;66;03m# If we have a listlike key, _check_indexing_error will raise\u001B[39;00m\n\u001B[0;32m   3657\u001B[0m     \u001B[38;5;66;03m#  InvalidIndexError. Otherwise we fall through and re-raise\u001B[39;00m\n\u001B[0;32m   3658\u001B[0m     \u001B[38;5;66;03m#  the TypeError.\u001B[39;00m\n\u001B[0;32m   3659\u001B[0m     \u001B[38;5;28mself\u001B[39m\u001B[38;5;241m.\u001B[39m_check_indexing_error(key)\n",
      "\u001B[1;31mKeyError\u001B[0m: 'text'"
     ]
    }
   ],
   "source": [
    "i = randint(len(X_train['text']), (len(X_train['text']) + len(X_test['text'])-1))\n",
    "print(i, '\\n', data['text'][i])\n",
    "print(i, '\\n', X_test['text'][i])"
   ],
   "metadata": {
    "collapsed": false,
    "ExecuteTime": {
     "end_time": "2023-05-25T06:14:03.895002400Z",
     "start_time": "2023-05-25T06:14:03.645396200Z"
    }
   }
  }
 ],
 "metadata": {
  "kernelspec": {
   "display_name": "Python 3",
   "language": "python",
   "name": "python3"
  },
  "language_info": {
   "codemirror_mode": {
    "name": "ipython",
    "version": 2
   },
   "file_extension": ".py",
   "mimetype": "text/x-python",
   "name": "python",
   "nbconvert_exporter": "python",
   "pygments_lexer": "ipython2",
   "version": "2.7.6"
  }
 },
 "nbformat": 4,
 "nbformat_minor": 0
}
>>>>>>> 94f5a3da7bd409595cf56f1eb107ba4f40b5ce85
