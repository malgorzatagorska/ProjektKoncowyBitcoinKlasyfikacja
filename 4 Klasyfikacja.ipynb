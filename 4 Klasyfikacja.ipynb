
{
 "cells": [
  {
   "cell_type": "markdown",
   "source": [
    "4. Klasyfikacja"
   ],
   "metadata": {
    "collapsed": false
   }
  },
  {
   "cell_type": "code",
   "execution_count": 162,
   "outputs": [],
   "source": [
    "import pandas as pd\n",
    "import joblib\n",
    "from sklearn.metrics import accuracy_score, precision_score, recall_score, f1_score\n",
    "from sklearn.pipeline import Pipeline\n",
    "from sklearn.feature_extraction.text import CountVectorizer\n",
    "from sklearn.linear_model import LogisticRegression\n",
    "from matplotlib import pyplot as plt\n",
    "from sklearn.feature_selection import SelectFromModel\n",
    "from sklearn.model_selection import GridSearchCV, TimeSeriesSplit\n",
    "from sklearn.feature_extraction.text import TfidfVectorizer\n",
    "from sklearn.linear_model import LogisticRegression\n",
    "from sklearn.pipeline import Pipeline"
   ],
   "metadata": {
    "collapsed": false,
    "ExecuteTime": {
     "end_time": "2023-05-25T18:02:33.951213400Z",
     "start_time": "2023-05-25T18:02:33.900605900Z"
    }
   }
  },
  {
   "cell_type": "markdown",
   "source": [
    "4.1. Wczytanie przygotowanych danych z pliku"
   ],
   "metadata": {
    "collapsed": false
   }
  },
  {
   "cell_type": "code",
   "execution_count": 2,
   "metadata": {
    "collapsed": true,
    "ExecuteTime": {
     "end_time": "2023-05-25T09:49:49.179826400Z",
     "start_time": "2023-05-25T09:49:35.079677100Z"
    }
   },
   "outputs": [],
   "source": [
    "X_train_file = 'X_train.csv'\n",
    "X_test_file = 'X_test.csv'\n",
    "y_train_file = 'y_train.csv'\n",
    "y_test_file = 'y_test.csv'\n",
    "dates_file = 'dates.csv'\n",
    "\n",
    "X_train = pd.read_csv(X_train_file)\n",
    "X_test = pd.read_csv(X_test_file)\n",
    "y_train = pd.read_csv(y_train_file)\n",
    "y_test = pd.read_csv(y_test_file)\n",
    "dates = pd.read_csv(dates_file)"
   ]
  },
  {
   "cell_type": "code",
   "execution_count": 3,
   "outputs": [],
   "source": [
    "y_train = y_train['bitcoin_trend']\n",
    "y_test = y_test['bitcoin_trend']"
   ],
   "metadata": {
    "collapsed": false,
    "ExecuteTime": {
     "end_time": "2023-05-25T09:49:50.329562Z",
     "start_time": "2023-05-25T09:49:50.253429Z"
    }
   }
  },
  {
   "cell_type": "code",
   "execution_count": 4,
   "outputs": [
    {
     "name": "stdout",
     "output_type": "stream",
     "text": [
      "Type of X_train: <class 'pandas.core.frame.DataFrame'>\n",
      "Type of y_train: <class 'pandas.core.series.Series'>\n",
      "Type of X_test: <class 'pandas.core.frame.DataFrame'>\n",
      "Type of y_test: <class 'pandas.core.series.Series'>\n"
     ]
    }
   ],
   "source": [
    "print(f'Type of X_train: {type(X_train)}')\n",
    "print(f'Type of y_train: {type(y_train)}')\n",
    "print(f'Type of X_test: {type(X_test)}')\n",
    "print(f'Type of y_test: {type(y_test)}')"
   ],
   "metadata": {
    "collapsed": false,
    "ExecuteTime": {
     "end_time": "2023-05-25T09:49:54.864022500Z",
     "start_time": "2023-05-25T09:49:54.816976300Z"
    }
   }
  },
  {
   "cell_type": "code",
   "execution_count": 6,
   "outputs": [
    {
     "name": "stdout",
     "output_type": "stream",
     "text": [
      "<class 'pandas.core.frame.DataFrame'>\n",
      "RangeIndex: 3121628 entries, 0 to 3121627\n",
      "Data columns (total 1 columns):\n",
      " #   Column  Dtype \n",
      "---  ------  ----- \n",
      " 0   text    object\n",
      "dtypes: object(1)\n",
      "memory usage: 23.8+ MB\n"
     ]
    }
   ],
   "source": [
    "X_train.info()"
   ],
   "metadata": {
    "collapsed": false,
    "ExecuteTime": {
     "end_time": "2023-05-25T09:50:32.595127400Z",
     "start_time": "2023-05-25T09:50:32.512910500Z"
    }
   }
  },
  {
   "cell_type": "markdown",
   "source": [
    "W X_train pojawiły się nulle, czyszczenie"
   ],
   "metadata": {
    "collapsed": false
   }
  },
  {
   "cell_type": "code",
   "execution_count": 7,
   "outputs": [
    {
     "name": "stdout",
     "output_type": "stream",
     "text": [
      "Nulle w X_train: 4998\n",
      "Nulle w y_train: 0\n",
      "(3116630, 1)\n",
      "(3116630,)\n",
      "Nulle w X_train: 0\n",
      "Nulle w y_train: 0\n"
     ]
    }
   ],
   "source": [
    "print(f'Nulle w X_train: {X_train.text.isna().sum()}')\n",
    "print(f'Nulle w y_train: {y_train.isna().sum()}')\n",
    "null_indexes_X_train = X_train[X_train['text'].isna()].index\n",
    "X_train = X_train.drop(null_indexes_X_train)\n",
    "y_train = y_train.drop(null_indexes_X_train)\n",
    "print(X_train.shape)\n",
    "print(y_train.shape)\n",
    "print(f'Nulle w X_train: {X_train.text.isna().sum()}')\n",
    "print(f'Nulle w y_train: {y_train.isna().sum()}')"
   ],
   "metadata": {
    "collapsed": false,
    "ExecuteTime": {
     "end_time": "2023-05-25T09:50:41.812949500Z",
     "start_time": "2023-05-25T09:50:40.482212800Z"
    }
   }
  },
  {
   "cell_type": "markdown",
   "source": [
    "Klasyfikator 1: model baselinowy (losowanie wartości)"
   ],
   "metadata": {
    "collapsed": false
   }
  },
  {
   "cell_type": "code",
   "execution_count": 8,
   "outputs": [
    {
     "data": {
      "text/plain": "0.4996553565241195"
     },
     "execution_count": 8,
     "metadata": {},
     "output_type": "execute_result"
    }
   ],
   "source": [
    "# Model baselinowy\n",
    "from sklearn.dummy import DummyClassifier\n",
    "\n",
    "# Klasyfikator losujący wartości z jednakowym prawdopodobieństwem\n",
    "baseline_model = DummyClassifier(strategy='uniform', random_state=42)\n",
    "baseline_model.fit(X_train, y_train)\n",
    "baseline_model.score(X_test, y_test)"
   ],
   "metadata": {
    "collapsed": false,
    "ExecuteTime": {
     "end_time": "2023-05-25T09:50:46.779543900Z",
     "start_time": "2023-05-25T09:50:46.386311200Z"
    }
   }
  },
  {
   "cell_type": "code",
   "execution_count": 9,
   "outputs": [
    {
     "name": "stdout",
     "output_type": "stream",
     "text": [
      "Accuracy: 0.50\n",
      "Precision: 0.47\n",
      "Recall:0.50\n",
      "F1: 0.49\n"
     ]
    }
   ],
   "source": [
    "# Ewaluacja modelu baselinowego\n",
    "y_pred = baseline_model.predict(X_test)\n",
    "\n",
    "accuracy = accuracy_score(y_test, y_pred)\n",
    "precision = precision_score(y_test, y_pred)\n",
    "recall =recall_score(y_test, y_pred)\n",
    "f1 = f1_score(y_test, y_pred)\n",
    "print(\"Accuracy: {:.2f}\".format(accuracy))\n",
    "print(\"Precision: {:.2f}\".format(precision))\n",
    "print('Recall:{:.2f}'.format(recall))\n",
    "print(\"F1: {:.2f}\".format(f1))"
   ],
   "metadata": {
    "collapsed": false,
    "ExecuteTime": {
     "end_time": "2023-05-25T09:50:49.912704500Z",
     "start_time": "2023-05-25T09:50:48.062737200Z"
    }
   }
  },
  {
   "cell_type": "code",
   "execution_count": 10,
   "outputs": [
    {
     "data": {
      "text/plain": "['baseline_model.sav']"
     },
     "execution_count": 10,
     "metadata": {},
     "output_type": "execute_result"
    }
   ],
   "source": [
    "# Zapisanie modelu do pliku\n",
    "filename = 'baseline_model.sav'\n",
    "joblib.dump(baseline_model, filename)"
   ],
   "metadata": {
    "collapsed": false,
    "ExecuteTime": {
     "end_time": "2023-05-25T09:50:51.896361700Z",
     "start_time": "2023-05-25T09:50:51.833924700Z"
    }
   }
  },
  {
   "cell_type": "markdown",
   "source": [
    "Wizualizacja modelu"
   ],
   "metadata": {
    "collapsed": false
   }
  },
  {
   "cell_type": "code",
   "execution_count": 182,
   "outputs": [
    {
     "name": "stdout",
     "output_type": "stream",
     "text": [
      "[ 4.57323411e-04 -4.78417235e-03  7.19887602e-03  9.52314262e-03\n",
      "  7.01567993e-03  2.78962998e-03  1.79183722e-03  6.48636890e-03\n",
      "  1.11874635e-02  1.14205637e-02 -8.97465402e-04  3.08485663e-02\n",
      "  6.73449167e-02  5.73337932e-02  9.13040692e-02  1.31477793e-01\n",
      "  1.26921985e-01  1.64421985e-01  1.89474177e-01  2.37474177e-01\n",
      "  2.84183306e-01  3.54142154e-01  3.87134191e-01  3.98123202e-01\n",
      "  4.60768213e-01  4.56719630e-01  4.24394291e-01  4.89984604e-01\n",
      "  4.85692759e-01  4.72644123e-01  4.33798396e-01  3.96761359e-01\n",
      "  3.77406520e-01  4.10301257e-01  3.89238067e-01  4.25955130e-01\n",
      "  4.69609952e-01  4.69609952e-01  4.44031390e-01  4.54632096e-01]\n"
     ]
    },
    {
     "data": {
      "text/plain": "<Figure size 1200x500 with 1 Axes>",
      "image/png": "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"
     },
     "metadata": {},
     "output_type": "display_data"
    }
   ],
   "source": [
    "def prepare_plot_data(dates, y_pred, y_test):\n",
    "    a = dates[len(dates)-len(y_pred):]\n",
    "    b = pd.Series(y_pred)\n",
    "    c = pd.Series(y_test)\n",
    "    a.reset_index(drop=True, inplace=True)\n",
    "    b.reset_index(drop=True, inplace=True)\n",
    "    c.reset_index(drop=True, inplace=True)\n",
    "    d = pd.concat([a,b],axis=1,ignore_index=True)\n",
    "    e = pd.concat([a,c],axis=1,ignore_index=True)\n",
    "    f = d.groupby([0]).mean()\n",
    "    g = e.groupby([0]).mean()\n",
    "    y_pred_plot = f[[1]].values\n",
    "    y_test_plot = g[[1]].values\n",
    "    dates_plot = f.index\n",
    "    #print(y_pred_plot[:20])\n",
    "    y_pred_plot_cumsum = y_pred_plot.cumsum()\n",
    "    #print(y_pred_plot_cumsum[:40])\n",
    "\n",
    "    return dates_plot, y_pred_plot.cumsum(), y_test_plot.cumsum()\n",
    "\n",
    "\n",
    "def visualization_of_pred(dates, y_pred, y_test):\n",
    "    dates_plot, y_pred_plot, y_test_plot = prepare_plot_data(dates, y_pred, y_test)\n",
    "    fig, ax = plt.subplots(figsize=(12, 5))\n",
    "    ax.plot(dates_plot, y_pred_plot, linewidth=2, label='Predicted Trend', color= 'pink')\n",
    "    ax.plot(dates_plot, y_test_plot, linewidth=2, label='Real Trend', color = 'navy')\n",
    "    plt.title('Real and Predicted Trends of Price')\n",
    "    plt.legend()\n",
    "    plt.show()\n",
    "\n",
    "dates_pred = dates[len(dates)-len(y_pred):]\n",
    "visualization_of_pred(dates_pred['Date'], y_pred, y_test)"
   ],
   "metadata": {
    "collapsed": false,
    "ExecuteTime": {
     "end_time": "2023-05-26T09:50:17.511102400Z",
     "start_time": "2023-05-26T09:50:15.032631900Z"
    }
   }
  },
  {
   "cell_type": "markdown",
   "source": [
    "Klasyfikator 2: regresja logistyczna"
   ],
   "metadata": {
    "collapsed": false
   }
  },
  {
   "cell_type": "code",
   "execution_count": 164,
   "outputs": [],
   "source": [
    "logistic_regression_pipeline = Pipeline(steps=[\n",
    "    ('count_vectorizer', CountVectorizer(lowercase=False)),\n",
    "    ('selection_features', SelectFromModel(estimator=LogisticRegression(random_state=2023, class_weight='balanced')))\n",
    "])"
   ],
   "metadata": {
    "collapsed": false,
    "ExecuteTime": {
     "end_time": "2023-05-25T18:08:05.389084400Z",
     "start_time": "2023-05-25T18:08:05.322124900Z"
    }
   }
  },
  {
   "cell_type": "code",
   "execution_count": 169,
   "outputs": [
    {
     "ename": "ValueError",
     "evalue": "Pipeline.fit does not accept the lower parameter. You can pass parameters to specific steps of your pipeline using the stepname__parameter format, e.g. `Pipeline.fit(X, y, logisticregression__sample_weight=sample_weight)`.",
     "output_type": "error",
     "traceback": [
      "\u001B[1;31m---------------------------------------------------------------------------\u001B[0m",
      "\u001B[1;31mValueError\u001B[0m                                Traceback (most recent call last)",
      "Cell \u001B[1;32mIn[169], line 1\u001B[0m\n\u001B[1;32m----> 1\u001B[0m \u001B[43mlogistic_regression_pipeline\u001B[49m\u001B[38;5;241;43m.\u001B[39;49m\u001B[43mfit_transform\u001B[49m\u001B[43m(\u001B[49m\u001B[43mX_train\u001B[49m\u001B[38;5;241;43m.\u001B[39;49m\u001B[43mtranspose\u001B[49m\u001B[43m(\u001B[49m\u001B[43m)\u001B[49m\u001B[43m,\u001B[49m\u001B[43m \u001B[49m\u001B[43my_train\u001B[49m\u001B[43m,\u001B[49m\u001B[43m \u001B[49m\u001B[43mlower\u001B[49m\u001B[38;5;241;43m=\u001B[39;49m\u001B[38;5;28;43;01mFalse\u001B[39;49;00m\u001B[43m)\u001B[49m\n",
      "File \u001B[1;32m~\\.conda\\envs\\newConda\\lib\\site-packages\\sklearn\\pipeline.py:436\u001B[0m, in \u001B[0;36mPipeline.fit_transform\u001B[1;34m(self, X, y, **fit_params)\u001B[0m\n\u001B[0;32m    409\u001B[0m \u001B[38;5;28;01mdef\u001B[39;00m \u001B[38;5;21mfit_transform\u001B[39m(\u001B[38;5;28mself\u001B[39m, X, y\u001B[38;5;241m=\u001B[39m\u001B[38;5;28;01mNone\u001B[39;00m, \u001B[38;5;241m*\u001B[39m\u001B[38;5;241m*\u001B[39mfit_params):\n\u001B[0;32m    410\u001B[0m \u001B[38;5;250m    \u001B[39m\u001B[38;5;124;03m\"\"\"Fit the model and transform with the final estimator.\u001B[39;00m\n\u001B[0;32m    411\u001B[0m \n\u001B[0;32m    412\u001B[0m \u001B[38;5;124;03m    Fits all the transformers one after the other and transform the\u001B[39;00m\n\u001B[1;32m   (...)\u001B[0m\n\u001B[0;32m    434\u001B[0m \u001B[38;5;124;03m        Transformed samples.\u001B[39;00m\n\u001B[0;32m    435\u001B[0m \u001B[38;5;124;03m    \"\"\"\u001B[39;00m\n\u001B[1;32m--> 436\u001B[0m     fit_params_steps \u001B[38;5;241m=\u001B[39m \u001B[38;5;28;43mself\u001B[39;49m\u001B[38;5;241;43m.\u001B[39;49m\u001B[43m_check_fit_params\u001B[49m\u001B[43m(\u001B[49m\u001B[38;5;241;43m*\u001B[39;49m\u001B[38;5;241;43m*\u001B[39;49m\u001B[43mfit_params\u001B[49m\u001B[43m)\u001B[49m\n\u001B[0;32m    437\u001B[0m     Xt \u001B[38;5;241m=\u001B[39m \u001B[38;5;28mself\u001B[39m\u001B[38;5;241m.\u001B[39m_fit(X, y, \u001B[38;5;241m*\u001B[39m\u001B[38;5;241m*\u001B[39mfit_params_steps)\n\u001B[0;32m    439\u001B[0m     last_step \u001B[38;5;241m=\u001B[39m \u001B[38;5;28mself\u001B[39m\u001B[38;5;241m.\u001B[39m_final_estimator\n",
      "File \u001B[1;32m~\\.conda\\envs\\newConda\\lib\\site-packages\\sklearn\\pipeline.py:323\u001B[0m, in \u001B[0;36mPipeline._check_fit_params\u001B[1;34m(self, **fit_params)\u001B[0m\n\u001B[0;32m    321\u001B[0m \u001B[38;5;28;01mfor\u001B[39;00m pname, pval \u001B[38;5;129;01min\u001B[39;00m fit_params\u001B[38;5;241m.\u001B[39mitems():\n\u001B[0;32m    322\u001B[0m     \u001B[38;5;28;01mif\u001B[39;00m \u001B[38;5;124m\"\u001B[39m\u001B[38;5;124m__\u001B[39m\u001B[38;5;124m\"\u001B[39m \u001B[38;5;129;01mnot\u001B[39;00m \u001B[38;5;129;01min\u001B[39;00m pname:\n\u001B[1;32m--> 323\u001B[0m         \u001B[38;5;28;01mraise\u001B[39;00m \u001B[38;5;167;01mValueError\u001B[39;00m(\n\u001B[0;32m    324\u001B[0m             \u001B[38;5;124m\"\u001B[39m\u001B[38;5;124mPipeline.fit does not accept the \u001B[39m\u001B[38;5;132;01m{}\u001B[39;00m\u001B[38;5;124m parameter. \u001B[39m\u001B[38;5;124m\"\u001B[39m\n\u001B[0;32m    325\u001B[0m             \u001B[38;5;124m\"\u001B[39m\u001B[38;5;124mYou can pass parameters to specific steps of your \u001B[39m\u001B[38;5;124m\"\u001B[39m\n\u001B[0;32m    326\u001B[0m             \u001B[38;5;124m\"\u001B[39m\u001B[38;5;124mpipeline using the stepname__parameter format, e.g. \u001B[39m\u001B[38;5;124m\"\u001B[39m\n\u001B[0;32m    327\u001B[0m             \u001B[38;5;124m\"\u001B[39m\u001B[38;5;124m`Pipeline.fit(X, y, logisticregression__sample_weight\u001B[39m\u001B[38;5;124m\"\u001B[39m\n\u001B[0;32m    328\u001B[0m             \u001B[38;5;124m\"\u001B[39m\u001B[38;5;124m=sample_weight)`.\u001B[39m\u001B[38;5;124m\"\u001B[39m\u001B[38;5;241m.\u001B[39mformat(pname)\n\u001B[0;32m    329\u001B[0m         )\n\u001B[0;32m    330\u001B[0m     step, param \u001B[38;5;241m=\u001B[39m pname\u001B[38;5;241m.\u001B[39msplit(\u001B[38;5;124m\"\u001B[39m\u001B[38;5;124m__\u001B[39m\u001B[38;5;124m\"\u001B[39m, \u001B[38;5;241m1\u001B[39m)\n\u001B[0;32m    331\u001B[0m     fit_params_steps[step][param] \u001B[38;5;241m=\u001B[39m pval\n",
      "\u001B[1;31mValueError\u001B[0m: Pipeline.fit does not accept the lower parameter. You can pass parameters to specific steps of your pipeline using the stepname__parameter format, e.g. `Pipeline.fit(X, y, logisticregression__sample_weight=sample_weight)`."
     ]
    }
   ],
   "source": [
    "logistic_regression_pipeline.fit_transform(X_train.transpose(), y_train)"
   ],
   "metadata": {
    "collapsed": false,
    "ExecuteTime": {
     "end_time": "2023-05-25T18:14:47.546061600Z",
     "start_time": "2023-05-25T18:13:35.437682Z"
    }
   }
  },
  {
   "cell_type": "code",
   "execution_count": 167,
   "outputs": [],
   "source": [
    "from sklearn.tree import DecisionTreeClassifier\n",
    "\n",
    "logistic_regression_pipeline = Pipeline(steps=[\n",
    "    ('count_vecotizer', CountVectorizer(min_df=0.05, max_df=0.8, ngram_range=(1, 3))),\n",
    "    ('logistic_regression', DecisionTreeClassifier())\n",
    "])"
   ],
   "metadata": {
    "collapsed": false,
    "ExecuteTime": {
     "end_time": "2023-05-25T18:11:41.438692200Z",
     "start_time": "2023-05-25T18:11:41.393199200Z"
    }
   }
  },
  {
   "cell_type": "code",
   "execution_count": 58,
   "outputs": [
    {
     "name": "stdout",
     "output_type": "stream",
     "text": [
      "(3116630, 1)\n",
      "(3116630,)\n"
     ]
    }
   ],
   "source": [
    "print(X_train.shape)\n",
    "print(y_train.shape)"
   ],
   "metadata": {
    "collapsed": false,
    "ExecuteTime": {
     "end_time": "2023-05-25T10:35:07.777874800Z",
     "start_time": "2023-05-25T10:35:07.700921700Z"
    }
   }
  },
  {
   "cell_type": "code",
   "execution_count": 59,
   "outputs": [
    {
     "data": {
      "text/plain": "                                                      text\n0        44700 0100 utc 24h rang 44357 46557 volum 1275...\n1        btce price last 44400 bid 44400 ask 44400 vol ...\n2        live profit 93928 055 buy b38220 45019 btce se...\n3        45240 1715 utc 24h rang 45000 46940 volum 1045...\n4        kqed enjoy littl gift xeniar sent bitcoin tip ...\n...                                                    ...\n3121623                                         🔥📈🔥📈🔥📈🔥🙂🚀🌌\n3121624  andimmut code prefer code natur suppli code ar...\n3121625  satoshi websit bitcoin reveal even stupid imag...\n3121626  selcoin hocam eth btc gibi sert düzeltm yapmalimi\n3121627  make sure updat wallet latest version v01605 e...\n\n[3116630 rows x 1 columns]",
      "text/html": "<div>\n<style scoped>\n    .dataframe tbody tr th:only-of-type {\n        vertical-align: middle;\n    }\n\n    .dataframe tbody tr th {\n        vertical-align: top;\n    }\n\n    .dataframe thead th {\n        text-align: right;\n    }\n</style>\n<table border=\"1\" class=\"dataframe\">\n  <thead>\n    <tr style=\"text-align: right;\">\n      <th></th>\n      <th>text</th>\n    </tr>\n  </thead>\n  <tbody>\n    <tr>\n      <th>0</th>\n      <td>44700 0100 utc 24h rang 44357 46557 volum 1275...</td>\n    </tr>\n    <tr>\n      <th>1</th>\n      <td>btce price last 44400 bid 44400 ask 44400 vol ...</td>\n    </tr>\n    <tr>\n      <th>2</th>\n      <td>live profit 93928 055 buy b38220 45019 btce se...</td>\n    </tr>\n    <tr>\n      <th>3</th>\n      <td>45240 1715 utc 24h rang 45000 46940 volum 1045...</td>\n    </tr>\n    <tr>\n      <th>4</th>\n      <td>kqed enjoy littl gift xeniar sent bitcoin tip ...</td>\n    </tr>\n    <tr>\n      <th>...</th>\n      <td>...</td>\n    </tr>\n    <tr>\n      <th>3121623</th>\n      <td>🔥📈🔥📈🔥📈🔥🙂🚀🌌</td>\n    </tr>\n    <tr>\n      <th>3121624</th>\n      <td>andimmut code prefer code natur suppli code ar...</td>\n    </tr>\n    <tr>\n      <th>3121625</th>\n      <td>satoshi websit bitcoin reveal even stupid imag...</td>\n    </tr>\n    <tr>\n      <th>3121626</th>\n      <td>selcoin hocam eth btc gibi sert düzeltm yapmalimi</td>\n    </tr>\n    <tr>\n      <th>3121627</th>\n      <td>make sure updat wallet latest version v01605 e...</td>\n    </tr>\n  </tbody>\n</table>\n<p>3116630 rows × 1 columns</p>\n</div>"
     },
     "execution_count": 59,
     "metadata": {},
     "output_type": "execute_result"
    }
   ],
   "source": [
    "X_train"
   ],
   "metadata": {
    "collapsed": false,
    "ExecuteTime": {
     "end_time": "2023-05-25T10:35:11.169828500Z",
     "start_time": "2023-05-25T10:35:11.046898900Z"
    }
   }
  },
  {
   "cell_type": "markdown",
   "source": [
    "Grid search"
   ],
   "metadata": {
    "collapsed": false
   }
  },
  {
   "cell_type": "code",
   "execution_count": 60,
   "outputs": [
    {
     "ename": "ValueError",
     "evalue": "\nAll the 30 fits failed.\nIt is very likely that your model is misconfigured.\nYou can try to debug the error by setting error_score='raise'.\n\nBelow are more details about the failures:\n--------------------------------------------------------------------------------\n6 fits failed with the following error:\nTraceback (most recent call last):\n  File \"C:\\Users\\atago\\.conda\\envs\\newConda\\lib\\site-packages\\sklearn\\model_selection\\_validation.py\", line 686, in _fit_and_score\n    estimator.fit(X_train, y_train, **fit_params)\n  File \"C:\\Users\\atago\\.conda\\envs\\newConda\\lib\\site-packages\\sklearn\\pipeline.py\", line 405, in fit\n    self._final_estimator.fit(Xt, y, **fit_params_last_step)\n  File \"C:\\Users\\atago\\.conda\\envs\\newConda\\lib\\site-packages\\sklearn\\linear_model\\_logistic.py\", line 1196, in fit\n    X, y = self._validate_data(\n  File \"C:\\Users\\atago\\.conda\\envs\\newConda\\lib\\site-packages\\sklearn\\base.py\", line 584, in _validate_data\n    X, y = check_X_y(X, y, **check_params)\n  File \"C:\\Users\\atago\\.conda\\envs\\newConda\\lib\\site-packages\\sklearn\\utils\\validation.py\", line 1124, in check_X_y\n    check_consistent_length(X, y)\n  File \"C:\\Users\\atago\\.conda\\envs\\newConda\\lib\\site-packages\\sklearn\\utils\\validation.py\", line 397, in check_consistent_length\n    raise ValueError(\nValueError: Found input variables with inconsistent numbers of samples: [1, 519440]\n\n--------------------------------------------------------------------------------\n6 fits failed with the following error:\nTraceback (most recent call last):\n  File \"C:\\Users\\atago\\.conda\\envs\\newConda\\lib\\site-packages\\sklearn\\model_selection\\_validation.py\", line 686, in _fit_and_score\n    estimator.fit(X_train, y_train, **fit_params)\n  File \"C:\\Users\\atago\\.conda\\envs\\newConda\\lib\\site-packages\\sklearn\\pipeline.py\", line 405, in fit\n    self._final_estimator.fit(Xt, y, **fit_params_last_step)\n  File \"C:\\Users\\atago\\.conda\\envs\\newConda\\lib\\site-packages\\sklearn\\linear_model\\_logistic.py\", line 1196, in fit\n    X, y = self._validate_data(\n  File \"C:\\Users\\atago\\.conda\\envs\\newConda\\lib\\site-packages\\sklearn\\base.py\", line 584, in _validate_data\n    X, y = check_X_y(X, y, **check_params)\n  File \"C:\\Users\\atago\\.conda\\envs\\newConda\\lib\\site-packages\\sklearn\\utils\\validation.py\", line 1124, in check_X_y\n    check_consistent_length(X, y)\n  File \"C:\\Users\\atago\\.conda\\envs\\newConda\\lib\\site-packages\\sklearn\\utils\\validation.py\", line 397, in check_consistent_length\n    raise ValueError(\nValueError: Found input variables with inconsistent numbers of samples: [1, 1038878]\n\n--------------------------------------------------------------------------------\n6 fits failed with the following error:\nTraceback (most recent call last):\n  File \"C:\\Users\\atago\\.conda\\envs\\newConda\\lib\\site-packages\\sklearn\\model_selection\\_validation.py\", line 686, in _fit_and_score\n    estimator.fit(X_train, y_train, **fit_params)\n  File \"C:\\Users\\atago\\.conda\\envs\\newConda\\lib\\site-packages\\sklearn\\pipeline.py\", line 405, in fit\n    self._final_estimator.fit(Xt, y, **fit_params_last_step)\n  File \"C:\\Users\\atago\\.conda\\envs\\newConda\\lib\\site-packages\\sklearn\\linear_model\\_logistic.py\", line 1196, in fit\n    X, y = self._validate_data(\n  File \"C:\\Users\\atago\\.conda\\envs\\newConda\\lib\\site-packages\\sklearn\\base.py\", line 584, in _validate_data\n    X, y = check_X_y(X, y, **check_params)\n  File \"C:\\Users\\atago\\.conda\\envs\\newConda\\lib\\site-packages\\sklearn\\utils\\validation.py\", line 1124, in check_X_y\n    check_consistent_length(X, y)\n  File \"C:\\Users\\atago\\.conda\\envs\\newConda\\lib\\site-packages\\sklearn\\utils\\validation.py\", line 397, in check_consistent_length\n    raise ValueError(\nValueError: Found input variables with inconsistent numbers of samples: [1, 1558316]\n\n--------------------------------------------------------------------------------\n6 fits failed with the following error:\nTraceback (most recent call last):\n  File \"C:\\Users\\atago\\.conda\\envs\\newConda\\lib\\site-packages\\sklearn\\model_selection\\_validation.py\", line 686, in _fit_and_score\n    estimator.fit(X_train, y_train, **fit_params)\n  File \"C:\\Users\\atago\\.conda\\envs\\newConda\\lib\\site-packages\\sklearn\\pipeline.py\", line 405, in fit\n    self._final_estimator.fit(Xt, y, **fit_params_last_step)\n  File \"C:\\Users\\atago\\.conda\\envs\\newConda\\lib\\site-packages\\sklearn\\linear_model\\_logistic.py\", line 1196, in fit\n    X, y = self._validate_data(\n  File \"C:\\Users\\atago\\.conda\\envs\\newConda\\lib\\site-packages\\sklearn\\base.py\", line 584, in _validate_data\n    X, y = check_X_y(X, y, **check_params)\n  File \"C:\\Users\\atago\\.conda\\envs\\newConda\\lib\\site-packages\\sklearn\\utils\\validation.py\", line 1124, in check_X_y\n    check_consistent_length(X, y)\n  File \"C:\\Users\\atago\\.conda\\envs\\newConda\\lib\\site-packages\\sklearn\\utils\\validation.py\", line 397, in check_consistent_length\n    raise ValueError(\nValueError: Found input variables with inconsistent numbers of samples: [1, 2077754]\n\n--------------------------------------------------------------------------------\n6 fits failed with the following error:\nTraceback (most recent call last):\n  File \"C:\\Users\\atago\\.conda\\envs\\newConda\\lib\\site-packages\\sklearn\\model_selection\\_validation.py\", line 686, in _fit_and_score\n    estimator.fit(X_train, y_train, **fit_params)\n  File \"C:\\Users\\atago\\.conda\\envs\\newConda\\lib\\site-packages\\sklearn\\pipeline.py\", line 405, in fit\n    self._final_estimator.fit(Xt, y, **fit_params_last_step)\n  File \"C:\\Users\\atago\\.conda\\envs\\newConda\\lib\\site-packages\\sklearn\\linear_model\\_logistic.py\", line 1196, in fit\n    X, y = self._validate_data(\n  File \"C:\\Users\\atago\\.conda\\envs\\newConda\\lib\\site-packages\\sklearn\\base.py\", line 584, in _validate_data\n    X, y = check_X_y(X, y, **check_params)\n  File \"C:\\Users\\atago\\.conda\\envs\\newConda\\lib\\site-packages\\sklearn\\utils\\validation.py\", line 1124, in check_X_y\n    check_consistent_length(X, y)\n  File \"C:\\Users\\atago\\.conda\\envs\\newConda\\lib\\site-packages\\sklearn\\utils\\validation.py\", line 397, in check_consistent_length\n    raise ValueError(\nValueError: Found input variables with inconsistent numbers of samples: [1, 2597192]\n",
     "output_type": "error",
     "traceback": [
      "\u001B[1;31m---------------------------------------------------------------------------\u001B[0m",
      "\u001B[1;31mValueError\u001B[0m                                Traceback (most recent call last)",
      "Cell \u001B[1;32mIn[60], line 21\u001B[0m\n\u001B[0;32m     14\u001B[0m grid_search \u001B[38;5;241m=\u001B[39m GridSearchCV(\n\u001B[0;32m     15\u001B[0m     gridsearch_pipeline,\n\u001B[0;32m     16\u001B[0m     parameters,\n\u001B[0;32m     17\u001B[0m     cv\u001B[38;5;241m=\u001B[39mTimeSeriesSplit(n_splits\u001B[38;5;241m=\u001B[39m\u001B[38;5;241m5\u001B[39m)\n\u001B[0;32m     18\u001B[0m )\n\u001B[0;32m     20\u001B[0m \u001B[38;5;66;03m# Dopasowanie modelu GridSearchCV do danych treningowych\u001B[39;00m\n\u001B[1;32m---> 21\u001B[0m \u001B[43mgrid_search\u001B[49m\u001B[38;5;241;43m.\u001B[39;49m\u001B[43mfit\u001B[49m\u001B[43m(\u001B[49m\u001B[43mX_train\u001B[49m\u001B[43m,\u001B[49m\u001B[43m \u001B[49m\u001B[43my_train\u001B[49m\u001B[43m)\u001B[49m\n\u001B[0;32m     23\u001B[0m \u001B[38;5;66;03m# Najlepsze znalezione parametry\u001B[39;00m\n\u001B[0;32m     24\u001B[0m best_params \u001B[38;5;241m=\u001B[39m grid_search\u001B[38;5;241m.\u001B[39mbest_params_\n",
      "File \u001B[1;32m~\\.conda\\envs\\newConda\\lib\\site-packages\\sklearn\\model_selection\\_search.py:874\u001B[0m, in \u001B[0;36mBaseSearchCV.fit\u001B[1;34m(self, X, y, groups, **fit_params)\u001B[0m\n\u001B[0;32m    868\u001B[0m     results \u001B[38;5;241m=\u001B[39m \u001B[38;5;28mself\u001B[39m\u001B[38;5;241m.\u001B[39m_format_results(\n\u001B[0;32m    869\u001B[0m         all_candidate_params, n_splits, all_out, all_more_results\n\u001B[0;32m    870\u001B[0m     )\n\u001B[0;32m    872\u001B[0m     \u001B[38;5;28;01mreturn\u001B[39;00m results\n\u001B[1;32m--> 874\u001B[0m \u001B[38;5;28;43mself\u001B[39;49m\u001B[38;5;241;43m.\u001B[39;49m\u001B[43m_run_search\u001B[49m\u001B[43m(\u001B[49m\u001B[43mevaluate_candidates\u001B[49m\u001B[43m)\u001B[49m\n\u001B[0;32m    876\u001B[0m \u001B[38;5;66;03m# multimetric is determined here because in the case of a callable\u001B[39;00m\n\u001B[0;32m    877\u001B[0m \u001B[38;5;66;03m# self.scoring the return type is only known after calling\u001B[39;00m\n\u001B[0;32m    878\u001B[0m first_test_score \u001B[38;5;241m=\u001B[39m all_out[\u001B[38;5;241m0\u001B[39m][\u001B[38;5;124m\"\u001B[39m\u001B[38;5;124mtest_scores\u001B[39m\u001B[38;5;124m\"\u001B[39m]\n",
      "File \u001B[1;32m~\\.conda\\envs\\newConda\\lib\\site-packages\\sklearn\\model_selection\\_search.py:1388\u001B[0m, in \u001B[0;36mGridSearchCV._run_search\u001B[1;34m(self, evaluate_candidates)\u001B[0m\n\u001B[0;32m   1386\u001B[0m \u001B[38;5;28;01mdef\u001B[39;00m \u001B[38;5;21m_run_search\u001B[39m(\u001B[38;5;28mself\u001B[39m, evaluate_candidates):\n\u001B[0;32m   1387\u001B[0m \u001B[38;5;250m    \u001B[39m\u001B[38;5;124;03m\"\"\"Search all candidates in param_grid\"\"\"\u001B[39;00m\n\u001B[1;32m-> 1388\u001B[0m     \u001B[43mevaluate_candidates\u001B[49m\u001B[43m(\u001B[49m\u001B[43mParameterGrid\u001B[49m\u001B[43m(\u001B[49m\u001B[38;5;28;43mself\u001B[39;49m\u001B[38;5;241;43m.\u001B[39;49m\u001B[43mparam_grid\u001B[49m\u001B[43m)\u001B[49m\u001B[43m)\u001B[49m\n",
      "File \u001B[1;32m~\\.conda\\envs\\newConda\\lib\\site-packages\\sklearn\\model_selection\\_search.py:851\u001B[0m, in \u001B[0;36mBaseSearchCV.fit.<locals>.evaluate_candidates\u001B[1;34m(candidate_params, cv, more_results)\u001B[0m\n\u001B[0;32m    844\u001B[0m \u001B[38;5;28;01melif\u001B[39;00m \u001B[38;5;28mlen\u001B[39m(out) \u001B[38;5;241m!=\u001B[39m n_candidates \u001B[38;5;241m*\u001B[39m n_splits:\n\u001B[0;32m    845\u001B[0m     \u001B[38;5;28;01mraise\u001B[39;00m \u001B[38;5;167;01mValueError\u001B[39;00m(\n\u001B[0;32m    846\u001B[0m         \u001B[38;5;124m\"\u001B[39m\u001B[38;5;124mcv.split and cv.get_n_splits returned \u001B[39m\u001B[38;5;124m\"\u001B[39m\n\u001B[0;32m    847\u001B[0m         \u001B[38;5;124m\"\u001B[39m\u001B[38;5;124minconsistent results. Expected \u001B[39m\u001B[38;5;132;01m{}\u001B[39;00m\u001B[38;5;124m \u001B[39m\u001B[38;5;124m\"\u001B[39m\n\u001B[0;32m    848\u001B[0m         \u001B[38;5;124m\"\u001B[39m\u001B[38;5;124msplits, got \u001B[39m\u001B[38;5;132;01m{}\u001B[39;00m\u001B[38;5;124m\"\u001B[39m\u001B[38;5;241m.\u001B[39mformat(n_splits, \u001B[38;5;28mlen\u001B[39m(out) \u001B[38;5;241m/\u001B[39m\u001B[38;5;241m/\u001B[39m n_candidates)\n\u001B[0;32m    849\u001B[0m     )\n\u001B[1;32m--> 851\u001B[0m \u001B[43m_warn_or_raise_about_fit_failures\u001B[49m\u001B[43m(\u001B[49m\u001B[43mout\u001B[49m\u001B[43m,\u001B[49m\u001B[43m \u001B[49m\u001B[38;5;28;43mself\u001B[39;49m\u001B[38;5;241;43m.\u001B[39;49m\u001B[43merror_score\u001B[49m\u001B[43m)\u001B[49m\n\u001B[0;32m    853\u001B[0m \u001B[38;5;66;03m# For callable self.scoring, the return type is only know after\u001B[39;00m\n\u001B[0;32m    854\u001B[0m \u001B[38;5;66;03m# calling. If the return type is a dictionary, the error scores\u001B[39;00m\n\u001B[0;32m    855\u001B[0m \u001B[38;5;66;03m# can now be inserted with the correct key. The type checking\u001B[39;00m\n\u001B[0;32m    856\u001B[0m \u001B[38;5;66;03m# of out will be done in `_insert_error_scores`.\u001B[39;00m\n\u001B[0;32m    857\u001B[0m \u001B[38;5;28;01mif\u001B[39;00m \u001B[38;5;28mcallable\u001B[39m(\u001B[38;5;28mself\u001B[39m\u001B[38;5;241m.\u001B[39mscoring):\n",
      "File \u001B[1;32m~\\.conda\\envs\\newConda\\lib\\site-packages\\sklearn\\model_selection\\_validation.py:367\u001B[0m, in \u001B[0;36m_warn_or_raise_about_fit_failures\u001B[1;34m(results, error_score)\u001B[0m\n\u001B[0;32m    360\u001B[0m \u001B[38;5;28;01mif\u001B[39;00m num_failed_fits \u001B[38;5;241m==\u001B[39m num_fits:\n\u001B[0;32m    361\u001B[0m     all_fits_failed_message \u001B[38;5;241m=\u001B[39m (\n\u001B[0;32m    362\u001B[0m         \u001B[38;5;124mf\u001B[39m\u001B[38;5;124m\"\u001B[39m\u001B[38;5;130;01m\\n\u001B[39;00m\u001B[38;5;124mAll the \u001B[39m\u001B[38;5;132;01m{\u001B[39;00mnum_fits\u001B[38;5;132;01m}\u001B[39;00m\u001B[38;5;124m fits failed.\u001B[39m\u001B[38;5;130;01m\\n\u001B[39;00m\u001B[38;5;124m\"\u001B[39m\n\u001B[0;32m    363\u001B[0m         \u001B[38;5;124m\"\u001B[39m\u001B[38;5;124mIt is very likely that your model is misconfigured.\u001B[39m\u001B[38;5;130;01m\\n\u001B[39;00m\u001B[38;5;124m\"\u001B[39m\n\u001B[0;32m    364\u001B[0m         \u001B[38;5;124m\"\u001B[39m\u001B[38;5;124mYou can try to debug the error by setting error_score=\u001B[39m\u001B[38;5;124m'\u001B[39m\u001B[38;5;124mraise\u001B[39m\u001B[38;5;124m'\u001B[39m\u001B[38;5;124m.\u001B[39m\u001B[38;5;130;01m\\n\u001B[39;00m\u001B[38;5;130;01m\\n\u001B[39;00m\u001B[38;5;124m\"\u001B[39m\n\u001B[0;32m    365\u001B[0m         \u001B[38;5;124mf\u001B[39m\u001B[38;5;124m\"\u001B[39m\u001B[38;5;124mBelow are more details about the failures:\u001B[39m\u001B[38;5;130;01m\\n\u001B[39;00m\u001B[38;5;132;01m{\u001B[39;00mfit_errors_summary\u001B[38;5;132;01m}\u001B[39;00m\u001B[38;5;124m\"\u001B[39m\n\u001B[0;32m    366\u001B[0m     )\n\u001B[1;32m--> 367\u001B[0m     \u001B[38;5;28;01mraise\u001B[39;00m \u001B[38;5;167;01mValueError\u001B[39;00m(all_fits_failed_message)\n\u001B[0;32m    369\u001B[0m \u001B[38;5;28;01melse\u001B[39;00m:\n\u001B[0;32m    370\u001B[0m     some_fits_failed_message \u001B[38;5;241m=\u001B[39m (\n\u001B[0;32m    371\u001B[0m         \u001B[38;5;124mf\u001B[39m\u001B[38;5;124m\"\u001B[39m\u001B[38;5;130;01m\\n\u001B[39;00m\u001B[38;5;132;01m{\u001B[39;00mnum_failed_fits\u001B[38;5;132;01m}\u001B[39;00m\u001B[38;5;124m fits failed out of a total of \u001B[39m\u001B[38;5;132;01m{\u001B[39;00mnum_fits\u001B[38;5;132;01m}\u001B[39;00m\u001B[38;5;124m.\u001B[39m\u001B[38;5;130;01m\\n\u001B[39;00m\u001B[38;5;124m\"\u001B[39m\n\u001B[0;32m    372\u001B[0m         \u001B[38;5;124m\"\u001B[39m\u001B[38;5;124mThe score on these train-test partitions for these parameters\u001B[39m\u001B[38;5;124m\"\u001B[39m\n\u001B[1;32m   (...)\u001B[0m\n\u001B[0;32m    376\u001B[0m         \u001B[38;5;124mf\u001B[39m\u001B[38;5;124m\"\u001B[39m\u001B[38;5;124mBelow are more details about the failures:\u001B[39m\u001B[38;5;130;01m\\n\u001B[39;00m\u001B[38;5;132;01m{\u001B[39;00mfit_errors_summary\u001B[38;5;132;01m}\u001B[39;00m\u001B[38;5;124m\"\u001B[39m\n\u001B[0;32m    377\u001B[0m     )\n",
      "\u001B[1;31mValueError\u001B[0m: \nAll the 30 fits failed.\nIt is very likely that your model is misconfigured.\nYou can try to debug the error by setting error_score='raise'.\n\nBelow are more details about the failures:\n--------------------------------------------------------------------------------\n6 fits failed with the following error:\nTraceback (most recent call last):\n  File \"C:\\Users\\atago\\.conda\\envs\\newConda\\lib\\site-packages\\sklearn\\model_selection\\_validation.py\", line 686, in _fit_and_score\n    estimator.fit(X_train, y_train, **fit_params)\n  File \"C:\\Users\\atago\\.conda\\envs\\newConda\\lib\\site-packages\\sklearn\\pipeline.py\", line 405, in fit\n    self._final_estimator.fit(Xt, y, **fit_params_last_step)\n  File \"C:\\Users\\atago\\.conda\\envs\\newConda\\lib\\site-packages\\sklearn\\linear_model\\_logistic.py\", line 1196, in fit\n    X, y = self._validate_data(\n  File \"C:\\Users\\atago\\.conda\\envs\\newConda\\lib\\site-packages\\sklearn\\base.py\", line 584, in _validate_data\n    X, y = check_X_y(X, y, **check_params)\n  File \"C:\\Users\\atago\\.conda\\envs\\newConda\\lib\\site-packages\\sklearn\\utils\\validation.py\", line 1124, in check_X_y\n    check_consistent_length(X, y)\n  File \"C:\\Users\\atago\\.conda\\envs\\newConda\\lib\\site-packages\\sklearn\\utils\\validation.py\", line 397, in check_consistent_length\n    raise ValueError(\nValueError: Found input variables with inconsistent numbers of samples: [1, 519440]\n\n--------------------------------------------------------------------------------\n6 fits failed with the following error:\nTraceback (most recent call last):\n  File \"C:\\Users\\atago\\.conda\\envs\\newConda\\lib\\site-packages\\sklearn\\model_selection\\_validation.py\", line 686, in _fit_and_score\n    estimator.fit(X_train, y_train, **fit_params)\n  File \"C:\\Users\\atago\\.conda\\envs\\newConda\\lib\\site-packages\\sklearn\\pipeline.py\", line 405, in fit\n    self._final_estimator.fit(Xt, y, **fit_params_last_step)\n  File \"C:\\Users\\atago\\.conda\\envs\\newConda\\lib\\site-packages\\sklearn\\linear_model\\_logistic.py\", line 1196, in fit\n    X, y = self._validate_data(\n  File \"C:\\Users\\atago\\.conda\\envs\\newConda\\lib\\site-packages\\sklearn\\base.py\", line 584, in _validate_data\n    X, y = check_X_y(X, y, **check_params)\n  File \"C:\\Users\\atago\\.conda\\envs\\newConda\\lib\\site-packages\\sklearn\\utils\\validation.py\", line 1124, in check_X_y\n    check_consistent_length(X, y)\n  File \"C:\\Users\\atago\\.conda\\envs\\newConda\\lib\\site-packages\\sklearn\\utils\\validation.py\", line 397, in check_consistent_length\n    raise ValueError(\nValueError: Found input variables with inconsistent numbers of samples: [1, 1038878]\n\n--------------------------------------------------------------------------------\n6 fits failed with the following error:\nTraceback (most recent call last):\n  File \"C:\\Users\\atago\\.conda\\envs\\newConda\\lib\\site-packages\\sklearn\\model_selection\\_validation.py\", line 686, in _fit_and_score\n    estimator.fit(X_train, y_train, **fit_params)\n  File \"C:\\Users\\atago\\.conda\\envs\\newConda\\lib\\site-packages\\sklearn\\pipeline.py\", line 405, in fit\n    self._final_estimator.fit(Xt, y, **fit_params_last_step)\n  File \"C:\\Users\\atago\\.conda\\envs\\newConda\\lib\\site-packages\\sklearn\\linear_model\\_logistic.py\", line 1196, in fit\n    X, y = self._validate_data(\n  File \"C:\\Users\\atago\\.conda\\envs\\newConda\\lib\\site-packages\\sklearn\\base.py\", line 584, in _validate_data\n    X, y = check_X_y(X, y, **check_params)\n  File \"C:\\Users\\atago\\.conda\\envs\\newConda\\lib\\site-packages\\sklearn\\utils\\validation.py\", line 1124, in check_X_y\n    check_consistent_length(X, y)\n  File \"C:\\Users\\atago\\.conda\\envs\\newConda\\lib\\site-packages\\sklearn\\utils\\validation.py\", line 397, in check_consistent_length\n    raise ValueError(\nValueError: Found input variables with inconsistent numbers of samples: [1, 1558316]\n\n--------------------------------------------------------------------------------\n6 fits failed with the following error:\nTraceback (most recent call last):\n  File \"C:\\Users\\atago\\.conda\\envs\\newConda\\lib\\site-packages\\sklearn\\model_selection\\_validation.py\", line 686, in _fit_and_score\n    estimator.fit(X_train, y_train, **fit_params)\n  File \"C:\\Users\\atago\\.conda\\envs\\newConda\\lib\\site-packages\\sklearn\\pipeline.py\", line 405, in fit\n    self._final_estimator.fit(Xt, y, **fit_params_last_step)\n  File \"C:\\Users\\atago\\.conda\\envs\\newConda\\lib\\site-packages\\sklearn\\linear_model\\_logistic.py\", line 1196, in fit\n    X, y = self._validate_data(\n  File \"C:\\Users\\atago\\.conda\\envs\\newConda\\lib\\site-packages\\sklearn\\base.py\", line 584, in _validate_data\n    X, y = check_X_y(X, y, **check_params)\n  File \"C:\\Users\\atago\\.conda\\envs\\newConda\\lib\\site-packages\\sklearn\\utils\\validation.py\", line 1124, in check_X_y\n    check_consistent_length(X, y)\n  File \"C:\\Users\\atago\\.conda\\envs\\newConda\\lib\\site-packages\\sklearn\\utils\\validation.py\", line 397, in check_consistent_length\n    raise ValueError(\nValueError: Found input variables with inconsistent numbers of samples: [1, 2077754]\n\n--------------------------------------------------------------------------------\n6 fits failed with the following error:\nTraceback (most recent call last):\n  File \"C:\\Users\\atago\\.conda\\envs\\newConda\\lib\\site-packages\\sklearn\\model_selection\\_validation.py\", line 686, in _fit_and_score\n    estimator.fit(X_train, y_train, **fit_params)\n  File \"C:\\Users\\atago\\.conda\\envs\\newConda\\lib\\site-packages\\sklearn\\pipeline.py\", line 405, in fit\n    self._final_estimator.fit(Xt, y, **fit_params_last_step)\n  File \"C:\\Users\\atago\\.conda\\envs\\newConda\\lib\\site-packages\\sklearn\\linear_model\\_logistic.py\", line 1196, in fit\n    X, y = self._validate_data(\n  File \"C:\\Users\\atago\\.conda\\envs\\newConda\\lib\\site-packages\\sklearn\\base.py\", line 584, in _validate_data\n    X, y = check_X_y(X, y, **check_params)\n  File \"C:\\Users\\atago\\.conda\\envs\\newConda\\lib\\site-packages\\sklearn\\utils\\validation.py\", line 1124, in check_X_y\n    check_consistent_length(X, y)\n  File \"C:\\Users\\atago\\.conda\\envs\\newConda\\lib\\site-packages\\sklearn\\utils\\validation.py\", line 397, in check_consistent_length\n    raise ValueError(\nValueError: Found input variables with inconsistent numbers of samples: [1, 2597192]\n"
     ]
    }
   ],
   "source": [
    "# Definicja parametrów do sprawdzenia\n",
    "parameters = {\n",
    "    'tfidf__max_features': [1000, 5000],  # Liczba najważniejszych cech\n",
    "    'model__C': [0.1, 1, 10],  # Parametr regularyzacji\n",
    "}\n",
    "\n",
    "# Tworzenie pipeline'u z TfidfVectorizer i LogisticRegression\n",
    "gridsearch_pipeline = Pipeline([\n",
    "    ('tfidf', TfidfVectorizer()),\n",
    "    ('model', LogisticRegression())\n",
    "])\n",
    "\n",
    "# Utworzenie obiektu GridSearchCV z kroswalidacją uwzględniającą chronologię\n",
    "grid_search = GridSearchCV(\n",
    "    gridsearch_pipeline,\n",
    "    parameters,\n",
    "    cv=TimeSeriesSplit(n_splits=5)\n",
    ")\n",
    "\n",
    "# Dopasowanie modelu GridSearchCV do danych treningowych\n",
    "grid_search.fit(X_train, y_train)\n",
    "\n",
    "# Najlepsze znalezione parametry\n",
    "best_params = grid_search.best_params_\n",
    "print(\"Najlepsze parametry:\", best_params)\n",
    "\n",
    "# Ocena najlepszego modelu na danych testowych\n",
    "accuracy = grid_search.score(X_test, y_test)\n",
    "print(\"Dokładność na danych testowych:\", accuracy)\n",
    "\n",
    "# Utworzenie obiektu GridSearchCV\n",
    "grid_search = GridSearchCV(estimator=test_pipe, param_grid=parameters, cv=5)\n",
    "\n",
    "# Dopasowanie modelu grid search do danych\n",
    "grid_search.fit(X_train['text'], y_train['bitcoin_trend'])\n",
    "\n",
    "# Najlepsze parametry i wynik\n",
    "print(\"Najlepsze parametry: \", grid_search.best_params_)\n",
    "print(\"Najlepszy wynik: \", grid_search.best_score_)"
   ],
   "metadata": {
    "collapsed": false,
    "ExecuteTime": {
     "end_time": "2023-05-25T10:35:29.552368900Z",
     "start_time": "2023-05-25T10:35:14.111052Z"
    }
   }
  },
  {
   "cell_type": "code",
   "execution_count": null,
   "outputs": [],
   "source": [
    "# Parametry do przetestowania w grid search\n",
    "parameters = {\n",
    "    'tfidf_vectorizer__ngram_range': [(1, 1), (1, 2), (2, 2)],\n",
    "    'tfidf_vectorizer__min_df': [0.1, 0.2, 0.3],\n",
    "    'tfidf_vectorizer__max_df': [0.5, 0.75, 1.0],\n",
    "    'model__C': [0.1, 1, 10]\n",
    "}"
   ],
   "metadata": {
    "collapsed": false
   }
  },
  {
   "cell_type": "markdown",
   "source": [
    "Klasyfikator 3: LSTM"
   ],
   "metadata": {
    "collapsed": false
   }
  },
  {
   "cell_type": "code",
   "execution_count": null,
   "outputs": [],
   "source": [],
   "metadata": {
    "collapsed": false
   }
  }
 ],
 "metadata": {
  "kernelspec": {
   "display_name": "Python 3",
   "language": "python",
   "name": "python3"
  },
  "language_info": {
   "codemirror_mode": {
    "name": "ipython",
    "version": 2
   },
   "file_extension": ".py",
   "mimetype": "text/x-python",
   "name": "python",
   "nbconvert_exporter": "python",
   "pygments_lexer": "ipython2",
   "version": "2.7.6"
  }
 },
 "nbformat": 4,
 "nbformat_minor": 0
}
=======
{
 "cells": [
  {
   "cell_type": "markdown",
   "source": [
    "4. Klasyfikacja"
   ],
   "metadata": {
    "collapsed": false
   }
  },
  {
   "cell_type": "code",
   "execution_count": 28,
   "outputs": [],
   "source": [
    "import pandas as pd\n",
    "import joblib\n",
    "from sklearn.metrics import accuracy_score, precision_score, recall_score, f1_score\n",
    "from sklearn.pipeline import Pipeline\n",
    "from sklearn.feature_extraction.text import CountVectorizer\n",
    "from sklearn.linear_model import LogisticRegression\n",
    "from matplotlib import pyplot as plt\n",
    "from sklearn.feature_selection import SelectFromModel\n",
    "from sklearn.model_selection import GridSearchCV, TimeSeriesSplit\n",
    "from sklearn.feature_extraction.text import TfidfVectorizer\n",
    "from sklearn.linear_model import LogisticRegression\n",
    "from sklearn.pipeline import Pipeline"
   ],
   "metadata": {
    "collapsed": false,
    "ExecuteTime": {
     "end_time": "2023-05-25T10:09:21.827546Z",
     "start_time": "2023-05-25T10:09:21.754590400Z"
    }
   }
  },
  {
   "cell_type": "markdown",
   "source": [
    "4.1. Wczytanie przygotowanych danych z pliku"
   ],
   "metadata": {
    "collapsed": false
   }
  },
  {
   "cell_type": "code",
   "execution_count": 2,
   "metadata": {
    "collapsed": true,
    "ExecuteTime": {
     "end_time": "2023-05-25T09:49:49.179826400Z",
     "start_time": "2023-05-25T09:49:35.079677100Z"
    }
   },
   "outputs": [],
   "source": [
    "X_train_file = 'X_train.csv'\n",
    "X_test_file = 'X_test.csv'\n",
    "y_train_file = 'y_train.csv'\n",
    "y_test_file = 'y_test.csv'\n",
    "dates_file = 'dates.csv'\n",
    "\n",
    "X_train = pd.read_csv(X_train_file)\n",
    "X_test = pd.read_csv(X_test_file)\n",
    "y_train = pd.read_csv(y_train_file)\n",
    "y_test = pd.read_csv(y_test_file)\n",
    "dates = pd.read_csv(dates_file)"
   ]
  },
  {
   "cell_type": "code",
   "execution_count": 3,
   "outputs": [],
   "source": [
    "y_train = y_train['bitcoin_trend']\n",
    "y_test = y_test['bitcoin_trend']"
   ],
   "metadata": {
    "collapsed": false,
    "ExecuteTime": {
     "end_time": "2023-05-25T09:49:50.329562Z",
     "start_time": "2023-05-25T09:49:50.253429Z"
    }
   }
  },
  {
   "cell_type": "code",
   "execution_count": 4,
   "outputs": [
    {
     "name": "stdout",
     "output_type": "stream",
     "text": [
      "Type of X_train: <class 'pandas.core.frame.DataFrame'>\n",
      "Type of y_train: <class 'pandas.core.series.Series'>\n",
      "Type of X_test: <class 'pandas.core.frame.DataFrame'>\n",
      "Type of y_test: <class 'pandas.core.series.Series'>\n"
     ]
    }
   ],
   "source": [
    "print(f'Type of X_train: {type(X_train)}')\n",
    "print(f'Type of y_train: {type(y_train)}')\n",
    "print(f'Type of X_test: {type(X_test)}')\n",
    "print(f'Type of y_test: {type(y_test)}')"
   ],
   "metadata": {
    "collapsed": false,
    "ExecuteTime": {
     "end_time": "2023-05-25T09:49:54.864022500Z",
     "start_time": "2023-05-25T09:49:54.816976300Z"
    }
   }
  },
  {
   "cell_type": "code",
   "execution_count": 6,
   "outputs": [
    {
     "name": "stdout",
     "output_type": "stream",
     "text": [
      "<class 'pandas.core.frame.DataFrame'>\n",
      "RangeIndex: 3121628 entries, 0 to 3121627\n",
      "Data columns (total 1 columns):\n",
      " #   Column  Dtype \n",
      "---  ------  ----- \n",
      " 0   text    object\n",
      "dtypes: object(1)\n",
      "memory usage: 23.8+ MB\n"
     ]
    }
   ],
   "source": [
    "X_train.info()"
   ],
   "metadata": {
    "collapsed": false,
    "ExecuteTime": {
     "end_time": "2023-05-25T09:50:32.595127400Z",
     "start_time": "2023-05-25T09:50:32.512910500Z"
    }
   }
  },
  {
   "cell_type": "markdown",
   "source": [
    "W X_train pojawiły się nulle, czyszczenie"
   ],
   "metadata": {
    "collapsed": false
   }
  },
  {
   "cell_type": "code",
   "execution_count": 7,
   "outputs": [
    {
     "name": "stdout",
     "output_type": "stream",
     "text": [
      "Nulle w X_train: 4998\n",
      "Nulle w y_train: 0\n",
      "(3116630, 1)\n",
      "(3116630,)\n",
      "Nulle w X_train: 0\n",
      "Nulle w y_train: 0\n"
     ]
    }
   ],
   "source": [
    "print(f'Nulle w X_train: {X_train.text.isna().sum()}')\n",
    "print(f'Nulle w y_train: {y_train.isna().sum()}')\n",
    "null_indexes_X_train = X_train[X_train['text'].isna()].index\n",
    "X_train = X_train.drop(null_indexes_X_train)\n",
    "y_train = y_train.drop(null_indexes_X_train)\n",
    "print(X_train.shape)\n",
    "print(y_train.shape)\n",
    "print(f'Nulle w X_train: {X_train.text.isna().sum()}')\n",
    "print(f'Nulle w y_train: {y_train.isna().sum()}')"
   ],
   "metadata": {
    "collapsed": false,
    "ExecuteTime": {
     "end_time": "2023-05-25T09:50:41.812949500Z",
     "start_time": "2023-05-25T09:50:40.482212800Z"
    }
   }
  },
  {
   "cell_type": "markdown",
   "source": [
    "Klasyfikator 1: model baselinowy (losowanie wartości)"
   ],
   "metadata": {
    "collapsed": false
   }
  },
  {
   "cell_type": "code",
   "execution_count": 8,
   "outputs": [
    {
     "data": {
      "text/plain": "0.4996553565241195"
     },
     "execution_count": 8,
     "metadata": {},
     "output_type": "execute_result"
    }
   ],
   "source": [
    "# Model baselinowy\n",
    "from sklearn.dummy import DummyClassifier\n",
    "\n",
    "# Klasyfikator losujący wartości z jednakowym prawdopodobieństwem\n",
    "baseline_model = DummyClassifier(strategy='uniform', random_state=42)\n",
    "baseline_model.fit(X_train, y_train)\n",
    "baseline_model.score(X_test, y_test)"
   ],
   "metadata": {
    "collapsed": false,
    "ExecuteTime": {
     "end_time": "2023-05-25T09:50:46.779543900Z",
     "start_time": "2023-05-25T09:50:46.386311200Z"
    }
   }
  },
  {
   "cell_type": "code",
   "execution_count": 9,
   "outputs": [
    {
     "name": "stdout",
     "output_type": "stream",
     "text": [
      "Accuracy: 0.50\n",
      "Precision: 0.47\n",
      "Recall:0.50\n",
      "F1: 0.49\n"
     ]
    }
   ],
   "source": [
    "# Ewaluacja modelu baselinowego\n",
    "y_pred = baseline_model.predict(X_test)\n",
    "\n",
    "accuracy = accuracy_score(y_test, y_pred)\n",
    "precision = precision_score(y_test, y_pred)\n",
    "recall =recall_score(y_test, y_pred)\n",
    "f1 = f1_score(y_test, y_pred)\n",
    "print(\"Accuracy: {:.2f}\".format(accuracy))\n",
    "print(\"Precision: {:.2f}\".format(precision))\n",
    "print('Recall:{:.2f}'.format(recall))\n",
    "print(\"F1: {:.2f}\".format(f1))"
   ],
   "metadata": {
    "collapsed": false,
    "ExecuteTime": {
     "end_time": "2023-05-25T09:50:49.912704500Z",
     "start_time": "2023-05-25T09:50:48.062737200Z"
    }
   }
  },
  {
   "cell_type": "code",
   "execution_count": 10,
   "outputs": [
    {
     "data": {
      "text/plain": "['baseline_model.sav']"
     },
     "execution_count": 10,
     "metadata": {},
     "output_type": "execute_result"
    }
   ],
   "source": [
    "# Zapisanie modelu do pliku\n",
    "filename = 'baseline_model.sav'\n",
    "joblib.dump(baseline_model, filename)"
   ],
   "metadata": {
    "collapsed": false,
    "ExecuteTime": {
     "end_time": "2023-05-25T09:50:51.896361700Z",
     "start_time": "2023-05-25T09:50:51.833924700Z"
    }
   }
  },
  {
   "cell_type": "markdown",
   "source": [
    "Wizualizacja modelu"
   ],
   "metadata": {
    "collapsed": false
   }
  },
  {
   "cell_type": "code",
   "execution_count": 83,
   "outputs": [
    {
     "data": {
      "text/plain": "               Date\n0        2014-09-17\n1        2014-09-17\n2        2014-09-17\n3        2014-09-17\n4        2014-09-17\n...             ...\n3121623  2019-05-14\n3121624  2019-05-14\n3121625  2019-05-14\n3121626  2019-05-14\n3121627  2019-05-14\n\n[3121628 rows x 1 columns]",
      "text/html": "<div>\n<style scoped>\n    .dataframe tbody tr th:only-of-type {\n        vertical-align: middle;\n    }\n\n    .dataframe tbody tr th {\n        vertical-align: top;\n    }\n\n    .dataframe thead th {\n        text-align: right;\n    }\n</style>\n<table border=\"1\" class=\"dataframe\">\n  <thead>\n    <tr style=\"text-align: right;\">\n      <th></th>\n      <th>Date</th>\n    </tr>\n  </thead>\n  <tbody>\n    <tr>\n      <th>0</th>\n      <td>2014-09-17</td>\n    </tr>\n    <tr>\n      <th>1</th>\n      <td>2014-09-17</td>\n    </tr>\n    <tr>\n      <th>2</th>\n      <td>2014-09-17</td>\n    </tr>\n    <tr>\n      <th>3</th>\n      <td>2014-09-17</td>\n    </tr>\n    <tr>\n      <th>4</th>\n      <td>2014-09-17</td>\n    </tr>\n    <tr>\n      <th>...</th>\n      <td>...</td>\n    </tr>\n    <tr>\n      <th>3121623</th>\n      <td>2019-05-14</td>\n    </tr>\n    <tr>\n      <th>3121624</th>\n      <td>2019-05-14</td>\n    </tr>\n    <tr>\n      <th>3121625</th>\n      <td>2019-05-14</td>\n    </tr>\n    <tr>\n      <th>3121626</th>\n      <td>2019-05-14</td>\n    </tr>\n    <tr>\n      <th>3121627</th>\n      <td>2019-05-14</td>\n    </tr>\n  </tbody>\n</table>\n<p>3121628 rows × 1 columns</p>\n</div>"
     },
     "execution_count": 83,
     "metadata": {},
     "output_type": "execute_result"
    }
   ],
   "source": [
    "a"
   ],
   "metadata": {
    "collapsed": false,
    "ExecuteTime": {
     "end_time": "2023-05-25T15:55:34.479615100Z",
     "start_time": "2023-05-25T15:55:34.429397900Z"
    }
   }
  },
  {
   "cell_type": "code",
   "execution_count": 108,
   "outputs": [
    {
     "data": {
      "text/plain": "RangeIndex(start=0, stop=810983, step=1)"
     },
     "execution_count": 108,
     "metadata": {},
     "output_type": "execute_result"
    }
   ],
   "source": [
    "c.index"
   ],
   "metadata": {
    "collapsed": false,
    "ExecuteTime": {
     "end_time": "2023-05-25T16:08:16.528455800Z",
     "start_time": "2023-05-25T16:08:16.412984800Z"
    }
   }
  },
  {
   "cell_type": "code",
   "execution_count": 138,
   "outputs": [
    {
     "data": {
      "text/plain": "array([[-1.        ],\n       [-1.        ],\n       [-1.        ],\n       [-1.        ],\n       [-1.        ],\n       [-1.        ],\n       [-1.        ],\n       [-0.4081005 ],\n       [ 1.        ],\n       [ 0.42160062],\n       [-1.        ],\n       [-1.        ],\n       [-1.        ],\n       [-1.        ],\n       [-1.        ],\n       [-1.        ],\n       [-1.        ],\n       [-1.        ],\n       [-1.        ],\n       [-1.        ],\n       [-1.        ],\n       [-1.        ],\n       [-1.        ],\n       [-1.        ],\n       [-1.        ],\n       [-1.        ],\n       [-1.        ],\n       [-1.        ],\n       [-1.        ],\n       [-1.        ],\n       [-1.        ],\n       [-1.        ],\n       [-1.        ],\n       [-1.        ],\n       [-1.        ],\n       [-1.        ],\n       [-1.        ],\n       [-1.        ],\n       [-1.        ],\n       [-1.        ],\n       [-1.        ],\n       [-1.        ],\n       [-1.        ],\n       [-1.        ],\n       [-1.        ],\n       [-1.        ],\n       [-1.        ],\n       [-1.        ],\n       [-1.        ],\n       [-1.        ],\n       [-1.        ],\n       [-1.        ],\n       [-1.        ],\n       [-1.        ],\n       [-1.        ],\n       [-1.        ],\n       [-1.        ],\n       [-1.        ],\n       [-1.        ],\n       [-1.        ],\n       [-1.        ],\n       [-1.        ],\n       [-1.        ],\n       [-1.        ],\n       [-1.        ],\n       [-1.        ],\n       [-1.        ],\n       [-1.        ],\n       [-1.        ],\n       [-1.        ],\n       [-1.        ],\n       [-1.        ],\n       [-1.        ],\n       [-1.        ],\n       [-1.        ],\n       [-1.        ],\n       [-1.        ],\n       [-1.        ],\n       [-1.        ],\n       [-1.        ],\n       [-1.        ],\n       [-1.        ],\n       [-1.        ],\n       [-1.        ],\n       [-1.        ],\n       [-1.        ],\n       [-1.        ],\n       [-1.        ],\n       [-1.        ],\n       [-1.        ],\n       [-1.        ],\n       [-1.        ],\n       [-1.        ],\n       [-1.        ],\n       [-1.        ],\n       [-1.        ],\n       [-1.        ],\n       [-1.        ],\n       [-1.        ],\n       [-1.        ],\n       [-1.        ],\n       [-1.        ],\n       [-1.        ],\n       [-1.        ],\n       [-1.        ],\n       [-1.        ],\n       [-1.        ],\n       [-1.        ],\n       [-1.        ],\n       [-1.        ],\n       [-1.        ],\n       [-1.        ],\n       [-1.        ],\n       [ 0.27555922],\n       [ 1.        ],\n       [ 1.        ],\n       [ 0.99993868]])"
     },
     "execution_count": 138,
     "metadata": {},
     "output_type": "execute_result"
    }
   ],
   "source": [],
   "metadata": {
    "collapsed": false,
    "ExecuteTime": {
     "end_time": "2023-05-25T16:34:32.546216800Z",
     "start_time": "2023-05-25T16:34:32.479652300Z"
    }
   }
  },
  {
   "cell_type": "code",
   "execution_count": 158,
   "outputs": [
    {
     "data": {
      "text/plain": "array([[-1.        ],\n       [-1.        ],\n       [-1.        ],\n       [-1.        ],\n       [-1.        ],\n       [-1.        ],\n       [-1.        ],\n       [-0.4081005 ],\n       [ 1.        ],\n       [ 0.42160062],\n       [-1.        ],\n       [-1.        ],\n       [-1.        ],\n       [-1.        ],\n       [-1.        ],\n       [-1.        ],\n       [-1.        ],\n       [-1.        ],\n       [-1.        ],\n       [-1.        ],\n       [-1.        ],\n       [-1.        ],\n       [-1.        ],\n       [-1.        ],\n       [-1.        ],\n       [-1.        ],\n       [-1.        ],\n       [-1.        ],\n       [-1.        ],\n       [-1.        ],\n       [-1.        ],\n       [-1.        ],\n       [-1.        ],\n       [-1.        ],\n       [-1.        ],\n       [-1.        ],\n       [-1.        ],\n       [-1.        ],\n       [-1.        ],\n       [-1.        ],\n       [-1.        ],\n       [-1.        ],\n       [-1.        ],\n       [-1.        ],\n       [-1.        ],\n       [-1.        ],\n       [-1.        ],\n       [-1.        ],\n       [-1.        ],\n       [-1.        ],\n       [-1.        ],\n       [-1.        ],\n       [-1.        ],\n       [-1.        ],\n       [-1.        ],\n       [-1.        ],\n       [-1.        ],\n       [-1.        ],\n       [-1.        ],\n       [-1.        ],\n       [-1.        ],\n       [-1.        ],\n       [-1.        ],\n       [-1.        ],\n       [-1.        ],\n       [-1.        ],\n       [-1.        ],\n       [-1.        ],\n       [-1.        ],\n       [-1.        ],\n       [-1.        ],\n       [-1.        ],\n       [-1.        ],\n       [-1.        ],\n       [-1.        ],\n       [-1.        ],\n       [-1.        ],\n       [-1.        ],\n       [-1.        ],\n       [-1.        ],\n       [-1.        ],\n       [-1.        ],\n       [-1.        ],\n       [-1.        ],\n       [-1.        ],\n       [-1.        ],\n       [-1.        ],\n       [-1.        ],\n       [-1.        ],\n       [-1.        ],\n       [-1.        ],\n       [-1.        ],\n       [-1.        ],\n       [-1.        ],\n       [-1.        ],\n       [-1.        ],\n       [-1.        ],\n       [-1.        ],\n       [-1.        ],\n       [-1.        ],\n       [-1.        ],\n       [-1.        ],\n       [-1.        ],\n       [-1.        ],\n       [-1.        ],\n       [-1.        ],\n       [-1.        ],\n       [-1.        ],\n       [-1.        ],\n       [-1.        ],\n       [-1.        ],\n       [-1.        ],\n       [-1.        ],\n       [ 0.27555922],\n       [ 1.        ],\n       [ 1.        ],\n       [ 0.99993868]])"
     },
     "execution_count": 158,
     "metadata": {},
     "output_type": "execute_result"
    }
   ],
   "source": [
    "g[[1]].values"
   ],
   "metadata": {
    "collapsed": false,
    "ExecuteTime": {
     "end_time": "2023-05-25T16:46:05.163171900Z",
     "start_time": "2023-05-25T16:46:05.112743700Z"
    }
   }
  },
  {
   "cell_type": "code",
   "execution_count": 161,
   "outputs": [
    {
     "ename": "ConversionError",
     "evalue": "Failed to convert value(s) to axis units: array([[ 0.00045732],\n       [-0.0052415 ],\n       [ 0.01198305],\n       [ 0.00232427],\n       [-0.00250746],\n       [-0.00422605],\n       [-0.00099779],\n       [ 0.00469453],\n       [ 0.00470109],\n       [ 0.0002331 ],\n       [-0.01231803],\n       [ 0.03174603],\n       [ 0.03649635],\n       [-0.01001112],\n       [ 0.03397028],\n       [ 0.04017372],\n       [-0.00455581],\n       [ 0.0375    ],\n       [ 0.02505219],\n       [ 0.048     ],\n       [ 0.04670913],\n       [ 0.06995885],\n       [ 0.03299204],\n       [ 0.01098901],\n       [ 0.06264501],\n       [-0.00404858],\n       [-0.03232534],\n       [ 0.06559031],\n       [-0.00429185],\n       [-0.01304864],\n       [-0.03884573],\n       [-0.03703704],\n       [-0.01935484],\n       [ 0.03289474],\n       [-0.02106319],\n       [ 0.03671706],\n       [ 0.04365482],\n       [ 0.        ],\n       [-0.02557856],\n       [ 0.01060071],\n       [-0.00340522],\n       [ 0.01193317],\n       [ 0.018226  ],\n       [ 0.00816803],\n       [-0.00603136],\n       [ 0.00228311],\n       [-0.05077263],\n       [-0.02819957],\n       [-0.09777778],\n       [-0.00572435],\n       [-0.03720406],\n       [-0.03404792],\n       [-0.03622393],\n       [ 0.02542373],\n       [ 0.02356902],\n       [-0.01997897],\n       [ 0.00311526],\n       [-0.01439646],\n       [ 0.04849885],\n       [ 0.01684211],\n       [-0.00110497],\n       [ 0.04303279],\n       [ 0.01372756],\n       [-0.01420765],\n       [-0.00587544],\n       [-0.01182654],\n       [ 0.01149425],\n       [-0.02606882],\n       [ 0.01791359],\n       [ 0.02840746],\n       [-0.02962206],\n       [-0.0150289 ],\n       [-0.03982301],\n       [ 0.0091001 ],\n       [-0.01020408],\n       [ 0.00524476],\n       [-0.00520291],\n       [-0.01308411],\n       [ 0.02963776],\n       [-0.00326442],\n       [-0.00720721],\n       [-0.01438159],\n       [ 0.03923445],\n       [-0.02666667],\n       [-0.00998004],\n       [-0.04365904],\n       [ 0.0106383 ],\n       [ 0.        ],\n       [-0.00188324],\n       [-0.0020202 ],\n       [ 0.06614018],\n       [-0.06286837],\n       [-0.03448276],\n       [-0.05687204],\n       [-0.01642512],\n       [ 0.00974314],\n       [ 0.00462535],\n       [-0.02380952],\n       [-0.02883721],\n       [ 0.003003  ],\n       [-0.02827225],\n       [-0.02599653],\n       [ 0.00518135],\n       [ 0.06217617],\n       [ 0.03220339],\n       [-0.01120239],\n       [ 0.01923077],\n       [-0.00431406],\n       [ 0.00679245],\n       [-0.03089888],\n       [-0.03464474],\n       [-0.01433692],\n       [ 0.00140677],\n       [-0.00480307],\n       [-0.00259124],\n       [-0.00106946],\n       [-0.00098115]])",
     "output_type": "error",
     "traceback": [
      "\u001B[1;31m---------------------------------------------------------------------------\u001B[0m",
      "\u001B[1;31mTypeError\u001B[0m                                 Traceback (most recent call last)",
      "File \u001B[1;32m~\\.conda\\envs\\newConda\\lib\\site-packages\\matplotlib\\axis.py:1732\u001B[0m, in \u001B[0;36mAxis.convert_units\u001B[1;34m(self, x)\u001B[0m\n\u001B[0;32m   1731\u001B[0m \u001B[38;5;28;01mtry\u001B[39;00m:\n\u001B[1;32m-> 1732\u001B[0m     ret \u001B[38;5;241m=\u001B[39m \u001B[38;5;28;43mself\u001B[39;49m\u001B[38;5;241;43m.\u001B[39;49m\u001B[43mconverter\u001B[49m\u001B[38;5;241;43m.\u001B[39;49m\u001B[43mconvert\u001B[49m\u001B[43m(\u001B[49m\u001B[43mx\u001B[49m\u001B[43m,\u001B[49m\u001B[43m \u001B[49m\u001B[38;5;28;43mself\u001B[39;49m\u001B[38;5;241;43m.\u001B[39;49m\u001B[43munits\u001B[49m\u001B[43m,\u001B[49m\u001B[43m \u001B[49m\u001B[38;5;28;43mself\u001B[39;49m\u001B[43m)\u001B[49m\n\u001B[0;32m   1733\u001B[0m \u001B[38;5;28;01mexcept\u001B[39;00m \u001B[38;5;167;01mException\u001B[39;00m \u001B[38;5;28;01mas\u001B[39;00m e:\n",
      "File \u001B[1;32m~\\.conda\\envs\\newConda\\lib\\site-packages\\matplotlib\\category.py:57\u001B[0m, in \u001B[0;36mStrCategoryConverter.convert\u001B[1;34m(value, unit, axis)\u001B[0m\n\u001B[0;32m     56\u001B[0m \u001B[38;5;66;03m# force an update so it also does type checking\u001B[39;00m\n\u001B[1;32m---> 57\u001B[0m \u001B[43munit\u001B[49m\u001B[38;5;241;43m.\u001B[39;49m\u001B[43mupdate\u001B[49m\u001B[43m(\u001B[49m\u001B[43mvalues\u001B[49m\u001B[43m)\u001B[49m\n\u001B[0;32m     58\u001B[0m \u001B[38;5;28;01mreturn\u001B[39;00m np\u001B[38;5;241m.\u001B[39mvectorize(unit\u001B[38;5;241m.\u001B[39m_mapping\u001B[38;5;241m.\u001B[39m\u001B[38;5;21m__getitem__\u001B[39m, otypes\u001B[38;5;241m=\u001B[39m[\u001B[38;5;28mfloat\u001B[39m])(values)\n",
      "File \u001B[1;32m~\\.conda\\envs\\newConda\\lib\\site-packages\\matplotlib\\category.py:214\u001B[0m, in \u001B[0;36mUnitData.update\u001B[1;34m(self, data)\u001B[0m\n\u001B[0;32m    213\u001B[0m convertible \u001B[38;5;241m=\u001B[39m \u001B[38;5;28;01mTrue\u001B[39;00m\n\u001B[1;32m--> 214\u001B[0m \u001B[38;5;28;01mfor\u001B[39;00m val \u001B[38;5;129;01min\u001B[39;00m \u001B[43mOrderedDict\u001B[49m\u001B[38;5;241;43m.\u001B[39;49m\u001B[43mfromkeys\u001B[49m\u001B[43m(\u001B[49m\u001B[43mdata\u001B[49m\u001B[43m)\u001B[49m:\n\u001B[0;32m    215\u001B[0m     \u001B[38;5;66;03m# OrderedDict just iterates over unique values in data.\u001B[39;00m\n\u001B[0;32m    216\u001B[0m     _api\u001B[38;5;241m.\u001B[39mcheck_isinstance((\u001B[38;5;28mstr\u001B[39m, \u001B[38;5;28mbytes\u001B[39m), value\u001B[38;5;241m=\u001B[39mval)\n",
      "\u001B[1;31mTypeError\u001B[0m: unhashable type: 'numpy.ndarray'",
      "\nThe above exception was the direct cause of the following exception:\n",
      "\u001B[1;31mConversionError\u001B[0m                           Traceback (most recent call last)",
      "Cell \u001B[1;32mIn[161], line 29\u001B[0m\n\u001B[0;32m     26\u001B[0m     plt\u001B[38;5;241m.\u001B[39mshow()\n\u001B[0;32m     28\u001B[0m dates_pred \u001B[38;5;241m=\u001B[39m dates[\u001B[38;5;28mlen\u001B[39m(dates)\u001B[38;5;241m-\u001B[39m\u001B[38;5;28mlen\u001B[39m(y_pred):]\n\u001B[1;32m---> 29\u001B[0m \u001B[43mvisualization_of_pred\u001B[49m\u001B[43m(\u001B[49m\u001B[43mdates_pred\u001B[49m\u001B[43m[\u001B[49m\u001B[38;5;124;43m'\u001B[39;49m\u001B[38;5;124;43mDate\u001B[39;49m\u001B[38;5;124;43m'\u001B[39;49m\u001B[43m]\u001B[49m\u001B[43m,\u001B[49m\u001B[43m \u001B[49m\u001B[43my_pred\u001B[49m\u001B[43m,\u001B[49m\u001B[43m \u001B[49m\u001B[43my_test\u001B[49m\u001B[43m)\u001B[49m\n",
      "Cell \u001B[1;32mIn[161], line 22\u001B[0m, in \u001B[0;36mvisualization_of_pred\u001B[1;34m(dates, y_pred, y_test)\u001B[0m\n\u001B[0;32m     20\u001B[0m dates_plot, y_pred_plot, y_test_plot \u001B[38;5;241m=\u001B[39m prepare_plot_data(dates, y_pred, y_test)\n\u001B[0;32m     21\u001B[0m fig, ax \u001B[38;5;241m=\u001B[39m plt\u001B[38;5;241m.\u001B[39msubplots(figsize\u001B[38;5;241m=\u001B[39m(\u001B[38;5;241m12\u001B[39m, \u001B[38;5;241m3\u001B[39m))\n\u001B[1;32m---> 22\u001B[0m \u001B[43max\u001B[49m\u001B[38;5;241;43m.\u001B[39;49m\u001B[43mhist\u001B[49m\u001B[43m(\u001B[49m\u001B[43mdates_plot\u001B[49m\u001B[43m,\u001B[49m\u001B[43m \u001B[49m\u001B[43my_pred_plot\u001B[49m\u001B[43m,\u001B[49m\u001B[43m \u001B[49m\u001B[43mcumulative\u001B[49m\u001B[38;5;241;43m=\u001B[39;49m\u001B[38;5;28;43;01mTrue\u001B[39;49;00m\u001B[43m,\u001B[49m\u001B[43m \u001B[49m\u001B[43mlinewidth\u001B[49m\u001B[38;5;241;43m=\u001B[39;49m\u001B[38;5;241;43m2\u001B[39;49m\u001B[43m,\u001B[49m\u001B[43m \u001B[49m\u001B[43mlabel\u001B[49m\u001B[38;5;241;43m=\u001B[39;49m\u001B[38;5;124;43m'\u001B[39;49m\u001B[38;5;124;43mPredicted Trend\u001B[39;49m\u001B[38;5;124;43m'\u001B[39;49m\u001B[43m,\u001B[49m\u001B[43m \u001B[49m\u001B[43mcolor\u001B[49m\u001B[38;5;241;43m=\u001B[39;49m\u001B[43m \u001B[49m\u001B[38;5;124;43m'\u001B[39;49m\u001B[38;5;124;43mpink\u001B[39;49m\u001B[38;5;124;43m'\u001B[39;49m\u001B[43m)\u001B[49m\n\u001B[0;32m     23\u001B[0m ax\u001B[38;5;241m.\u001B[39mhist(dates_plot, y_test_plot, cumulative\u001B[38;5;241m=\u001B[39m\u001B[38;5;28;01mTrue\u001B[39;00m, linewidth\u001B[38;5;241m=\u001B[39m\u001B[38;5;241m2\u001B[39m, label\u001B[38;5;241m=\u001B[39m\u001B[38;5;124m'\u001B[39m\u001B[38;5;124mReal Trend\u001B[39m\u001B[38;5;124m'\u001B[39m, color \u001B[38;5;241m=\u001B[39m \u001B[38;5;124m'\u001B[39m\u001B[38;5;124mnavy\u001B[39m\u001B[38;5;124m'\u001B[39m)\n\u001B[0;32m     24\u001B[0m plt\u001B[38;5;241m.\u001B[39mtitle(\u001B[38;5;124m'\u001B[39m\u001B[38;5;124mReal and Predicted Trends of Price\u001B[39m\u001B[38;5;124m'\u001B[39m)\n",
      "File \u001B[1;32m~\\.conda\\envs\\newConda\\lib\\site-packages\\matplotlib\\__init__.py:1472\u001B[0m, in \u001B[0;36m_preprocess_data.<locals>.inner\u001B[1;34m(ax, data, *args, **kwargs)\u001B[0m\n\u001B[0;32m   1469\u001B[0m \u001B[38;5;129m@functools\u001B[39m\u001B[38;5;241m.\u001B[39mwraps(func)\n\u001B[0;32m   1470\u001B[0m \u001B[38;5;28;01mdef\u001B[39;00m \u001B[38;5;21minner\u001B[39m(ax, \u001B[38;5;241m*\u001B[39margs, data\u001B[38;5;241m=\u001B[39m\u001B[38;5;28;01mNone\u001B[39;00m, \u001B[38;5;241m*\u001B[39m\u001B[38;5;241m*\u001B[39mkwargs):\n\u001B[0;32m   1471\u001B[0m     \u001B[38;5;28;01mif\u001B[39;00m data \u001B[38;5;129;01mis\u001B[39;00m \u001B[38;5;28;01mNone\u001B[39;00m:\n\u001B[1;32m-> 1472\u001B[0m         \u001B[38;5;28;01mreturn\u001B[39;00m \u001B[43mfunc\u001B[49m\u001B[43m(\u001B[49m\u001B[43max\u001B[49m\u001B[43m,\u001B[49m\u001B[43m \u001B[49m\u001B[38;5;241;43m*\u001B[39;49m\u001B[38;5;28;43mmap\u001B[39;49m\u001B[43m(\u001B[49m\u001B[43msanitize_sequence\u001B[49m\u001B[43m,\u001B[49m\u001B[43m \u001B[49m\u001B[43margs\u001B[49m\u001B[43m)\u001B[49m\u001B[43m,\u001B[49m\u001B[43m \u001B[49m\u001B[38;5;241;43m*\u001B[39;49m\u001B[38;5;241;43m*\u001B[39;49m\u001B[43mkwargs\u001B[49m\u001B[43m)\u001B[49m\n\u001B[0;32m   1474\u001B[0m     bound \u001B[38;5;241m=\u001B[39m new_sig\u001B[38;5;241m.\u001B[39mbind(ax, \u001B[38;5;241m*\u001B[39margs, \u001B[38;5;241m*\u001B[39m\u001B[38;5;241m*\u001B[39mkwargs)\n\u001B[0;32m   1475\u001B[0m     auto_label \u001B[38;5;241m=\u001B[39m (bound\u001B[38;5;241m.\u001B[39marguments\u001B[38;5;241m.\u001B[39mget(label_namer)\n\u001B[0;32m   1476\u001B[0m                   \u001B[38;5;129;01mor\u001B[39;00m bound\u001B[38;5;241m.\u001B[39mkwargs\u001B[38;5;241m.\u001B[39mget(label_namer))\n",
      "File \u001B[1;32m~\\.conda\\envs\\newConda\\lib\\site-packages\\matplotlib\\axes\\_axes.py:6722\u001B[0m, in \u001B[0;36mAxes.hist\u001B[1;34m(self, x, bins, range, density, weights, cumulative, bottom, histtype, align, orientation, rwidth, log, color, label, stacked, **kwargs)\u001B[0m\n\u001B[0;32m   6719\u001B[0m     bin_range \u001B[38;5;241m=\u001B[39m convert_units(bin_range)\n\u001B[0;32m   6721\u001B[0m \u001B[38;5;28;01mif\u001B[39;00m \u001B[38;5;129;01mnot\u001B[39;00m cbook\u001B[38;5;241m.\u001B[39mis_scalar_or_string(bins):\n\u001B[1;32m-> 6722\u001B[0m     bins \u001B[38;5;241m=\u001B[39m \u001B[43mconvert_units\u001B[49m\u001B[43m(\u001B[49m\u001B[43mbins\u001B[49m\u001B[43m)\u001B[49m\n\u001B[0;32m   6724\u001B[0m \u001B[38;5;66;03m# We need to do to 'weights' what was done to 'x'\u001B[39;00m\n\u001B[0;32m   6725\u001B[0m \u001B[38;5;28;01mif\u001B[39;00m weights \u001B[38;5;129;01mis\u001B[39;00m \u001B[38;5;129;01mnot\u001B[39;00m \u001B[38;5;28;01mNone\u001B[39;00m:\n",
      "File \u001B[1;32m~\\.conda\\envs\\newConda\\lib\\site-packages\\matplotlib\\artist.py:281\u001B[0m, in \u001B[0;36mArtist.convert_xunits\u001B[1;34m(self, x)\u001B[0m\n\u001B[0;32m    279\u001B[0m \u001B[38;5;28;01mif\u001B[39;00m ax \u001B[38;5;129;01mis\u001B[39;00m \u001B[38;5;28;01mNone\u001B[39;00m \u001B[38;5;129;01mor\u001B[39;00m ax\u001B[38;5;241m.\u001B[39mxaxis \u001B[38;5;129;01mis\u001B[39;00m \u001B[38;5;28;01mNone\u001B[39;00m:\n\u001B[0;32m    280\u001B[0m     \u001B[38;5;28;01mreturn\u001B[39;00m x\n\u001B[1;32m--> 281\u001B[0m \u001B[38;5;28;01mreturn\u001B[39;00m \u001B[43max\u001B[49m\u001B[38;5;241;43m.\u001B[39;49m\u001B[43mxaxis\u001B[49m\u001B[38;5;241;43m.\u001B[39;49m\u001B[43mconvert_units\u001B[49m\u001B[43m(\u001B[49m\u001B[43mx\u001B[49m\u001B[43m)\u001B[49m\n",
      "File \u001B[1;32m~\\.conda\\envs\\newConda\\lib\\site-packages\\matplotlib\\axis.py:1734\u001B[0m, in \u001B[0;36mAxis.convert_units\u001B[1;34m(self, x)\u001B[0m\n\u001B[0;32m   1732\u001B[0m     ret \u001B[38;5;241m=\u001B[39m \u001B[38;5;28mself\u001B[39m\u001B[38;5;241m.\u001B[39mconverter\u001B[38;5;241m.\u001B[39mconvert(x, \u001B[38;5;28mself\u001B[39m\u001B[38;5;241m.\u001B[39munits, \u001B[38;5;28mself\u001B[39m)\n\u001B[0;32m   1733\u001B[0m \u001B[38;5;28;01mexcept\u001B[39;00m \u001B[38;5;167;01mException\u001B[39;00m \u001B[38;5;28;01mas\u001B[39;00m e:\n\u001B[1;32m-> 1734\u001B[0m     \u001B[38;5;28;01mraise\u001B[39;00m munits\u001B[38;5;241m.\u001B[39mConversionError(\u001B[38;5;124m'\u001B[39m\u001B[38;5;124mFailed to convert value(s) to axis \u001B[39m\u001B[38;5;124m'\u001B[39m\n\u001B[0;32m   1735\u001B[0m                                  \u001B[38;5;124mf\u001B[39m\u001B[38;5;124m'\u001B[39m\u001B[38;5;124munits: \u001B[39m\u001B[38;5;132;01m{\u001B[39;00mx\u001B[38;5;132;01m!r}\u001B[39;00m\u001B[38;5;124m'\u001B[39m) \u001B[38;5;28;01mfrom\u001B[39;00m \u001B[38;5;21;01me\u001B[39;00m\n\u001B[0;32m   1736\u001B[0m \u001B[38;5;28;01mreturn\u001B[39;00m ret\n",
      "\u001B[1;31mConversionError\u001B[0m: Failed to convert value(s) to axis units: array([[ 0.00045732],\n       [-0.0052415 ],\n       [ 0.01198305],\n       [ 0.00232427],\n       [-0.00250746],\n       [-0.00422605],\n       [-0.00099779],\n       [ 0.00469453],\n       [ 0.00470109],\n       [ 0.0002331 ],\n       [-0.01231803],\n       [ 0.03174603],\n       [ 0.03649635],\n       [-0.01001112],\n       [ 0.03397028],\n       [ 0.04017372],\n       [-0.00455581],\n       [ 0.0375    ],\n       [ 0.02505219],\n       [ 0.048     ],\n       [ 0.04670913],\n       [ 0.06995885],\n       [ 0.03299204],\n       [ 0.01098901],\n       [ 0.06264501],\n       [-0.00404858],\n       [-0.03232534],\n       [ 0.06559031],\n       [-0.00429185],\n       [-0.01304864],\n       [-0.03884573],\n       [-0.03703704],\n       [-0.01935484],\n       [ 0.03289474],\n       [-0.02106319],\n       [ 0.03671706],\n       [ 0.04365482],\n       [ 0.        ],\n       [-0.02557856],\n       [ 0.01060071],\n       [-0.00340522],\n       [ 0.01193317],\n       [ 0.018226  ],\n       [ 0.00816803],\n       [-0.00603136],\n       [ 0.00228311],\n       [-0.05077263],\n       [-0.02819957],\n       [-0.09777778],\n       [-0.00572435],\n       [-0.03720406],\n       [-0.03404792],\n       [-0.03622393],\n       [ 0.02542373],\n       [ 0.02356902],\n       [-0.01997897],\n       [ 0.00311526],\n       [-0.01439646],\n       [ 0.04849885],\n       [ 0.01684211],\n       [-0.00110497],\n       [ 0.04303279],\n       [ 0.01372756],\n       [-0.01420765],\n       [-0.00587544],\n       [-0.01182654],\n       [ 0.01149425],\n       [-0.02606882],\n       [ 0.01791359],\n       [ 0.02840746],\n       [-0.02962206],\n       [-0.0150289 ],\n       [-0.03982301],\n       [ 0.0091001 ],\n       [-0.01020408],\n       [ 0.00524476],\n       [-0.00520291],\n       [-0.01308411],\n       [ 0.02963776],\n       [-0.00326442],\n       [-0.00720721],\n       [-0.01438159],\n       [ 0.03923445],\n       [-0.02666667],\n       [-0.00998004],\n       [-0.04365904],\n       [ 0.0106383 ],\n       [ 0.        ],\n       [-0.00188324],\n       [-0.0020202 ],\n       [ 0.06614018],\n       [-0.06286837],\n       [-0.03448276],\n       [-0.05687204],\n       [-0.01642512],\n       [ 0.00974314],\n       [ 0.00462535],\n       [-0.02380952],\n       [-0.02883721],\n       [ 0.003003  ],\n       [-0.02827225],\n       [-0.02599653],\n       [ 0.00518135],\n       [ 0.06217617],\n       [ 0.03220339],\n       [-0.01120239],\n       [ 0.01923077],\n       [-0.00431406],\n       [ 0.00679245],\n       [-0.03089888],\n       [-0.03464474],\n       [-0.01433692],\n       [ 0.00140677],\n       [-0.00480307],\n       [-0.00259124],\n       [-0.00106946],\n       [-0.00098115]])"
     ]
    },
    {
     "data": {
      "text/plain": "<Figure size 1200x300 with 1 Axes>",
      "image/png": "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"
     },
     "metadata": {},
     "output_type": "display_data"
    }
   ],
   "source": [
    "def prepare_plot_data(dates, y_pred, y_test):\n",
    "    a = dates[len(dates)-len(y_pred):]\n",
    "    b = pd.Series(y_pred)\n",
    "    c = pd.Series(y_test)\n",
    "    a.reset_index(drop=True, inplace=True)\n",
    "    b.reset_index(drop=True, inplace=True)\n",
    "    c.reset_index(drop=True, inplace=True)\n",
    "    d = pd.concat([a,b],axis=1,ignore_index=True)\n",
    "    e = pd.concat([a,c],axis=1,ignore_index=True)\n",
    "    f = d.groupby([0]).mean()\n",
    "    g = e.groupby([0]).mean()\n",
    "    y_pred_plot = f[[1]].values\n",
    "    y_test_plot = g[[1]].values\n",
    "    dates_plot = f.index\n",
    "\n",
    "    return dates_plot, y_pred_plot, y_test_plot\n",
    "\n",
    "\n",
    "def visualization_of_pred(dates, y_pred, y_test):\n",
    "    dates_plot, y_pred_plot, y_test_plot = prepare_plot_data(dates, y_pred, y_test)\n",
    "    fig, ax = plt.subplots(figsize=(12, 3))\n",
    "    ax.plot(dates_plot, y_pred_plot, linewidth=2, label='Predicted Trend', color= 'pink')\n",
    "    ax.plot(dates_plot, y_test_plot, linewidth=2, label='Real Trend', color = 'navy')\n",
    "    plt.title('Real and Predicted Trends of Price')\n",
    "    plt.legend()\n",
    "    plt.show()\n",
    "\n",
    "dates_pred = dates[len(dates)-len(y_pred):]\n",
    "visualization_of_pred(dates_pred['Date'], y_pred, y_test)"
   ],
   "metadata": {
    "collapsed": false,
    "ExecuteTime": {
     "end_time": "2023-05-25T17:39:52.729713300Z",
     "start_time": "2023-05-25T17:39:50.579578500Z"
    }
   }
  },
  {
   "cell_type": "markdown",
   "source": [
    "Klasyfikator 2: regresja logistyczna"
   ],
   "metadata": {
    "collapsed": false
   }
  },
  {
   "cell_type": "code",
   "execution_count": 56,
   "outputs": [],
   "source": [
    "logistic_regression_pipeline = Pipeline(steps=[\n",
    "    ('count_vectorizer', CountVectorizer(lowercase=False)),\n",
    "    ('selection_features', SelectFromModel(estimator=LogisticRegression(random_state=2023, class_weight='balanced')))\n",
    "])"
   ],
   "metadata": {
    "collapsed": false,
    "ExecuteTime": {
     "end_time": "2023-05-25T10:33:17.298070700Z",
     "start_time": "2023-05-25T10:33:17.247103400Z"
    }
   }
  },
  {
   "cell_type": "code",
   "execution_count": 57,
   "outputs": [
    {
     "ename": "TypeError",
     "evalue": "expected string or bytes-like object",
     "output_type": "error",
     "traceback": [
      "\u001B[1;31m---------------------------------------------------------------------------\u001B[0m",
      "\u001B[1;31mTypeError\u001B[0m                                 Traceback (most recent call last)",
      "Cell \u001B[1;32mIn[57], line 1\u001B[0m\n\u001B[1;32m----> 1\u001B[0m \u001B[43mlogistic_regression_pipeline\u001B[49m\u001B[38;5;241;43m.\u001B[39;49m\u001B[43mfit_transform\u001B[49m\u001B[43m(\u001B[49m\u001B[43mX_train\u001B[49m\u001B[38;5;241;43m.\u001B[39;49m\u001B[43mtranspose\u001B[49m\u001B[43m(\u001B[49m\u001B[43m)\u001B[49m\u001B[43m,\u001B[49m\u001B[43m \u001B[49m\u001B[43my_train\u001B[49m\u001B[43m)\u001B[49m\n",
      "File \u001B[1;32m~\\.conda\\envs\\newConda\\lib\\site-packages\\sklearn\\pipeline.py:437\u001B[0m, in \u001B[0;36mPipeline.fit_transform\u001B[1;34m(self, X, y, **fit_params)\u001B[0m\n\u001B[0;32m    410\u001B[0m \u001B[38;5;250m\u001B[39m\u001B[38;5;124;03m\"\"\"Fit the model and transform with the final estimator.\u001B[39;00m\n\u001B[0;32m    411\u001B[0m \n\u001B[0;32m    412\u001B[0m \u001B[38;5;124;03mFits all the transformers one after the other and transform the\u001B[39;00m\n\u001B[1;32m   (...)\u001B[0m\n\u001B[0;32m    434\u001B[0m \u001B[38;5;124;03m    Transformed samples.\u001B[39;00m\n\u001B[0;32m    435\u001B[0m \u001B[38;5;124;03m\"\"\"\u001B[39;00m\n\u001B[0;32m    436\u001B[0m fit_params_steps \u001B[38;5;241m=\u001B[39m \u001B[38;5;28mself\u001B[39m\u001B[38;5;241m.\u001B[39m_check_fit_params(\u001B[38;5;241m*\u001B[39m\u001B[38;5;241m*\u001B[39mfit_params)\n\u001B[1;32m--> 437\u001B[0m Xt \u001B[38;5;241m=\u001B[39m \u001B[38;5;28;43mself\u001B[39;49m\u001B[38;5;241;43m.\u001B[39;49m\u001B[43m_fit\u001B[49m\u001B[43m(\u001B[49m\u001B[43mX\u001B[49m\u001B[43m,\u001B[49m\u001B[43m \u001B[49m\u001B[43my\u001B[49m\u001B[43m,\u001B[49m\u001B[43m \u001B[49m\u001B[38;5;241;43m*\u001B[39;49m\u001B[38;5;241;43m*\u001B[39;49m\u001B[43mfit_params_steps\u001B[49m\u001B[43m)\u001B[49m\n\u001B[0;32m    439\u001B[0m last_step \u001B[38;5;241m=\u001B[39m \u001B[38;5;28mself\u001B[39m\u001B[38;5;241m.\u001B[39m_final_estimator\n\u001B[0;32m    440\u001B[0m \u001B[38;5;28;01mwith\u001B[39;00m _print_elapsed_time(\u001B[38;5;124m\"\u001B[39m\u001B[38;5;124mPipeline\u001B[39m\u001B[38;5;124m\"\u001B[39m, \u001B[38;5;28mself\u001B[39m\u001B[38;5;241m.\u001B[39m_log_message(\u001B[38;5;28mlen\u001B[39m(\u001B[38;5;28mself\u001B[39m\u001B[38;5;241m.\u001B[39msteps) \u001B[38;5;241m-\u001B[39m \u001B[38;5;241m1\u001B[39m)):\n",
      "File \u001B[1;32m~\\.conda\\envs\\newConda\\lib\\site-packages\\sklearn\\pipeline.py:359\u001B[0m, in \u001B[0;36mPipeline._fit\u001B[1;34m(self, X, y, **fit_params_steps)\u001B[0m\n\u001B[0;32m    357\u001B[0m     cloned_transformer \u001B[38;5;241m=\u001B[39m clone(transformer)\n\u001B[0;32m    358\u001B[0m \u001B[38;5;66;03m# Fit or load from cache the current transformer\u001B[39;00m\n\u001B[1;32m--> 359\u001B[0m X, fitted_transformer \u001B[38;5;241m=\u001B[39m \u001B[43mfit_transform_one_cached\u001B[49m\u001B[43m(\u001B[49m\n\u001B[0;32m    360\u001B[0m \u001B[43m    \u001B[49m\u001B[43mcloned_transformer\u001B[49m\u001B[43m,\u001B[49m\n\u001B[0;32m    361\u001B[0m \u001B[43m    \u001B[49m\u001B[43mX\u001B[49m\u001B[43m,\u001B[49m\n\u001B[0;32m    362\u001B[0m \u001B[43m    \u001B[49m\u001B[43my\u001B[49m\u001B[43m,\u001B[49m\n\u001B[0;32m    363\u001B[0m \u001B[43m    \u001B[49m\u001B[38;5;28;43;01mNone\u001B[39;49;00m\u001B[43m,\u001B[49m\n\u001B[0;32m    364\u001B[0m \u001B[43m    \u001B[49m\u001B[43mmessage_clsname\u001B[49m\u001B[38;5;241;43m=\u001B[39;49m\u001B[38;5;124;43m\"\u001B[39;49m\u001B[38;5;124;43mPipeline\u001B[39;49m\u001B[38;5;124;43m\"\u001B[39;49m\u001B[43m,\u001B[49m\n\u001B[0;32m    365\u001B[0m \u001B[43m    \u001B[49m\u001B[43mmessage\u001B[49m\u001B[38;5;241;43m=\u001B[39;49m\u001B[38;5;28;43mself\u001B[39;49m\u001B[38;5;241;43m.\u001B[39;49m\u001B[43m_log_message\u001B[49m\u001B[43m(\u001B[49m\u001B[43mstep_idx\u001B[49m\u001B[43m)\u001B[49m\u001B[43m,\u001B[49m\n\u001B[0;32m    366\u001B[0m \u001B[43m    \u001B[49m\u001B[38;5;241;43m*\u001B[39;49m\u001B[38;5;241;43m*\u001B[39;49m\u001B[43mfit_params_steps\u001B[49m\u001B[43m[\u001B[49m\u001B[43mname\u001B[49m\u001B[43m]\u001B[49m\u001B[43m,\u001B[49m\n\u001B[0;32m    367\u001B[0m \u001B[43m\u001B[49m\u001B[43m)\u001B[49m\n\u001B[0;32m    368\u001B[0m \u001B[38;5;66;03m# Replace the transformer of the step with the fitted\u001B[39;00m\n\u001B[0;32m    369\u001B[0m \u001B[38;5;66;03m# transformer. This is necessary when loading the transformer\u001B[39;00m\n\u001B[0;32m    370\u001B[0m \u001B[38;5;66;03m# from the cache.\u001B[39;00m\n\u001B[0;32m    371\u001B[0m \u001B[38;5;28mself\u001B[39m\u001B[38;5;241m.\u001B[39msteps[step_idx] \u001B[38;5;241m=\u001B[39m (name, fitted_transformer)\n",
      "File \u001B[1;32m~\\.conda\\envs\\newConda\\lib\\site-packages\\joblib\\memory.py:349\u001B[0m, in \u001B[0;36mNotMemorizedFunc.__call__\u001B[1;34m(self, *args, **kwargs)\u001B[0m\n\u001B[0;32m    348\u001B[0m \u001B[38;5;28;01mdef\u001B[39;00m \u001B[38;5;21m__call__\u001B[39m(\u001B[38;5;28mself\u001B[39m, \u001B[38;5;241m*\u001B[39margs, \u001B[38;5;241m*\u001B[39m\u001B[38;5;241m*\u001B[39mkwargs):\n\u001B[1;32m--> 349\u001B[0m     \u001B[38;5;28;01mreturn\u001B[39;00m \u001B[38;5;28;43mself\u001B[39;49m\u001B[38;5;241;43m.\u001B[39;49m\u001B[43mfunc\u001B[49m\u001B[43m(\u001B[49m\u001B[38;5;241;43m*\u001B[39;49m\u001B[43margs\u001B[49m\u001B[43m,\u001B[49m\u001B[43m \u001B[49m\u001B[38;5;241;43m*\u001B[39;49m\u001B[38;5;241;43m*\u001B[39;49m\u001B[43mkwargs\u001B[49m\u001B[43m)\u001B[49m\n",
      "File \u001B[1;32m~\\.conda\\envs\\newConda\\lib\\site-packages\\sklearn\\pipeline.py:893\u001B[0m, in \u001B[0;36m_fit_transform_one\u001B[1;34m(transformer, X, y, weight, message_clsname, message, **fit_params)\u001B[0m\n\u001B[0;32m    891\u001B[0m \u001B[38;5;28;01mwith\u001B[39;00m _print_elapsed_time(message_clsname, message):\n\u001B[0;32m    892\u001B[0m     \u001B[38;5;28;01mif\u001B[39;00m \u001B[38;5;28mhasattr\u001B[39m(transformer, \u001B[38;5;124m\"\u001B[39m\u001B[38;5;124mfit_transform\u001B[39m\u001B[38;5;124m\"\u001B[39m):\n\u001B[1;32m--> 893\u001B[0m         res \u001B[38;5;241m=\u001B[39m \u001B[43mtransformer\u001B[49m\u001B[38;5;241;43m.\u001B[39;49m\u001B[43mfit_transform\u001B[49m\u001B[43m(\u001B[49m\u001B[43mX\u001B[49m\u001B[43m,\u001B[49m\u001B[43m \u001B[49m\u001B[43my\u001B[49m\u001B[43m,\u001B[49m\u001B[43m \u001B[49m\u001B[38;5;241;43m*\u001B[39;49m\u001B[38;5;241;43m*\u001B[39;49m\u001B[43mfit_params\u001B[49m\u001B[43m)\u001B[49m\n\u001B[0;32m    894\u001B[0m     \u001B[38;5;28;01melse\u001B[39;00m:\n\u001B[0;32m    895\u001B[0m         res \u001B[38;5;241m=\u001B[39m transformer\u001B[38;5;241m.\u001B[39mfit(X, y, \u001B[38;5;241m*\u001B[39m\u001B[38;5;241m*\u001B[39mfit_params)\u001B[38;5;241m.\u001B[39mtransform(X)\n",
      "File \u001B[1;32m~\\.conda\\envs\\newConda\\lib\\site-packages\\sklearn\\feature_extraction\\text.py:1388\u001B[0m, in \u001B[0;36mCountVectorizer.fit_transform\u001B[1;34m(self, raw_documents, y)\u001B[0m\n\u001B[0;32m   1380\u001B[0m             warnings\u001B[38;5;241m.\u001B[39mwarn(\n\u001B[0;32m   1381\u001B[0m                 \u001B[38;5;124m\"\u001B[39m\u001B[38;5;124mUpper case characters found in\u001B[39m\u001B[38;5;124m\"\u001B[39m\n\u001B[0;32m   1382\u001B[0m                 \u001B[38;5;124m\"\u001B[39m\u001B[38;5;124m vocabulary while \u001B[39m\u001B[38;5;124m'\u001B[39m\u001B[38;5;124mlowercase\u001B[39m\u001B[38;5;124m'\u001B[39m\u001B[38;5;124m\"\u001B[39m\n\u001B[0;32m   1383\u001B[0m                 \u001B[38;5;124m\"\u001B[39m\u001B[38;5;124m is True. These entries will not\u001B[39m\u001B[38;5;124m\"\u001B[39m\n\u001B[0;32m   1384\u001B[0m                 \u001B[38;5;124m\"\u001B[39m\u001B[38;5;124m be matched with any documents\u001B[39m\u001B[38;5;124m\"\u001B[39m\n\u001B[0;32m   1385\u001B[0m             )\n\u001B[0;32m   1386\u001B[0m             \u001B[38;5;28;01mbreak\u001B[39;00m\n\u001B[1;32m-> 1388\u001B[0m vocabulary, X \u001B[38;5;241m=\u001B[39m \u001B[38;5;28;43mself\u001B[39;49m\u001B[38;5;241;43m.\u001B[39;49m\u001B[43m_count_vocab\u001B[49m\u001B[43m(\u001B[49m\u001B[43mraw_documents\u001B[49m\u001B[43m,\u001B[49m\u001B[43m \u001B[49m\u001B[38;5;28;43mself\u001B[39;49m\u001B[38;5;241;43m.\u001B[39;49m\u001B[43mfixed_vocabulary_\u001B[49m\u001B[43m)\u001B[49m\n\u001B[0;32m   1390\u001B[0m \u001B[38;5;28;01mif\u001B[39;00m \u001B[38;5;28mself\u001B[39m\u001B[38;5;241m.\u001B[39mbinary:\n\u001B[0;32m   1391\u001B[0m     X\u001B[38;5;241m.\u001B[39mdata\u001B[38;5;241m.\u001B[39mfill(\u001B[38;5;241m1\u001B[39m)\n",
      "File \u001B[1;32m~\\.conda\\envs\\newConda\\lib\\site-packages\\sklearn\\feature_extraction\\text.py:1275\u001B[0m, in \u001B[0;36mCountVectorizer._count_vocab\u001B[1;34m(self, raw_documents, fixed_vocab)\u001B[0m\n\u001B[0;32m   1273\u001B[0m \u001B[38;5;28;01mfor\u001B[39;00m doc \u001B[38;5;129;01min\u001B[39;00m raw_documents:\n\u001B[0;32m   1274\u001B[0m     feature_counter \u001B[38;5;241m=\u001B[39m {}\n\u001B[1;32m-> 1275\u001B[0m     \u001B[38;5;28;01mfor\u001B[39;00m feature \u001B[38;5;129;01min\u001B[39;00m \u001B[43manalyze\u001B[49m\u001B[43m(\u001B[49m\u001B[43mdoc\u001B[49m\u001B[43m)\u001B[49m:\n\u001B[0;32m   1276\u001B[0m         \u001B[38;5;28;01mtry\u001B[39;00m:\n\u001B[0;32m   1277\u001B[0m             feature_idx \u001B[38;5;241m=\u001B[39m vocabulary[feature]\n",
      "File \u001B[1;32m~\\.conda\\envs\\newConda\\lib\\site-packages\\sklearn\\feature_extraction\\text.py:113\u001B[0m, in \u001B[0;36m_analyze\u001B[1;34m(doc, analyzer, tokenizer, ngrams, preprocessor, decoder, stop_words)\u001B[0m\n\u001B[0;32m    111\u001B[0m     doc \u001B[38;5;241m=\u001B[39m preprocessor(doc)\n\u001B[0;32m    112\u001B[0m \u001B[38;5;28;01mif\u001B[39;00m tokenizer \u001B[38;5;129;01mis\u001B[39;00m \u001B[38;5;129;01mnot\u001B[39;00m \u001B[38;5;28;01mNone\u001B[39;00m:\n\u001B[1;32m--> 113\u001B[0m     doc \u001B[38;5;241m=\u001B[39m \u001B[43mtokenizer\u001B[49m\u001B[43m(\u001B[49m\u001B[43mdoc\u001B[49m\u001B[43m)\u001B[49m\n\u001B[0;32m    114\u001B[0m \u001B[38;5;28;01mif\u001B[39;00m ngrams \u001B[38;5;129;01mis\u001B[39;00m \u001B[38;5;129;01mnot\u001B[39;00m \u001B[38;5;28;01mNone\u001B[39;00m:\n\u001B[0;32m    115\u001B[0m     \u001B[38;5;28;01mif\u001B[39;00m stop_words \u001B[38;5;129;01mis\u001B[39;00m \u001B[38;5;129;01mnot\u001B[39;00m \u001B[38;5;28;01mNone\u001B[39;00m:\n",
      "\u001B[1;31mTypeError\u001B[0m: expected string or bytes-like object"
     ]
    }
   ],
   "source": [
    "logistic_regression_pipeline.fit_transform(X_train.transpose(), y_train)"
   ],
   "metadata": {
    "collapsed": false,
    "ExecuteTime": {
     "end_time": "2023-05-25T10:34:47.822647800Z",
     "start_time": "2023-05-25T10:33:18.034652600Z"
    }
   }
  },
  {
   "cell_type": "code",
   "execution_count": 58,
   "outputs": [
    {
     "name": "stdout",
     "output_type": "stream",
     "text": [
      "(3116630, 1)\n",
      "(3116630,)\n"
     ]
    }
   ],
   "source": [
    "print(X_train.shape)\n",
    "print(y_train.shape)"
   ],
   "metadata": {
    "collapsed": false,
    "ExecuteTime": {
     "end_time": "2023-05-25T10:35:07.777874800Z",
     "start_time": "2023-05-25T10:35:07.700921700Z"
    }
   }
  },
  {
   "cell_type": "code",
   "execution_count": 59,
   "outputs": [
    {
     "data": {
      "text/plain": "                                                      text\n0        44700 0100 utc 24h rang 44357 46557 volum 1275...\n1        btce price last 44400 bid 44400 ask 44400 vol ...\n2        live profit 93928 055 buy b38220 45019 btce se...\n3        45240 1715 utc 24h rang 45000 46940 volum 1045...\n4        kqed enjoy littl gift xeniar sent bitcoin tip ...\n...                                                    ...\n3121623                                         🔥📈🔥📈🔥📈🔥🙂🚀🌌\n3121624  andimmut code prefer code natur suppli code ar...\n3121625  satoshi websit bitcoin reveal even stupid imag...\n3121626  selcoin hocam eth btc gibi sert düzeltm yapmalimi\n3121627  make sure updat wallet latest version v01605 e...\n\n[3116630 rows x 1 columns]",
      "text/html": "<div>\n<style scoped>\n    .dataframe tbody tr th:only-of-type {\n        vertical-align: middle;\n    }\n\n    .dataframe tbody tr th {\n        vertical-align: top;\n    }\n\n    .dataframe thead th {\n        text-align: right;\n    }\n</style>\n<table border=\"1\" class=\"dataframe\">\n  <thead>\n    <tr style=\"text-align: right;\">\n      <th></th>\n      <th>text</th>\n    </tr>\n  </thead>\n  <tbody>\n    <tr>\n      <th>0</th>\n      <td>44700 0100 utc 24h rang 44357 46557 volum 1275...</td>\n    </tr>\n    <tr>\n      <th>1</th>\n      <td>btce price last 44400 bid 44400 ask 44400 vol ...</td>\n    </tr>\n    <tr>\n      <th>2</th>\n      <td>live profit 93928 055 buy b38220 45019 btce se...</td>\n    </tr>\n    <tr>\n      <th>3</th>\n      <td>45240 1715 utc 24h rang 45000 46940 volum 1045...</td>\n    </tr>\n    <tr>\n      <th>4</th>\n      <td>kqed enjoy littl gift xeniar sent bitcoin tip ...</td>\n    </tr>\n    <tr>\n      <th>...</th>\n      <td>...</td>\n    </tr>\n    <tr>\n      <th>3121623</th>\n      <td>🔥📈🔥📈🔥📈🔥🙂🚀🌌</td>\n    </tr>\n    <tr>\n      <th>3121624</th>\n      <td>andimmut code prefer code natur suppli code ar...</td>\n    </tr>\n    <tr>\n      <th>3121625</th>\n      <td>satoshi websit bitcoin reveal even stupid imag...</td>\n    </tr>\n    <tr>\n      <th>3121626</th>\n      <td>selcoin hocam eth btc gibi sert düzeltm yapmalimi</td>\n    </tr>\n    <tr>\n      <th>3121627</th>\n      <td>make sure updat wallet latest version v01605 e...</td>\n    </tr>\n  </tbody>\n</table>\n<p>3116630 rows × 1 columns</p>\n</div>"
     },
     "execution_count": 59,
     "metadata": {},
     "output_type": "execute_result"
    }
   ],
   "source": [
    "X_train"
   ],
   "metadata": {
    "collapsed": false,
    "ExecuteTime": {
     "end_time": "2023-05-25T10:35:11.169828500Z",
     "start_time": "2023-05-25T10:35:11.046898900Z"
    }
   }
  },
  {
   "cell_type": "markdown",
   "source": [
    "Grid search"
   ],
   "metadata": {
    "collapsed": false
   }
  },
  {
   "cell_type": "code",
   "execution_count": 60,
   "outputs": [
    {
     "ename": "ValueError",
     "evalue": "\nAll the 30 fits failed.\nIt is very likely that your model is misconfigured.\nYou can try to debug the error by setting error_score='raise'.\n\nBelow are more details about the failures:\n--------------------------------------------------------------------------------\n6 fits failed with the following error:\nTraceback (most recent call last):\n  File \"C:\\Users\\atago\\.conda\\envs\\newConda\\lib\\site-packages\\sklearn\\model_selection\\_validation.py\", line 686, in _fit_and_score\n    estimator.fit(X_train, y_train, **fit_params)\n  File \"C:\\Users\\atago\\.conda\\envs\\newConda\\lib\\site-packages\\sklearn\\pipeline.py\", line 405, in fit\n    self._final_estimator.fit(Xt, y, **fit_params_last_step)\n  File \"C:\\Users\\atago\\.conda\\envs\\newConda\\lib\\site-packages\\sklearn\\linear_model\\_logistic.py\", line 1196, in fit\n    X, y = self._validate_data(\n  File \"C:\\Users\\atago\\.conda\\envs\\newConda\\lib\\site-packages\\sklearn\\base.py\", line 584, in _validate_data\n    X, y = check_X_y(X, y, **check_params)\n  File \"C:\\Users\\atago\\.conda\\envs\\newConda\\lib\\site-packages\\sklearn\\utils\\validation.py\", line 1124, in check_X_y\n    check_consistent_length(X, y)\n  File \"C:\\Users\\atago\\.conda\\envs\\newConda\\lib\\site-packages\\sklearn\\utils\\validation.py\", line 397, in check_consistent_length\n    raise ValueError(\nValueError: Found input variables with inconsistent numbers of samples: [1, 519440]\n\n--------------------------------------------------------------------------------\n6 fits failed with the following error:\nTraceback (most recent call last):\n  File \"C:\\Users\\atago\\.conda\\envs\\newConda\\lib\\site-packages\\sklearn\\model_selection\\_validation.py\", line 686, in _fit_and_score\n    estimator.fit(X_train, y_train, **fit_params)\n  File \"C:\\Users\\atago\\.conda\\envs\\newConda\\lib\\site-packages\\sklearn\\pipeline.py\", line 405, in fit\n    self._final_estimator.fit(Xt, y, **fit_params_last_step)\n  File \"C:\\Users\\atago\\.conda\\envs\\newConda\\lib\\site-packages\\sklearn\\linear_model\\_logistic.py\", line 1196, in fit\n    X, y = self._validate_data(\n  File \"C:\\Users\\atago\\.conda\\envs\\newConda\\lib\\site-packages\\sklearn\\base.py\", line 584, in _validate_data\n    X, y = check_X_y(X, y, **check_params)\n  File \"C:\\Users\\atago\\.conda\\envs\\newConda\\lib\\site-packages\\sklearn\\utils\\validation.py\", line 1124, in check_X_y\n    check_consistent_length(X, y)\n  File \"C:\\Users\\atago\\.conda\\envs\\newConda\\lib\\site-packages\\sklearn\\utils\\validation.py\", line 397, in check_consistent_length\n    raise ValueError(\nValueError: Found input variables with inconsistent numbers of samples: [1, 1038878]\n\n--------------------------------------------------------------------------------\n6 fits failed with the following error:\nTraceback (most recent call last):\n  File \"C:\\Users\\atago\\.conda\\envs\\newConda\\lib\\site-packages\\sklearn\\model_selection\\_validation.py\", line 686, in _fit_and_score\n    estimator.fit(X_train, y_train, **fit_params)\n  File \"C:\\Users\\atago\\.conda\\envs\\newConda\\lib\\site-packages\\sklearn\\pipeline.py\", line 405, in fit\n    self._final_estimator.fit(Xt, y, **fit_params_last_step)\n  File \"C:\\Users\\atago\\.conda\\envs\\newConda\\lib\\site-packages\\sklearn\\linear_model\\_logistic.py\", line 1196, in fit\n    X, y = self._validate_data(\n  File \"C:\\Users\\atago\\.conda\\envs\\newConda\\lib\\site-packages\\sklearn\\base.py\", line 584, in _validate_data\n    X, y = check_X_y(X, y, **check_params)\n  File \"C:\\Users\\atago\\.conda\\envs\\newConda\\lib\\site-packages\\sklearn\\utils\\validation.py\", line 1124, in check_X_y\n    check_consistent_length(X, y)\n  File \"C:\\Users\\atago\\.conda\\envs\\newConda\\lib\\site-packages\\sklearn\\utils\\validation.py\", line 397, in check_consistent_length\n    raise ValueError(\nValueError: Found input variables with inconsistent numbers of samples: [1, 1558316]\n\n--------------------------------------------------------------------------------\n6 fits failed with the following error:\nTraceback (most recent call last):\n  File \"C:\\Users\\atago\\.conda\\envs\\newConda\\lib\\site-packages\\sklearn\\model_selection\\_validation.py\", line 686, in _fit_and_score\n    estimator.fit(X_train, y_train, **fit_params)\n  File \"C:\\Users\\atago\\.conda\\envs\\newConda\\lib\\site-packages\\sklearn\\pipeline.py\", line 405, in fit\n    self._final_estimator.fit(Xt, y, **fit_params_last_step)\n  File \"C:\\Users\\atago\\.conda\\envs\\newConda\\lib\\site-packages\\sklearn\\linear_model\\_logistic.py\", line 1196, in fit\n    X, y = self._validate_data(\n  File \"C:\\Users\\atago\\.conda\\envs\\newConda\\lib\\site-packages\\sklearn\\base.py\", line 584, in _validate_data\n    X, y = check_X_y(X, y, **check_params)\n  File \"C:\\Users\\atago\\.conda\\envs\\newConda\\lib\\site-packages\\sklearn\\utils\\validation.py\", line 1124, in check_X_y\n    check_consistent_length(X, y)\n  File \"C:\\Users\\atago\\.conda\\envs\\newConda\\lib\\site-packages\\sklearn\\utils\\validation.py\", line 397, in check_consistent_length\n    raise ValueError(\nValueError: Found input variables with inconsistent numbers of samples: [1, 2077754]\n\n--------------------------------------------------------------------------------\n6 fits failed with the following error:\nTraceback (most recent call last):\n  File \"C:\\Users\\atago\\.conda\\envs\\newConda\\lib\\site-packages\\sklearn\\model_selection\\_validation.py\", line 686, in _fit_and_score\n    estimator.fit(X_train, y_train, **fit_params)\n  File \"C:\\Users\\atago\\.conda\\envs\\newConda\\lib\\site-packages\\sklearn\\pipeline.py\", line 405, in fit\n    self._final_estimator.fit(Xt, y, **fit_params_last_step)\n  File \"C:\\Users\\atago\\.conda\\envs\\newConda\\lib\\site-packages\\sklearn\\linear_model\\_logistic.py\", line 1196, in fit\n    X, y = self._validate_data(\n  File \"C:\\Users\\atago\\.conda\\envs\\newConda\\lib\\site-packages\\sklearn\\base.py\", line 584, in _validate_data\n    X, y = check_X_y(X, y, **check_params)\n  File \"C:\\Users\\atago\\.conda\\envs\\newConda\\lib\\site-packages\\sklearn\\utils\\validation.py\", line 1124, in check_X_y\n    check_consistent_length(X, y)\n  File \"C:\\Users\\atago\\.conda\\envs\\newConda\\lib\\site-packages\\sklearn\\utils\\validation.py\", line 397, in check_consistent_length\n    raise ValueError(\nValueError: Found input variables with inconsistent numbers of samples: [1, 2597192]\n",
     "output_type": "error",
     "traceback": [
      "\u001B[1;31m---------------------------------------------------------------------------\u001B[0m",
      "\u001B[1;31mValueError\u001B[0m                                Traceback (most recent call last)",
      "Cell \u001B[1;32mIn[60], line 21\u001B[0m\n\u001B[0;32m     14\u001B[0m grid_search \u001B[38;5;241m=\u001B[39m GridSearchCV(\n\u001B[0;32m     15\u001B[0m     gridsearch_pipeline,\n\u001B[0;32m     16\u001B[0m     parameters,\n\u001B[0;32m     17\u001B[0m     cv\u001B[38;5;241m=\u001B[39mTimeSeriesSplit(n_splits\u001B[38;5;241m=\u001B[39m\u001B[38;5;241m5\u001B[39m)\n\u001B[0;32m     18\u001B[0m )\n\u001B[0;32m     20\u001B[0m \u001B[38;5;66;03m# Dopasowanie modelu GridSearchCV do danych treningowych\u001B[39;00m\n\u001B[1;32m---> 21\u001B[0m \u001B[43mgrid_search\u001B[49m\u001B[38;5;241;43m.\u001B[39;49m\u001B[43mfit\u001B[49m\u001B[43m(\u001B[49m\u001B[43mX_train\u001B[49m\u001B[43m,\u001B[49m\u001B[43m \u001B[49m\u001B[43my_train\u001B[49m\u001B[43m)\u001B[49m\n\u001B[0;32m     23\u001B[0m \u001B[38;5;66;03m# Najlepsze znalezione parametry\u001B[39;00m\n\u001B[0;32m     24\u001B[0m best_params \u001B[38;5;241m=\u001B[39m grid_search\u001B[38;5;241m.\u001B[39mbest_params_\n",
      "File \u001B[1;32m~\\.conda\\envs\\newConda\\lib\\site-packages\\sklearn\\model_selection\\_search.py:874\u001B[0m, in \u001B[0;36mBaseSearchCV.fit\u001B[1;34m(self, X, y, groups, **fit_params)\u001B[0m\n\u001B[0;32m    868\u001B[0m     results \u001B[38;5;241m=\u001B[39m \u001B[38;5;28mself\u001B[39m\u001B[38;5;241m.\u001B[39m_format_results(\n\u001B[0;32m    869\u001B[0m         all_candidate_params, n_splits, all_out, all_more_results\n\u001B[0;32m    870\u001B[0m     )\n\u001B[0;32m    872\u001B[0m     \u001B[38;5;28;01mreturn\u001B[39;00m results\n\u001B[1;32m--> 874\u001B[0m \u001B[38;5;28;43mself\u001B[39;49m\u001B[38;5;241;43m.\u001B[39;49m\u001B[43m_run_search\u001B[49m\u001B[43m(\u001B[49m\u001B[43mevaluate_candidates\u001B[49m\u001B[43m)\u001B[49m\n\u001B[0;32m    876\u001B[0m \u001B[38;5;66;03m# multimetric is determined here because in the case of a callable\u001B[39;00m\n\u001B[0;32m    877\u001B[0m \u001B[38;5;66;03m# self.scoring the return type is only known after calling\u001B[39;00m\n\u001B[0;32m    878\u001B[0m first_test_score \u001B[38;5;241m=\u001B[39m all_out[\u001B[38;5;241m0\u001B[39m][\u001B[38;5;124m\"\u001B[39m\u001B[38;5;124mtest_scores\u001B[39m\u001B[38;5;124m\"\u001B[39m]\n",
      "File \u001B[1;32m~\\.conda\\envs\\newConda\\lib\\site-packages\\sklearn\\model_selection\\_search.py:1388\u001B[0m, in \u001B[0;36mGridSearchCV._run_search\u001B[1;34m(self, evaluate_candidates)\u001B[0m\n\u001B[0;32m   1386\u001B[0m \u001B[38;5;28;01mdef\u001B[39;00m \u001B[38;5;21m_run_search\u001B[39m(\u001B[38;5;28mself\u001B[39m, evaluate_candidates):\n\u001B[0;32m   1387\u001B[0m \u001B[38;5;250m    \u001B[39m\u001B[38;5;124;03m\"\"\"Search all candidates in param_grid\"\"\"\u001B[39;00m\n\u001B[1;32m-> 1388\u001B[0m     \u001B[43mevaluate_candidates\u001B[49m\u001B[43m(\u001B[49m\u001B[43mParameterGrid\u001B[49m\u001B[43m(\u001B[49m\u001B[38;5;28;43mself\u001B[39;49m\u001B[38;5;241;43m.\u001B[39;49m\u001B[43mparam_grid\u001B[49m\u001B[43m)\u001B[49m\u001B[43m)\u001B[49m\n",
      "File \u001B[1;32m~\\.conda\\envs\\newConda\\lib\\site-packages\\sklearn\\model_selection\\_search.py:851\u001B[0m, in \u001B[0;36mBaseSearchCV.fit.<locals>.evaluate_candidates\u001B[1;34m(candidate_params, cv, more_results)\u001B[0m\n\u001B[0;32m    844\u001B[0m \u001B[38;5;28;01melif\u001B[39;00m \u001B[38;5;28mlen\u001B[39m(out) \u001B[38;5;241m!=\u001B[39m n_candidates \u001B[38;5;241m*\u001B[39m n_splits:\n\u001B[0;32m    845\u001B[0m     \u001B[38;5;28;01mraise\u001B[39;00m \u001B[38;5;167;01mValueError\u001B[39;00m(\n\u001B[0;32m    846\u001B[0m         \u001B[38;5;124m\"\u001B[39m\u001B[38;5;124mcv.split and cv.get_n_splits returned \u001B[39m\u001B[38;5;124m\"\u001B[39m\n\u001B[0;32m    847\u001B[0m         \u001B[38;5;124m\"\u001B[39m\u001B[38;5;124minconsistent results. Expected \u001B[39m\u001B[38;5;132;01m{}\u001B[39;00m\u001B[38;5;124m \u001B[39m\u001B[38;5;124m\"\u001B[39m\n\u001B[0;32m    848\u001B[0m         \u001B[38;5;124m\"\u001B[39m\u001B[38;5;124msplits, got \u001B[39m\u001B[38;5;132;01m{}\u001B[39;00m\u001B[38;5;124m\"\u001B[39m\u001B[38;5;241m.\u001B[39mformat(n_splits, \u001B[38;5;28mlen\u001B[39m(out) \u001B[38;5;241m/\u001B[39m\u001B[38;5;241m/\u001B[39m n_candidates)\n\u001B[0;32m    849\u001B[0m     )\n\u001B[1;32m--> 851\u001B[0m \u001B[43m_warn_or_raise_about_fit_failures\u001B[49m\u001B[43m(\u001B[49m\u001B[43mout\u001B[49m\u001B[43m,\u001B[49m\u001B[43m \u001B[49m\u001B[38;5;28;43mself\u001B[39;49m\u001B[38;5;241;43m.\u001B[39;49m\u001B[43merror_score\u001B[49m\u001B[43m)\u001B[49m\n\u001B[0;32m    853\u001B[0m \u001B[38;5;66;03m# For callable self.scoring, the return type is only know after\u001B[39;00m\n\u001B[0;32m    854\u001B[0m \u001B[38;5;66;03m# calling. If the return type is a dictionary, the error scores\u001B[39;00m\n\u001B[0;32m    855\u001B[0m \u001B[38;5;66;03m# can now be inserted with the correct key. The type checking\u001B[39;00m\n\u001B[0;32m    856\u001B[0m \u001B[38;5;66;03m# of out will be done in `_insert_error_scores`.\u001B[39;00m\n\u001B[0;32m    857\u001B[0m \u001B[38;5;28;01mif\u001B[39;00m \u001B[38;5;28mcallable\u001B[39m(\u001B[38;5;28mself\u001B[39m\u001B[38;5;241m.\u001B[39mscoring):\n",
      "File \u001B[1;32m~\\.conda\\envs\\newConda\\lib\\site-packages\\sklearn\\model_selection\\_validation.py:367\u001B[0m, in \u001B[0;36m_warn_or_raise_about_fit_failures\u001B[1;34m(results, error_score)\u001B[0m\n\u001B[0;32m    360\u001B[0m \u001B[38;5;28;01mif\u001B[39;00m num_failed_fits \u001B[38;5;241m==\u001B[39m num_fits:\n\u001B[0;32m    361\u001B[0m     all_fits_failed_message \u001B[38;5;241m=\u001B[39m (\n\u001B[0;32m    362\u001B[0m         \u001B[38;5;124mf\u001B[39m\u001B[38;5;124m\"\u001B[39m\u001B[38;5;130;01m\\n\u001B[39;00m\u001B[38;5;124mAll the \u001B[39m\u001B[38;5;132;01m{\u001B[39;00mnum_fits\u001B[38;5;132;01m}\u001B[39;00m\u001B[38;5;124m fits failed.\u001B[39m\u001B[38;5;130;01m\\n\u001B[39;00m\u001B[38;5;124m\"\u001B[39m\n\u001B[0;32m    363\u001B[0m         \u001B[38;5;124m\"\u001B[39m\u001B[38;5;124mIt is very likely that your model is misconfigured.\u001B[39m\u001B[38;5;130;01m\\n\u001B[39;00m\u001B[38;5;124m\"\u001B[39m\n\u001B[0;32m    364\u001B[0m         \u001B[38;5;124m\"\u001B[39m\u001B[38;5;124mYou can try to debug the error by setting error_score=\u001B[39m\u001B[38;5;124m'\u001B[39m\u001B[38;5;124mraise\u001B[39m\u001B[38;5;124m'\u001B[39m\u001B[38;5;124m.\u001B[39m\u001B[38;5;130;01m\\n\u001B[39;00m\u001B[38;5;130;01m\\n\u001B[39;00m\u001B[38;5;124m\"\u001B[39m\n\u001B[0;32m    365\u001B[0m         \u001B[38;5;124mf\u001B[39m\u001B[38;5;124m\"\u001B[39m\u001B[38;5;124mBelow are more details about the failures:\u001B[39m\u001B[38;5;130;01m\\n\u001B[39;00m\u001B[38;5;132;01m{\u001B[39;00mfit_errors_summary\u001B[38;5;132;01m}\u001B[39;00m\u001B[38;5;124m\"\u001B[39m\n\u001B[0;32m    366\u001B[0m     )\n\u001B[1;32m--> 367\u001B[0m     \u001B[38;5;28;01mraise\u001B[39;00m \u001B[38;5;167;01mValueError\u001B[39;00m(all_fits_failed_message)\n\u001B[0;32m    369\u001B[0m \u001B[38;5;28;01melse\u001B[39;00m:\n\u001B[0;32m    370\u001B[0m     some_fits_failed_message \u001B[38;5;241m=\u001B[39m (\n\u001B[0;32m    371\u001B[0m         \u001B[38;5;124mf\u001B[39m\u001B[38;5;124m\"\u001B[39m\u001B[38;5;130;01m\\n\u001B[39;00m\u001B[38;5;132;01m{\u001B[39;00mnum_failed_fits\u001B[38;5;132;01m}\u001B[39;00m\u001B[38;5;124m fits failed out of a total of \u001B[39m\u001B[38;5;132;01m{\u001B[39;00mnum_fits\u001B[38;5;132;01m}\u001B[39;00m\u001B[38;5;124m.\u001B[39m\u001B[38;5;130;01m\\n\u001B[39;00m\u001B[38;5;124m\"\u001B[39m\n\u001B[0;32m    372\u001B[0m         \u001B[38;5;124m\"\u001B[39m\u001B[38;5;124mThe score on these train-test partitions for these parameters\u001B[39m\u001B[38;5;124m\"\u001B[39m\n\u001B[1;32m   (...)\u001B[0m\n\u001B[0;32m    376\u001B[0m         \u001B[38;5;124mf\u001B[39m\u001B[38;5;124m\"\u001B[39m\u001B[38;5;124mBelow are more details about the failures:\u001B[39m\u001B[38;5;130;01m\\n\u001B[39;00m\u001B[38;5;132;01m{\u001B[39;00mfit_errors_summary\u001B[38;5;132;01m}\u001B[39;00m\u001B[38;5;124m\"\u001B[39m\n\u001B[0;32m    377\u001B[0m     )\n",
      "\u001B[1;31mValueError\u001B[0m: \nAll the 30 fits failed.\nIt is very likely that your model is misconfigured.\nYou can try to debug the error by setting error_score='raise'.\n\nBelow are more details about the failures:\n--------------------------------------------------------------------------------\n6 fits failed with the following error:\nTraceback (most recent call last):\n  File \"C:\\Users\\atago\\.conda\\envs\\newConda\\lib\\site-packages\\sklearn\\model_selection\\_validation.py\", line 686, in _fit_and_score\n    estimator.fit(X_train, y_train, **fit_params)\n  File \"C:\\Users\\atago\\.conda\\envs\\newConda\\lib\\site-packages\\sklearn\\pipeline.py\", line 405, in fit\n    self._final_estimator.fit(Xt, y, **fit_params_last_step)\n  File \"C:\\Users\\atago\\.conda\\envs\\newConda\\lib\\site-packages\\sklearn\\linear_model\\_logistic.py\", line 1196, in fit\n    X, y = self._validate_data(\n  File \"C:\\Users\\atago\\.conda\\envs\\newConda\\lib\\site-packages\\sklearn\\base.py\", line 584, in _validate_data\n    X, y = check_X_y(X, y, **check_params)\n  File \"C:\\Users\\atago\\.conda\\envs\\newConda\\lib\\site-packages\\sklearn\\utils\\validation.py\", line 1124, in check_X_y\n    check_consistent_length(X, y)\n  File \"C:\\Users\\atago\\.conda\\envs\\newConda\\lib\\site-packages\\sklearn\\utils\\validation.py\", line 397, in check_consistent_length\n    raise ValueError(\nValueError: Found input variables with inconsistent numbers of samples: [1, 519440]\n\n--------------------------------------------------------------------------------\n6 fits failed with the following error:\nTraceback (most recent call last):\n  File \"C:\\Users\\atago\\.conda\\envs\\newConda\\lib\\site-packages\\sklearn\\model_selection\\_validation.py\", line 686, in _fit_and_score\n    estimator.fit(X_train, y_train, **fit_params)\n  File \"C:\\Users\\atago\\.conda\\envs\\newConda\\lib\\site-packages\\sklearn\\pipeline.py\", line 405, in fit\n    self._final_estimator.fit(Xt, y, **fit_params_last_step)\n  File \"C:\\Users\\atago\\.conda\\envs\\newConda\\lib\\site-packages\\sklearn\\linear_model\\_logistic.py\", line 1196, in fit\n    X, y = self._validate_data(\n  File \"C:\\Users\\atago\\.conda\\envs\\newConda\\lib\\site-packages\\sklearn\\base.py\", line 584, in _validate_data\n    X, y = check_X_y(X, y, **check_params)\n  File \"C:\\Users\\atago\\.conda\\envs\\newConda\\lib\\site-packages\\sklearn\\utils\\validation.py\", line 1124, in check_X_y\n    check_consistent_length(X, y)\n  File \"C:\\Users\\atago\\.conda\\envs\\newConda\\lib\\site-packages\\sklearn\\utils\\validation.py\", line 397, in check_consistent_length\n    raise ValueError(\nValueError: Found input variables with inconsistent numbers of samples: [1, 1038878]\n\n--------------------------------------------------------------------------------\n6 fits failed with the following error:\nTraceback (most recent call last):\n  File \"C:\\Users\\atago\\.conda\\envs\\newConda\\lib\\site-packages\\sklearn\\model_selection\\_validation.py\", line 686, in _fit_and_score\n    estimator.fit(X_train, y_train, **fit_params)\n  File \"C:\\Users\\atago\\.conda\\envs\\newConda\\lib\\site-packages\\sklearn\\pipeline.py\", line 405, in fit\n    self._final_estimator.fit(Xt, y, **fit_params_last_step)\n  File \"C:\\Users\\atago\\.conda\\envs\\newConda\\lib\\site-packages\\sklearn\\linear_model\\_logistic.py\", line 1196, in fit\n    X, y = self._validate_data(\n  File \"C:\\Users\\atago\\.conda\\envs\\newConda\\lib\\site-packages\\sklearn\\base.py\", line 584, in _validate_data\n    X, y = check_X_y(X, y, **check_params)\n  File \"C:\\Users\\atago\\.conda\\envs\\newConda\\lib\\site-packages\\sklearn\\utils\\validation.py\", line 1124, in check_X_y\n    check_consistent_length(X, y)\n  File \"C:\\Users\\atago\\.conda\\envs\\newConda\\lib\\site-packages\\sklearn\\utils\\validation.py\", line 397, in check_consistent_length\n    raise ValueError(\nValueError: Found input variables with inconsistent numbers of samples: [1, 1558316]\n\n--------------------------------------------------------------------------------\n6 fits failed with the following error:\nTraceback (most recent call last):\n  File \"C:\\Users\\atago\\.conda\\envs\\newConda\\lib\\site-packages\\sklearn\\model_selection\\_validation.py\", line 686, in _fit_and_score\n    estimator.fit(X_train, y_train, **fit_params)\n  File \"C:\\Users\\atago\\.conda\\envs\\newConda\\lib\\site-packages\\sklearn\\pipeline.py\", line 405, in fit\n    self._final_estimator.fit(Xt, y, **fit_params_last_step)\n  File \"C:\\Users\\atago\\.conda\\envs\\newConda\\lib\\site-packages\\sklearn\\linear_model\\_logistic.py\", line 1196, in fit\n    X, y = self._validate_data(\n  File \"C:\\Users\\atago\\.conda\\envs\\newConda\\lib\\site-packages\\sklearn\\base.py\", line 584, in _validate_data\n    X, y = check_X_y(X, y, **check_params)\n  File \"C:\\Users\\atago\\.conda\\envs\\newConda\\lib\\site-packages\\sklearn\\utils\\validation.py\", line 1124, in check_X_y\n    check_consistent_length(X, y)\n  File \"C:\\Users\\atago\\.conda\\envs\\newConda\\lib\\site-packages\\sklearn\\utils\\validation.py\", line 397, in check_consistent_length\n    raise ValueError(\nValueError: Found input variables with inconsistent numbers of samples: [1, 2077754]\n\n--------------------------------------------------------------------------------\n6 fits failed with the following error:\nTraceback (most recent call last):\n  File \"C:\\Users\\atago\\.conda\\envs\\newConda\\lib\\site-packages\\sklearn\\model_selection\\_validation.py\", line 686, in _fit_and_score\n    estimator.fit(X_train, y_train, **fit_params)\n  File \"C:\\Users\\atago\\.conda\\envs\\newConda\\lib\\site-packages\\sklearn\\pipeline.py\", line 405, in fit\n    self._final_estimator.fit(Xt, y, **fit_params_last_step)\n  File \"C:\\Users\\atago\\.conda\\envs\\newConda\\lib\\site-packages\\sklearn\\linear_model\\_logistic.py\", line 1196, in fit\n    X, y = self._validate_data(\n  File \"C:\\Users\\atago\\.conda\\envs\\newConda\\lib\\site-packages\\sklearn\\base.py\", line 584, in _validate_data\n    X, y = check_X_y(X, y, **check_params)\n  File \"C:\\Users\\atago\\.conda\\envs\\newConda\\lib\\site-packages\\sklearn\\utils\\validation.py\", line 1124, in check_X_y\n    check_consistent_length(X, y)\n  File \"C:\\Users\\atago\\.conda\\envs\\newConda\\lib\\site-packages\\sklearn\\utils\\validation.py\", line 397, in check_consistent_length\n    raise ValueError(\nValueError: Found input variables with inconsistent numbers of samples: [1, 2597192]\n"
     ]
    }
   ],
   "source": [
    "# Definicja parametrów do sprawdzenia\n",
    "parameters = {\n",
    "    'tfidf__max_features': [1000, 5000],  # Liczba najważniejszych cech\n",
    "    'model__C': [0.1, 1, 10],  # Parametr regularyzacji\n",
    "}\n",
    "\n",
    "# Tworzenie pipeline'u z TfidfVectorizer i LogisticRegression\n",
    "gridsearch_pipeline = Pipeline([\n",
    "    ('tfidf', TfidfVectorizer()),\n",
    "    ('model', LogisticRegression())\n",
    "])\n",
    "\n",
    "# Utworzenie obiektu GridSearchCV z kroswalidacją uwzględniającą chronologię\n",
    "grid_search = GridSearchCV(\n",
    "    gridsearch_pipeline,\n",
    "    parameters,\n",
    "    cv=TimeSeriesSplit(n_splits=5)\n",
    ")\n",
    "\n",
    "# Dopasowanie modelu GridSearchCV do danych treningowych\n",
    "grid_search.fit(X_train, y_train)\n",
    "\n",
    "# Najlepsze znalezione parametry\n",
    "best_params = grid_search.best_params_\n",
    "print(\"Najlepsze parametry:\", best_params)\n",
    "\n",
    "# Ocena najlepszego modelu na danych testowych\n",
    "accuracy = grid_search.score(X_test, y_test)\n",
    "print(\"Dokładność na danych testowych:\", accuracy)\n",
    "\n",
    "# Utworzenie obiektu GridSearchCV\n",
    "grid_search = GridSearchCV(estimator=test_pipe, param_grid=parameters, cv=5)\n",
    "\n",
    "# Dopasowanie modelu grid search do danych\n",
    "grid_search.fit(X_train['text'], y_train['bitcoin_trend'])\n",
    "\n",
    "# Najlepsze parametry i wynik\n",
    "print(\"Najlepsze parametry: \", grid_search.best_params_)\n",
    "print(\"Najlepszy wynik: \", grid_search.best_score_)"
   ],
   "metadata": {
    "collapsed": false,
    "ExecuteTime": {
     "end_time": "2023-05-25T10:35:29.552368900Z",
     "start_time": "2023-05-25T10:35:14.111052Z"
    }
   }
  },
  {
   "cell_type": "code",
   "execution_count": null,
   "outputs": [],
   "source": [
    "# Parametry do przetestowania w grid search\n",
    "parameters = {\n",
    "    'tfidf_vectorizer__ngram_range': [(1, 1), (1, 2), (2, 2)],\n",
    "    'tfidf_vectorizer__min_df': [0.1, 0.2, 0.3],\n",
    "    'tfidf_vectorizer__max_df': [0.5, 0.75, 1.0],\n",
    "    'model__C': [0.1, 1, 10]\n",
    "}"
   ],
   "metadata": {
    "collapsed": false
   }
  },
  {
   "cell_type": "markdown",
   "source": [
    "Klasyfikator 3: LSTM"
   ],
   "metadata": {
    "collapsed": false
   }
  },
  {
   "cell_type": "code",
   "execution_count": null,
   "outputs": [],
   "source": [],
   "metadata": {
    "collapsed": false
   }
  }
 ],
 "metadata": {
  "kernelspec": {
   "display_name": "Python 3",
   "language": "python",
   "name": "python3"
  },
  "language_info": {
   "codemirror_mode": {
    "name": "ipython",
    "version": 2
   },
   "file_extension": ".py",
   "mimetype": "text/x-python",
   "name": "python",
   "nbconvert_exporter": "python",
   "pygments_lexer": "ipython2",
   "version": "2.7.6"
  }
 },
 "nbformat": 4,
 "nbformat_minor": 0
}
